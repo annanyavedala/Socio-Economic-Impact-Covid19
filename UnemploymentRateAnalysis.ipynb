{
  "nbformat": 4,
  "nbformat_minor": 0,
  "metadata": {
    "colab": {
      "name": "UnemploymentRateAnalysis.ipynb",
      "provenance": [],
      "authorship_tag": "ABX9TyNmOfYs+N4nFukDP16t23ei",
      "include_colab_link": true
    },
    "kernelspec": {
      "name": "python3",
      "display_name": "Python 3"
    },
    "language_info": {
      "name": "python"
    }
  },
  "cells": [
    {
      "cell_type": "markdown",
      "metadata": {
        "id": "view-in-github",
        "colab_type": "text"
      },
      "source": [
        "<a href=\"https://colab.research.google.com/github/AnnanyaV/Socio-Economic-Impact-of-Covid19/blob/main/UnemploymentRateAnalysis.ipynb\" target=\"_parent\"><img src=\"https://colab.research.google.com/assets/colab-badge.svg\" alt=\"Open In Colab\"/></a>"
      ]
    },
    {
      "cell_type": "code",
      "metadata": {
        "id": "muLvxOoHyAF6"
      },
      "source": [
        "import pandas as pd\n",
        "import numpy as np\n",
        "import matplotlib.pyplot as plt\n",
        "import seaborn as sns\n",
        "import plotly.express as px\n",
        "import datetime"
      ],
      "execution_count": 1,
      "outputs": []
    },
    {
      "cell_type": "code",
      "metadata": {
        "colab": {
          "base_uri": "https://localhost:8080/",
          "height": 359
        },
        "id": "oxQK68Giyv8Z",
        "outputId": "8a355b58-bd78-4c62-8b22-231d58d96f1c"
      },
      "source": [
        "df = pd.read_csv('/content/Unemployment_Rate.csv', parse_dates=['Date'])\n",
        "df.head(10)"
      ],
      "execution_count": 2,
      "outputs": [
        {
          "output_type": "execute_result",
          "data": {
            "text/html": [
              "<div>\n",
              "<style scoped>\n",
              "    .dataframe tbody tr th:only-of-type {\n",
              "        vertical-align: middle;\n",
              "    }\n",
              "\n",
              "    .dataframe tbody tr th {\n",
              "        vertical-align: top;\n",
              "    }\n",
              "\n",
              "    .dataframe thead th {\n",
              "        text-align: right;\n",
              "    }\n",
              "</style>\n",
              "<table border=\"1\" class=\"dataframe\">\n",
              "  <thead>\n",
              "    <tr style=\"text-align: right;\">\n",
              "      <th></th>\n",
              "      <th>Region</th>\n",
              "      <th>Date</th>\n",
              "      <th>Frequency</th>\n",
              "      <th>Estimated Unemployment Rate (%)</th>\n",
              "      <th>Estimated Employed</th>\n",
              "      <th>Estimated Labour Participation Rate (%)</th>\n",
              "    </tr>\n",
              "  </thead>\n",
              "  <tbody>\n",
              "    <tr>\n",
              "      <th>0</th>\n",
              "      <td>Andhra Pradesh</td>\n",
              "      <td>2016-01-31</td>\n",
              "      <td>M</td>\n",
              "      <td>17.91</td>\n",
              "      <td>20626291</td>\n",
              "      <td>62.67</td>\n",
              "    </tr>\n",
              "    <tr>\n",
              "      <th>1</th>\n",
              "      <td>Andhra Pradesh</td>\n",
              "      <td>2016-02-29</td>\n",
              "      <td>M</td>\n",
              "      <td>9.98</td>\n",
              "      <td>19334918</td>\n",
              "      <td>53.50</td>\n",
              "    </tr>\n",
              "    <tr>\n",
              "      <th>2</th>\n",
              "      <td>Andhra Pradesh</td>\n",
              "      <td>2016-03-31</td>\n",
              "      <td>M</td>\n",
              "      <td>10.72</td>\n",
              "      <td>19646970</td>\n",
              "      <td>54.73</td>\n",
              "    </tr>\n",
              "    <tr>\n",
              "      <th>3</th>\n",
              "      <td>Andhra Pradesh</td>\n",
              "      <td>2016-04-30</td>\n",
              "      <td>M</td>\n",
              "      <td>5.51</td>\n",
              "      <td>18929583</td>\n",
              "      <td>49.76</td>\n",
              "    </tr>\n",
              "    <tr>\n",
              "      <th>4</th>\n",
              "      <td>Andhra Pradesh</td>\n",
              "      <td>2016-05-31</td>\n",
              "      <td>M</td>\n",
              "      <td>6.29</td>\n",
              "      <td>21163390</td>\n",
              "      <td>56.02</td>\n",
              "    </tr>\n",
              "    <tr>\n",
              "      <th>5</th>\n",
              "      <td>Andhra Pradesh</td>\n",
              "      <td>2016-06-30</td>\n",
              "      <td>M</td>\n",
              "      <td>4.51</td>\n",
              "      <td>18431598</td>\n",
              "      <td>47.81</td>\n",
              "    </tr>\n",
              "    <tr>\n",
              "      <th>6</th>\n",
              "      <td>Andhra Pradesh</td>\n",
              "      <td>2016-07-31</td>\n",
              "      <td>M</td>\n",
              "      <td>4.87</td>\n",
              "      <td>19486726</td>\n",
              "      <td>50.67</td>\n",
              "    </tr>\n",
              "    <tr>\n",
              "      <th>7</th>\n",
              "      <td>Andhra Pradesh</td>\n",
              "      <td>2016-08-31</td>\n",
              "      <td>M</td>\n",
              "      <td>4.03</td>\n",
              "      <td>18826519</td>\n",
              "      <td>48.45</td>\n",
              "    </tr>\n",
              "    <tr>\n",
              "      <th>8</th>\n",
              "      <td>Andhra Pradesh</td>\n",
              "      <td>2016-09-30</td>\n",
              "      <td>M</td>\n",
              "      <td>7.60</td>\n",
              "      <td>19863483</td>\n",
              "      <td>53.02</td>\n",
              "    </tr>\n",
              "    <tr>\n",
              "      <th>9</th>\n",
              "      <td>Andhra Pradesh</td>\n",
              "      <td>2016-10-31</td>\n",
              "      <td>M</td>\n",
              "      <td>10.06</td>\n",
              "      <td>19151488</td>\n",
              "      <td>52.44</td>\n",
              "    </tr>\n",
              "  </tbody>\n",
              "</table>\n",
              "</div>"
            ],
            "text/plain": [
              "           Region  ... Estimated Labour Participation Rate (%)\n",
              "0  Andhra Pradesh  ...                                   62.67\n",
              "1  Andhra Pradesh  ...                                   53.50\n",
              "2  Andhra Pradesh  ...                                   54.73\n",
              "3  Andhra Pradesh  ...                                   49.76\n",
              "4  Andhra Pradesh  ...                                   56.02\n",
              "5  Andhra Pradesh  ...                                   47.81\n",
              "6  Andhra Pradesh  ...                                   50.67\n",
              "7  Andhra Pradesh  ...                                   48.45\n",
              "8  Andhra Pradesh  ...                                   53.02\n",
              "9  Andhra Pradesh  ...                                   52.44\n",
              "\n",
              "[10 rows x 6 columns]"
            ]
          },
          "metadata": {
            "tags": []
          },
          "execution_count": 2
        }
      ]
    },
    {
      "cell_type": "code",
      "metadata": {
        "colab": {
          "base_uri": "https://localhost:8080/"
        },
        "id": "vOMCDYtOy4wf",
        "outputId": "2c26ded2-6193-4e29-b549-dd073022fbef"
      },
      "source": [
        "df.Region.value_counts()"
      ],
      "execution_count": 3,
      "outputs": [
        {
          "output_type": "execute_result",
          "data": {
            "text/plain": [
              "Bihar               66\n",
              "Haryana             66\n",
              "Chhattisgarh        66\n",
              "Delhi               66\n",
              "Rajasthan           66\n",
              "Maharashtra         66\n",
              "Madhya Pradesh      66\n",
              "Odisha              66\n",
              "Himachal Pradesh    66\n",
              "Uttarakhand         66\n",
              "Tamil Nadu          66\n",
              "India               66\n",
              "Andhra Pradesh      66\n",
              "Kerala              66\n",
              "Telangana           66\n",
              "Gujarat             66\n",
              "Uttar Pradesh       66\n",
              "Puducherry          66\n",
              "Assam               66\n",
              "Punjab              66\n",
              "Jharkhand           66\n",
              "West Bengal         66\n",
              "Karnataka           66\n",
              "Goa                 65\n",
              "Jammu & Kashmir     65\n",
              "Tripura             45\n",
              "Meghalaya           42\n",
              "Sikkim              31\n",
              "Name: Region, dtype: int64"
            ]
          },
          "metadata": {
            "tags": []
          },
          "execution_count": 3
        }
      ]
    },
    {
      "cell_type": "code",
      "metadata": {
        "colab": {
          "base_uri": "https://localhost:8080/"
        },
        "id": "nPoNwbajzA8i",
        "outputId": "31983705-9bd1-4a45-ff5e-7fb532bc4e34"
      },
      "source": [
        "df.columns"
      ],
      "execution_count": 4,
      "outputs": [
        {
          "output_type": "execute_result",
          "data": {
            "text/plain": [
              "Index(['Region', 'Date', 'Frequency', 'Estimated Unemployment Rate (%)',\n",
              "       'Estimated Employed', 'Estimated Labour Participation Rate (%)'],\n",
              "      dtype='object')"
            ]
          },
          "metadata": {
            "tags": []
          },
          "execution_count": 4
        }
      ]
    },
    {
      "cell_type": "code",
      "metadata": {
        "id": "X4-Hp9YnzDy5"
      },
      "source": [
        "df_india = df.loc[df['Region'] == 'India']"
      ],
      "execution_count": 5,
      "outputs": []
    },
    {
      "cell_type": "code",
      "metadata": {
        "colab": {
          "base_uri": "https://localhost:8080/",
          "height": 265
        },
        "id": "IcfDJNAVzHH7",
        "outputId": "45a3764f-67fb-4286-e57a-9101fa0afc30"
      },
      "source": [
        "x=df_india['Date']\n",
        "plt.plot(x, df_india['Estimated Unemployment Rate (%)'])\n",
        "\n",
        "plt.show()\n"
      ],
      "execution_count": 6,
      "outputs": [
        {
          "output_type": "display_data",
          "data": {
            "image/png": "[encoded data removed]",
            "text/plain": [
              "<Figure size 432x288 with 1 Axes>"
            ]
          },
          "metadata": {
            "tags": [],
            "needs_background": "light"
          }
        }
      ]
    },
    {
      "cell_type": "code",
      "metadata": {
        "colab": {
          "base_uri": "https://localhost:8080/",
          "height": 142
        },
        "id": "EaHIokr-07E6",
        "outputId": "21d6e198-111e-4f49-9525-f858d5562cb1"
      },
      "source": [
        "df_stats = df[['Estimated Unemployment Rate (%)',\n",
        "       'Estimated Employed', 'Estimated Labour Participation Rate (%)']]\n",
        "\n",
        "round(df_stats.describe().T, 2)"
      ],
      "execution_count": 7,
      "outputs": [
        {
          "output_type": "execute_result",
          "data": {
            "text/html": [
              "<div>\n",
              "<style scoped>\n",
              "    .dataframe tbody tr th:only-of-type {\n",
              "        vertical-align: middle;\n",
              "    }\n",
              "\n",
              "    .dataframe tbody tr th {\n",
              "        vertical-align: top;\n",
              "    }\n",
              "\n",
              "    .dataframe thead th {\n",
              "        text-align: right;\n",
              "    }\n",
              "</style>\n",
              "<table border=\"1\" class=\"dataframe\">\n",
              "  <thead>\n",
              "    <tr style=\"text-align: right;\">\n",
              "      <th></th>\n",
              "      <th>count</th>\n",
              "      <th>mean</th>\n",
              "      <th>std</th>\n",
              "      <th>min</th>\n",
              "      <th>25%</th>\n",
              "      <th>50%</th>\n",
              "      <th>75%</th>\n",
              "      <th>max</th>\n",
              "    </tr>\n",
              "  </thead>\n",
              "  <tbody>\n",
              "    <tr>\n",
              "      <th>Estimated Unemployment Rate (%)</th>\n",
              "      <td>1766.0</td>\n",
              "      <td>8.32</td>\n",
              "      <td>7.17</td>\n",
              "      <td>0.00</td>\n",
              "      <td>3.78</td>\n",
              "      <td>6.36</td>\n",
              "      <td>10.66</td>\n",
              "      <td>7.585000e+01</td>\n",
              "    </tr>\n",
              "    <tr>\n",
              "      <th>Estimated Employed</th>\n",
              "      <td>1766.0</td>\n",
              "      <td>29631283.66</td>\n",
              "      <td>74043981.48</td>\n",
              "      <td>117542.00</td>\n",
              "      <td>3779239.00</td>\n",
              "      <td>10934317.50</td>\n",
              "      <td>23580263.50</td>\n",
              "      <td>4.184635e+08</td>\n",
              "    </tr>\n",
              "    <tr>\n",
              "      <th>Estimated Labour Participation Rate (%)</th>\n",
              "      <td>1766.0</td>\n",
              "      <td>43.83</td>\n",
              "      <td>6.55</td>\n",
              "      <td>16.77</td>\n",
              "      <td>39.63</td>\n",
              "      <td>42.90</td>\n",
              "      <td>46.69</td>\n",
              "      <td>7.236000e+01</td>\n",
              "    </tr>\n",
              "  </tbody>\n",
              "</table>\n",
              "</div>"
            ],
            "text/plain": [
              "                                          count  ...           max\n",
              "Estimated Unemployment Rate (%)          1766.0  ...  7.585000e+01\n",
              "Estimated Employed                       1766.0  ...  4.184635e+08\n",
              "Estimated Labour Participation Rate (%)  1766.0  ...  7.236000e+01\n",
              "\n",
              "[3 rows x 8 columns]"
            ]
          },
          "metadata": {
            "tags": []
          },
          "execution_count": 7
        }
      ]
    },
    {
      "cell_type": "code",
      "metadata": {
        "colab": {
          "base_uri": "https://localhost:8080/",
          "height": 917
        },
        "id": "uEfLpugx1C52",
        "outputId": "fe6ea5ac-03a6-45c7-f751-50ef9c42f7d6"
      },
      "source": [
        "region_stats = df.groupby(['Region'])[['Estimated Unemployment Rate (%)','Estimated Employed',\n",
        "                                       'Estimated Labour Participation Rate (%)']].mean().reset_index()\n",
        "region_stats = round(region_stats,2)\n",
        "\n",
        "region_stats"
      ],
      "execution_count": 8,
      "outputs": [
        {
          "output_type": "execute_result",
          "data": {
            "text/html": [
              "<div>\n",
              "<style scoped>\n",
              "    .dataframe tbody tr th:only-of-type {\n",
              "        vertical-align: middle;\n",
              "    }\n",
              "\n",
              "    .dataframe tbody tr th {\n",
              "        vertical-align: top;\n",
              "    }\n",
              "\n",
              "    .dataframe thead th {\n",
              "        text-align: right;\n",
              "    }\n",
              "</style>\n",
              "<table border=\"1\" class=\"dataframe\">\n",
              "  <thead>\n",
              "    <tr style=\"text-align: right;\">\n",
              "      <th></th>\n",
              "      <th>Region</th>\n",
              "      <th>Estimated Unemployment Rate (%)</th>\n",
              "      <th>Estimated Employed</th>\n",
              "      <th>Estimated Labour Participation Rate (%)</th>\n",
              "    </tr>\n",
              "  </thead>\n",
              "  <tbody>\n",
              "    <tr>\n",
              "      <th>0</th>\n",
              "      <td>Andhra Pradesh</td>\n",
              "      <td>5.89</td>\n",
              "      <td>1.725024e+07</td>\n",
              "      <td>43.78</td>\n",
              "    </tr>\n",
              "    <tr>\n",
              "      <th>1</th>\n",
              "      <td>Assam</td>\n",
              "      <td>5.99</td>\n",
              "      <td>1.084703e+07</td>\n",
              "      <td>46.05</td>\n",
              "    </tr>\n",
              "    <tr>\n",
              "      <th>2</th>\n",
              "      <td>Bihar</td>\n",
              "      <td>10.05</td>\n",
              "      <td>2.690587e+07</td>\n",
              "      <td>39.58</td>\n",
              "    </tr>\n",
              "    <tr>\n",
              "      <th>3</th>\n",
              "      <td>Chhattisgarh</td>\n",
              "      <td>5.43</td>\n",
              "      <td>8.776053e+06</td>\n",
              "      <td>43.78</td>\n",
              "    </tr>\n",
              "    <tr>\n",
              "      <th>4</th>\n",
              "      <td>Delhi</td>\n",
              "      <td>11.68</td>\n",
              "      <td>5.274230e+06</td>\n",
              "      <td>39.74</td>\n",
              "    </tr>\n",
              "    <tr>\n",
              "      <th>5</th>\n",
              "      <td>Goa</td>\n",
              "      <td>10.04</td>\n",
              "      <td>5.210345e+05</td>\n",
              "      <td>46.07</td>\n",
              "    </tr>\n",
              "    <tr>\n",
              "      <th>6</th>\n",
              "      <td>Gujarat</td>\n",
              "      <td>4.18</td>\n",
              "      <td>2.279582e+07</td>\n",
              "      <td>46.50</td>\n",
              "    </tr>\n",
              "    <tr>\n",
              "      <th>7</th>\n",
              "      <td>Haryana</td>\n",
              "      <td>18.24</td>\n",
              "      <td>7.402275e+06</td>\n",
              "      <td>42.25</td>\n",
              "    </tr>\n",
              "    <tr>\n",
              "      <th>8</th>\n",
              "      <td>Himachal Pradesh</td>\n",
              "      <td>11.28</td>\n",
              "      <td>2.204305e+06</td>\n",
              "      <td>42.37</td>\n",
              "    </tr>\n",
              "    <tr>\n",
              "      <th>9</th>\n",
              "      <td>India</td>\n",
              "      <td>7.39</td>\n",
              "      <td>3.984847e+08</td>\n",
              "      <td>43.05</td>\n",
              "    </tr>\n",
              "    <tr>\n",
              "      <th>10</th>\n",
              "      <td>Jammu &amp; Kashmir</td>\n",
              "      <td>15.16</td>\n",
              "      <td>3.471567e+06</td>\n",
              "      <td>40.96</td>\n",
              "    </tr>\n",
              "    <tr>\n",
              "      <th>11</th>\n",
              "      <td>Jharkhand</td>\n",
              "      <td>10.48</td>\n",
              "      <td>9.442809e+06</td>\n",
              "      <td>41.06</td>\n",
              "    </tr>\n",
              "    <tr>\n",
              "      <th>12</th>\n",
              "      <td>Karnataka</td>\n",
              "      <td>3.76</td>\n",
              "      <td>2.276058e+07</td>\n",
              "      <td>44.15</td>\n",
              "    </tr>\n",
              "    <tr>\n",
              "      <th>13</th>\n",
              "      <td>Kerala</td>\n",
              "      <td>9.62</td>\n",
              "      <td>9.481539e+06</td>\n",
              "      <td>37.89</td>\n",
              "    </tr>\n",
              "    <tr>\n",
              "      <th>14</th>\n",
              "      <td>Madhya Pradesh</td>\n",
              "      <td>4.78</td>\n",
              "      <td>2.258169e+07</td>\n",
              "      <td>40.32</td>\n",
              "    </tr>\n",
              "    <tr>\n",
              "      <th>15</th>\n",
              "      <td>Maharashtra</td>\n",
              "      <td>5.26</td>\n",
              "      <td>4.272029e+07</td>\n",
              "      <td>45.89</td>\n",
              "    </tr>\n",
              "    <tr>\n",
              "      <th>16</th>\n",
              "      <td>Meghalaya</td>\n",
              "      <td>4.07</td>\n",
              "      <td>1.313704e+06</td>\n",
              "      <td>59.52</td>\n",
              "    </tr>\n",
              "    <tr>\n",
              "      <th>17</th>\n",
              "      <td>Odisha</td>\n",
              "      <td>5.42</td>\n",
              "      <td>1.379532e+07</td>\n",
              "      <td>42.15</td>\n",
              "    </tr>\n",
              "    <tr>\n",
              "      <th>18</th>\n",
              "      <td>Puducherry</td>\n",
              "      <td>6.64</td>\n",
              "      <td>4.565215e+05</td>\n",
              "      <td>41.47</td>\n",
              "    </tr>\n",
              "    <tr>\n",
              "      <th>19</th>\n",
              "      <td>Punjab</td>\n",
              "      <td>8.43</td>\n",
              "      <td>9.452204e+06</td>\n",
              "      <td>42.80</td>\n",
              "    </tr>\n",
              "    <tr>\n",
              "      <th>20</th>\n",
              "      <td>Rajasthan</td>\n",
              "      <td>11.03</td>\n",
              "      <td>1.974134e+07</td>\n",
              "      <td>40.34</td>\n",
              "    </tr>\n",
              "    <tr>\n",
              "      <th>21</th>\n",
              "      <td>Sikkim</td>\n",
              "      <td>6.83</td>\n",
              "      <td>2.512952e+05</td>\n",
              "      <td>47.80</td>\n",
              "    </tr>\n",
              "    <tr>\n",
              "      <th>22</th>\n",
              "      <td>Tamil Nadu</td>\n",
              "      <td>6.01</td>\n",
              "      <td>2.760308e+07</td>\n",
              "      <td>46.26</td>\n",
              "    </tr>\n",
              "    <tr>\n",
              "      <th>23</th>\n",
              "      <td>Telangana</td>\n",
              "      <td>4.53</td>\n",
              "      <td>1.592688e+07</td>\n",
              "      <td>54.68</td>\n",
              "    </tr>\n",
              "    <tr>\n",
              "      <th>24</th>\n",
              "      <td>Tripura</td>\n",
              "      <td>23.32</td>\n",
              "      <td>1.423352e+06</td>\n",
              "      <td>58.83</td>\n",
              "    </tr>\n",
              "    <tr>\n",
              "      <th>25</th>\n",
              "      <td>Uttar Pradesh</td>\n",
              "      <td>8.20</td>\n",
              "      <td>5.646417e+07</td>\n",
              "      <td>39.37</td>\n",
              "    </tr>\n",
              "    <tr>\n",
              "      <th>26</th>\n",
              "      <td>Uttarakhand</td>\n",
              "      <td>4.10</td>\n",
              "      <td>2.989954e+06</td>\n",
              "      <td>37.19</td>\n",
              "    </tr>\n",
              "    <tr>\n",
              "      <th>27</th>\n",
              "      <td>West Bengal</td>\n",
              "      <td>7.64</td>\n",
              "      <td>3.364782e+07</td>\n",
              "      <td>46.12</td>\n",
              "    </tr>\n",
              "  </tbody>\n",
              "</table>\n",
              "</div>"
            ],
            "text/plain": [
              "              Region  ...  Estimated Labour Participation Rate (%)\n",
              "0     Andhra Pradesh  ...                                    43.78\n",
              "1              Assam  ...                                    46.05\n",
              "2              Bihar  ...                                    39.58\n",
              "3       Chhattisgarh  ...                                    43.78\n",
              "4              Delhi  ...                                    39.74\n",
              "5                Goa  ...                                    46.07\n",
              "6            Gujarat  ...                                    46.50\n",
              "7            Haryana  ...                                    42.25\n",
              "8   Himachal Pradesh  ...                                    42.37\n",
              "9              India  ...                                    43.05\n",
              "10   Jammu & Kashmir  ...                                    40.96\n",
              "11         Jharkhand  ...                                    41.06\n",
              "12         Karnataka  ...                                    44.15\n",
              "13            Kerala  ...                                    37.89\n",
              "14    Madhya Pradesh  ...                                    40.32\n",
              "15       Maharashtra  ...                                    45.89\n",
              "16         Meghalaya  ...                                    59.52\n",
              "17            Odisha  ...                                    42.15\n",
              "18        Puducherry  ...                                    41.47\n",
              "19            Punjab  ...                                    42.80\n",
              "20         Rajasthan  ...                                    40.34\n",
              "21            Sikkim  ...                                    47.80\n",
              "22        Tamil Nadu  ...                                    46.26\n",
              "23         Telangana  ...                                    54.68\n",
              "24           Tripura  ...                                    58.83\n",
              "25     Uttar Pradesh  ...                                    39.37\n",
              "26       Uttarakhand  ...                                    37.19\n",
              "27       West Bengal  ...                                    46.12\n",
              "\n",
              "[28 rows x 4 columns]"
            ]
          },
          "metadata": {
            "tags": []
          },
          "execution_count": 8
        }
      ]
    },
    {
      "cell_type": "code",
      "metadata": {
        "colab": {
          "base_uri": "https://localhost:8080/",
          "height": 592
        },
        "id": "d68-rG2I1PYe",
        "outputId": "2702af19-b30e-47ed-cf91-aa0edb0567a6"
      },
      "source": [
        "heat_maps = df[['Estimated Unemployment Rate (%)',\n",
        "       'Estimated Employed', 'Estimated Labour Participation Rate (%)']]\n",
        "heat_maps = heat_maps.corr()\n",
        "\n",
        "plt.figure(figsize=(10,6))\n",
        "sns.set_context('notebook',font_scale=1)\n",
        "sns.heatmap(heat_maps, annot=True,cmap='summer');"
      ],
      "execution_count": 9,
      "outputs": [
        {
          "output_type": "display_data",
          "data": {
            "image/png": "[encoded data removed]",
            "text/plain": [
              "<Figure size 720x432 with 2 Axes>"
            ]
          },
          "metadata": {
            "tags": [],
            "needs_background": "light"
          }
        }
      ]
    },
    {
      "cell_type": "code",
      "metadata": {
        "colab": {
          "base_uri": "https://localhost:8080/",
          "height": 542
        },
        "id": "Lk06CtRP1Ubb",
        "outputId": "d4048a13-457c-44b0-80eb-e0340282e220"
      },
      "source": [
        "graph = px.box(df,x='Region',y='Estimated Unemployment Rate (%)',color='Region',title='Unemployment rate',template='plotly')\n",
        "graph.update_layout(xaxis={'categoryorder':'total descending'})\n",
        "graph.show()\n"
      ],
      "execution_count": 10,
      "outputs": [
        {
          "output_type": "display_data",
          "data": {
            "text/html": [
              "<html>\n",
              "<head><meta charset=\"utf-8\" /></head>\n",
              "<body>\n",
              "    <div>\n",
              "            <script src=\"https://cdnjs.cloudflare.com/ajax/libs/mathjax/2.7.5/MathJax.js?config=TeX-AMS-MML_SVG\"></script><script type=\"text/javascript\">if (window.MathJax) {MathJax.Hub.Config({SVG: {font: \"STIX-Web\"}});}</script>\n",
              "                <script type=\"text/javascript\">window.PlotlyConfig = {MathJaxConfig: 'local'};</script>\n",
              "        <script src=\"https://cdn.plot.ly/plotly-latest.min.js\"></script>    \n",
              "            <div id=\"78892b8e-0aa3-40ec-87cc-be20d2e44af9\" class=\"plotly-graph-div\" style=\"height:525px; width:100%;\"></div>\n",
              "            <script type=\"text/javascript\">\n",
              "                \n",
              "                    window.PLOTLYENV=window.PLOTLYENV || {};\n",
              "                    \n",
              "                if (document.getElementById(\"78892b8e-0aa3-40ec-87cc-be20d2e44af9\")) {\n",
              "                    Plotly.newPlot(\n",
              "                        '78892b8e-0aa3-40ec-87cc-be20d2e44af9',\n",
              "                        [{\"alignmentgroup\": \"True\", \"hoverlabel\": {\"namelength\": 0}, \"hovertemplate\": \"Region=%{x}<br>Estimated Unemployment Rate (%)=%{y}\", \"legendgroup\": \"Region=Andhra Pradesh\", \"marker\": {\"color\": \"#636efa\"}, \"name\": \"Region=Andhra Pradesh\", \"notched\": false, \"offsetgroup\": \"Region=Andhra Pradesh\", \"orientation\": \"v\", \"showlegend\": true, \"type\": \"box\", \"x\": [\"Andhra Pradesh\", \"Andhra Pradesh\", \"Andhra Pradesh\", \"Andhra Pradesh\", \"Andhra Pradesh\", \"Andhra Pradesh\", \"Andhra Pradesh\", \"Andhra Pradesh\", \"Andhra Pradesh\", \"Andhra Pradesh\", \"Andhra Pradesh\", \"Andhra Pradesh\", \"Andhra Pradesh\", \"Andhra Pradesh\", \"Andhra Pradesh\", \"Andhra Pradesh\", \"Andhra Pradesh\", \"Andhra Pradesh\", \"Andhra Pradesh\", \"Andhra Pradesh\", \"Andhra Pradesh\", \"Andhra Pradesh\", \"Andhra Pradesh\", \"Andhra Pradesh\", \"Andhra Pradesh\", \"Andhra Pradesh\", \"Andhra Pradesh\", \"Andhra Pradesh\", \"Andhra Pradesh\", \"Andhra Pradesh\", \"Andhra Pradesh\", \"Andhra Pradesh\", \"Andhra Pradesh\", \"Andhra Pradesh\", \"Andhra Pradesh\", \"Andhra Pradesh\", \"Andhra Pradesh\", \"Andhra Pradesh\", \"Andhra Pradesh\", \"Andhra Pradesh\", \"Andhra Pradesh\", \"Andhra Pradesh\", \"Andhra Pradesh\", \"Andhra Pradesh\", \"Andhra Pradesh\", \"Andhra Pradesh\", \"Andhra Pradesh\", \"Andhra Pradesh\", \"Andhra Pradesh\", \"Andhra Pradesh\", \"Andhra Pradesh\", \"Andhra Pradesh\", \"Andhra Pradesh\", \"Andhra Pradesh\", \"Andhra Pradesh\", \"Andhra Pradesh\", \"Andhra Pradesh\", \"Andhra Pradesh\", \"Andhra Pradesh\", \"Andhra Pradesh\", \"Andhra Pradesh\", \"Andhra Pradesh\", \"Andhra Pradesh\", \"Andhra Pradesh\", \"Andhra Pradesh\", \"Andhra Pradesh\"], \"x0\": \" \", \"xaxis\": \"x\", \"y\": [17.91, 9.98, 10.72, 5.51, 6.29, 4.51, 4.87, 4.03, 7.6, 10.06, 5.23, 4.64, 5.85, 4.75, 3.06, 3.52, 2.3, 3.65, 2.66, 3.43, 6.59, 3.51, 3.32, 4.01, 5.79, 3.97, 4.22, 3.65, 4.01, 4.51, 5.25, 4.33, 4.88, 5.56, 5.24, 4.2, 5.21, 5.76, 5.17, 4.02, 4.36, 3.27, 4.29, 3.68, 5.41, 3.86, 5.14, 5.39, 5.48, 5.83, 5.79, 20.51, 17.43, 3.31, 8.34, 6.96, 6.4, 6.64, 6.02, 6.71, 4.48, 3.74, 5.88, 4.91, 13.47, 7.51], \"y0\": \" \", \"yaxis\": \"y\"}, {\"alignmentgroup\": \"True\", \"hoverlabel\": {\"namelength\": 0}, \"hovertemplate\": \"Region=%{x}<br>Estimated Unemployment Rate (%)=%{y}\", \"legendgroup\": \"Region=Assam\", \"marker\": {\"color\": \"#EF553B\"}, \"name\": \"Region=Assam\", \"notched\": false, \"offsetgroup\": \"Region=Assam\", \"orientation\": \"v\", \"showlegend\": true, \"type\": \"box\", \"x\": [\"Assam\", \"Assam\", \"Assam\", \"Assam\", \"Assam\", \"Assam\", \"Assam\", \"Assam\", \"Assam\", \"Assam\", \"Assam\", \"Assam\", \"Assam\", \"Assam\", \"Assam\", \"Assam\", \"Assam\", \"Assam\", \"Assam\", \"Assam\", \"Assam\", \"Assam\", \"Assam\", \"Assam\", \"Assam\", \"Assam\", \"Assam\", \"Assam\", \"Assam\", \"Assam\", \"Assam\", \"Assam\", \"Assam\", \"Assam\", \"Assam\", \"Assam\", \"Assam\", \"Assam\", \"Assam\", \"Assam\", \"Assam\", \"Assam\", \"Assam\", \"Assam\", \"Assam\", \"Assam\", \"Assam\", \"Assam\", \"Assam\", \"Assam\", \"Assam\", \"Assam\", \"Assam\", \"Assam\", \"Assam\", \"Assam\", \"Assam\", \"Assam\", \"Assam\", \"Assam\", \"Assam\", \"Assam\", \"Assam\", \"Assam\", \"Assam\", \"Assam\"], \"x0\": \" \", \"xaxis\": \"x\", \"y\": [5.89, 12.68, 4.31, 0.65, 3.78, 10.23, 13.02, 8.33, 8.28, 7.58, 10.43, 3.88, 8.0, 6.79, 7.11, 2.0, 12.79, 10.88, 8.61, 4.8, 8.69, 10.0, 10.3, 7.03, 7.42, 9.76, 5.85, 3.58, 6.29, 8.57, 7.85, 3.9, 11.19, 5.33, 8.18, 6.11, 5.11, 5.36, 6.78, 5.0, 4.75, 5.87, 4.1, 6.49, 5.07, 5.76, 4.91, 0.88, 4.66, 4.41, 4.77, 11.06, 9.55, 0.6, 3.77, 5.53, 1.19, 3.02, 3.98, 7.64, 1.53, 1.65, 1.06, 0.19, 0.05, 0.62], \"y0\": \" \", \"yaxis\": \"y\"}, {\"alignmentgroup\": \"True\", \"hoverlabel\": {\"namelength\": 0}, \"hovertemplate\": \"Region=%{x}<br>Estimated Unemployment Rate (%)=%{y}\", \"legendgroup\": \"Region=Bihar\", \"marker\": {\"color\": \"#00cc96\"}, \"name\": \"Region=Bihar\", \"notched\": false, \"offsetgroup\": \"Region=Bihar\", \"orientation\": \"v\", \"showlegend\": true, \"type\": \"box\", \"x\": [\"Bihar\", \"Bihar\", \"Bihar\", \"Bihar\", \"Bihar\", \"Bihar\", \"Bihar\", \"Bihar\", \"Bihar\", \"Bihar\", \"Bihar\", \"Bihar\", \"Bihar\", \"Bihar\", \"Bihar\", \"Bihar\", \"Bihar\", \"Bihar\", \"Bihar\", \"Bihar\", \"Bihar\", \"Bihar\", \"Bihar\", \"Bihar\", \"Bihar\", \"Bihar\", \"Bihar\", \"Bihar\", \"Bihar\", \"Bihar\", \"Bihar\", \"Bihar\", \"Bihar\", \"Bihar\", \"Bihar\", \"Bihar\", \"Bihar\", \"Bihar\", \"Bihar\", \"Bihar\", \"Bihar\", \"Bihar\", \"Bihar\", \"Bihar\", \"Bihar\", \"Bihar\", \"Bihar\", \"Bihar\", \"Bihar\", \"Bihar\", \"Bihar\", \"Bihar\", \"Bihar\", \"Bihar\", \"Bihar\", \"Bihar\", \"Bihar\", \"Bihar\", \"Bihar\", \"Bihar\", \"Bihar\", \"Bihar\", \"Bihar\", \"Bihar\", \"Bihar\", \"Bihar\"], \"x0\": \" \", \"xaxis\": \"x\", \"y\": [4.36, 6.71, 3.46, 6.38, 14.02, 9.85, 6.18, 13.0, 15.07, 6.96, 6.85, 4.63, 5.52, 3.96, 2.86, 1.57, 2.53, 1.94, 1.97, 3.57, 5.1, 5.04, 4.91, 5.31, 4.07, 7.05, 10.21, 7.97, 5.07, 7.6, 9.26, 9.27, 5.41, 9.56, 11.23, 8.14, 8.69, 11.47, 11.29, 12.19, 10.58, 10.58, 13.8, 11.84, 10.1, 12.66, 13.07, 10.73, 10.61, 10.29, 15.43, 46.64, 45.96, 17.82, 12.79, 13.44, 11.91, 9.82, 9.98, 12.65, 10.5, 11.47, 14.6, 11.54, 13.84, 10.5], \"y0\": \" \", \"yaxis\": \"y\"}, {\"alignmentgroup\": \"True\", \"hoverlabel\": {\"namelength\": 0}, \"hovertemplate\": \"Region=%{x}<br>Estimated Unemployment Rate (%)=%{y}\", \"legendgroup\": \"Region=Chhattisgarh\", \"marker\": {\"color\": \"#ab63fa\"}, \"name\": \"Region=Chhattisgarh\", \"notched\": false, \"offsetgroup\": \"Region=Chhattisgarh\", \"orientation\": \"v\", \"showlegend\": true, \"type\": \"box\", \"x\": [\"Chhattisgarh\", \"Chhattisgarh\", \"Chhattisgarh\", \"Chhattisgarh\", \"Chhattisgarh\", \"Chhattisgarh\", \"Chhattisgarh\", \"Chhattisgarh\", \"Chhattisgarh\", \"Chhattisgarh\", \"Chhattisgarh\", \"Chhattisgarh\", \"Chhattisgarh\", \"Chhattisgarh\", \"Chhattisgarh\", \"Chhattisgarh\", \"Chhattisgarh\", \"Chhattisgarh\", \"Chhattisgarh\", \"Chhattisgarh\", \"Chhattisgarh\", \"Chhattisgarh\", \"Chhattisgarh\", \"Chhattisgarh\", \"Chhattisgarh\", \"Chhattisgarh\", \"Chhattisgarh\", \"Chhattisgarh\", \"Chhattisgarh\", \"Chhattisgarh\", \"Chhattisgarh\", \"Chhattisgarh\", \"Chhattisgarh\", \"Chhattisgarh\", \"Chhattisgarh\", \"Chhattisgarh\", \"Chhattisgarh\", \"Chhattisgarh\", \"Chhattisgarh\", \"Chhattisgarh\", \"Chhattisgarh\", \"Chhattisgarh\", \"Chhattisgarh\", \"Chhattisgarh\", \"Chhattisgarh\", \"Chhattisgarh\", \"Chhattisgarh\", \"Chhattisgarh\", \"Chhattisgarh\", \"Chhattisgarh\", \"Chhattisgarh\", \"Chhattisgarh\", \"Chhattisgarh\", \"Chhattisgarh\", \"Chhattisgarh\", \"Chhattisgarh\", \"Chhattisgarh\", \"Chhattisgarh\", \"Chhattisgarh\", \"Chhattisgarh\", \"Chhattisgarh\", \"Chhattisgarh\", \"Chhattisgarh\", \"Chhattisgarh\", \"Chhattisgarh\", \"Chhattisgarh\"], \"x0\": \" \", \"xaxis\": \"x\", \"y\": [2.38, 4.9, 3.07, 3.09, 5.41, 4.6, 4.53, 3.3, 7.9, 3.81, 4.52, 4.84, 4.13, 2.8, 3.06, 4.51, 4.5, 2.04, 1.24, 4.0, 4.75, 3.02, 3.28, 1.54, 6.72, 2.61, 3.2, 2.06, 4.34, 2.44, 3.38, 2.59, 22.24, 12.68, 5.51, 4.73, 7.87, 7.29, 3.71, 3.44, 9.8, 8.06, 5.48, 5.08, 8.63, 7.8, 4.23, 5.44, 9.65, 8.38, 7.54, 3.41, 10.5, 14.23, 10.27, 5.63, 1.99, 6.66, 3.38, 7.2, 6.38, 5.99, 2.69, 3.04, 8.26, 2.57], \"y0\": \" \", \"yaxis\": \"y\"}, {\"alignmentgroup\": \"True\", \"hoverlabel\": {\"namelength\": 0}, \"hovertemplate\": \"Region=%{x}<br>Estimated Unemployment Rate (%)=%{y}\", \"legendgroup\": \"Region=Delhi\", \"marker\": {\"color\": \"#FFA15A\"}, \"name\": \"Region=Delhi\", \"notched\": false, \"offsetgroup\": \"Region=Delhi\", \"orientation\": \"v\", \"showlegend\": true, \"type\": \"box\", \"x\": [\"Delhi\", \"Delhi\", \"Delhi\", \"Delhi\", \"Delhi\", \"Delhi\", \"Delhi\", \"Delhi\", \"Delhi\", \"Delhi\", \"Delhi\", \"Delhi\", \"Delhi\", \"Delhi\", \"Delhi\", \"Delhi\", \"Delhi\", \"Delhi\", \"Delhi\", \"Delhi\", \"Delhi\", \"Delhi\", \"Delhi\", \"Delhi\", \"Delhi\", \"Delhi\", \"Delhi\", \"Delhi\", \"Delhi\", \"Delhi\", \"Delhi\", \"Delhi\", \"Delhi\", \"Delhi\", \"Delhi\", \"Delhi\", \"Delhi\", \"Delhi\", \"Delhi\", \"Delhi\", \"Delhi\", \"Delhi\", \"Delhi\", \"Delhi\", \"Delhi\", \"Delhi\", \"Delhi\", \"Delhi\", \"Delhi\", \"Delhi\", \"Delhi\", \"Delhi\", \"Delhi\", \"Delhi\", \"Delhi\", \"Delhi\", \"Delhi\", \"Delhi\", \"Delhi\", \"Delhi\", \"Delhi\", \"Delhi\", \"Delhi\", \"Delhi\", \"Delhi\", \"Delhi\"], \"x0\": \" \", \"xaxis\": \"x\", \"y\": [10.61, 10.84, 11.05, 6.3, 17.3, 15.68, 14.31, 6.85, 7.75, 11.55, 11.5, 11.32, 10.76, 12.09, 10.58, 7.42, 5.28, 3.76, 3.19, 6.8, 4.45, 3.67, 2.11, 5.61, 2.24, 1.57, 3.0, 3.6, 8.75, 8.99, 7.51, 12.32, 12.49, 10.0, 12.04, 9.59, 12.18, 11.56, 13.05, 8.37, 12.32, 12.67, 14.58, 13.61, 20.38, 12.49, 15.96, 11.23, 22.23, 14.84, 17.04, 16.68, 42.27, 18.19, 20.3, 13.79, 12.53, 6.27, 6.57, 7.56, 12.51, 7.99, 9.41, 27.32, 45.56, 8.8], \"y0\": \" \", \"yaxis\": \"y\"}, {\"alignmentgroup\": \"True\", \"hoverlabel\": {\"namelength\": 0}, \"hovertemplate\": \"Region=%{x}<br>Estimated Unemployment Rate (%)=%{y}\", \"legendgroup\": \"Region=Goa\", \"marker\": {\"color\": \"#19d3f3\"}, \"name\": \"Region=Goa\", \"notched\": false, \"offsetgroup\": \"Region=Goa\", \"orientation\": \"v\", \"showlegend\": true, \"type\": \"box\", \"x\": [\"Goa\", \"Goa\", \"Goa\", \"Goa\", \"Goa\", \"Goa\", \"Goa\", \"Goa\", \"Goa\", \"Goa\", \"Goa\", \"Goa\", \"Goa\", \"Goa\", \"Goa\", \"Goa\", \"Goa\", \"Goa\", \"Goa\", \"Goa\", \"Goa\", \"Goa\", \"Goa\", \"Goa\", \"Goa\", \"Goa\", \"Goa\", \"Goa\", \"Goa\", \"Goa\", \"Goa\", \"Goa\", \"Goa\", \"Goa\", \"Goa\", \"Goa\", \"Goa\", \"Goa\", \"Goa\", \"Goa\", \"Goa\", \"Goa\", \"Goa\", \"Goa\", \"Goa\", \"Goa\", \"Goa\", \"Goa\", \"Goa\", \"Goa\", \"Goa\", \"Goa\", \"Goa\", \"Goa\", \"Goa\", \"Goa\", \"Goa\", \"Goa\", \"Goa\", \"Goa\", \"Goa\", \"Goa\", \"Goa\", \"Goa\", \"Goa\"], \"x0\": \" \", \"xaxis\": \"x\", \"y\": [12.31, 10.75, 5.11, 16.04, 13.91, 5.25, 10.74, 13.28, 12.0, 9.73, 8.34, 12.24, 12.38, 8.55, 5.89, 9.89, 9.27, 3.95, 7.65, 6.67, 8.6, 2.83, 4.49, 4.97, 6.35, 3.33, 6.0, 3.25, 4.84, 3.8, 6.82, 4.11, 5.07, 2.14, 7.17, 7.45, 7.08, 8.87, 9.3, 2.82, 10.66, 11.8, 3.67, 3.53, 10.44, 24.66, 11.8, 8.89, 2.81, 5.25, 13.31, 21.25, 9.96, 17.07, 16.21, 15.38, 10.95, 15.88, 13.2, 16.01, 20.58, 22.08, 25.73, 20.58, 17.74], \"y0\": \" \", \"yaxis\": \"y\"}, {\"alignmentgroup\": \"True\", \"hoverlabel\": {\"namelength\": 0}, \"hovertemplate\": \"Region=%{x}<br>Estimated Unemployment Rate (%)=%{y}\", \"legendgroup\": \"Region=Gujarat\", \"marker\": {\"color\": \"#FF6692\"}, \"name\": \"Region=Gujarat\", \"notched\": false, \"offsetgroup\": \"Region=Gujarat\", \"orientation\": \"v\", \"showlegend\": true, \"type\": \"box\", \"x\": [\"Gujarat\", \"Gujarat\", \"Gujarat\", \"Gujarat\", \"Gujarat\", \"Gujarat\", \"Gujarat\", \"Gujarat\", \"Gujarat\", \"Gujarat\", \"Gujarat\", \"Gujarat\", \"Gujarat\", \"Gujarat\", \"Gujarat\", \"Gujarat\", \"Gujarat\", \"Gujarat\", \"Gujarat\", \"Gujarat\", \"Gujarat\", \"Gujarat\", \"Gujarat\", \"Gujarat\", \"Gujarat\", \"Gujarat\", \"Gujarat\", \"Gujarat\", \"Gujarat\", \"Gujarat\", \"Gujarat\", \"Gujarat\", \"Gujarat\", \"Gujarat\", \"Gujarat\", \"Gujarat\", \"Gujarat\", \"Gujarat\", \"Gujarat\", \"Gujarat\", \"Gujarat\", \"Gujarat\", \"Gujarat\", \"Gujarat\", \"Gujarat\", \"Gujarat\", \"Gujarat\", \"Gujarat\", \"Gujarat\", \"Gujarat\", \"Gujarat\", \"Gujarat\", \"Gujarat\", \"Gujarat\", \"Gujarat\", \"Gujarat\", \"Gujarat\", \"Gujarat\", \"Gujarat\", \"Gujarat\", \"Gujarat\", \"Gujarat\", \"Gujarat\", \"Gujarat\", \"Gujarat\", \"Gujarat\"], \"x0\": \" \", \"xaxis\": \"x\", \"y\": [3.44, 4.12, 4.07, 3.3, 2.63, 2.92, 2.68, 1.38, 2.0, 1.28, 2.2, 5.04, 1.98, 1.33, 4.28, 3.66, 1.95, 2.86, 3.55, 2.57, 3.87, 5.4, 2.8, 1.36, 2.93, 9.53, 4.73, 4.98, 5.06, 6.47, 4.54, 3.58, 4.34, 7.4, 5.09, 3.66, 5.8, 5.54, 4.53, 3.0, 3.38, 5.45, 4.81, 3.92, 6.15, 5.15, 5.86, 4.42, 5.54, 6.38, 6.66, 18.71, 12.11, 3.2, 1.84, 1.87, 3.41, 4.03, 3.86, 3.05, 3.19, 3.17, 2.16, 1.77, 2.34, 1.79], \"y0\": \" \", \"yaxis\": \"y\"}, {\"alignmentgroup\": \"True\", \"hoverlabel\": {\"namelength\": 0}, \"hovertemplate\": \"Region=%{x}<br>Estimated Unemployment Rate (%)=%{y}\", \"legendgroup\": \"Region=Haryana\", \"marker\": {\"color\": \"#B6E880\"}, \"name\": \"Region=Haryana\", \"notched\": false, \"offsetgroup\": \"Region=Haryana\", \"orientation\": \"v\", \"showlegend\": true, \"type\": \"box\", \"x\": [\"Haryana\", \"Haryana\", \"Haryana\", \"Haryana\", \"Haryana\", \"Haryana\", \"Haryana\", \"Haryana\", \"Haryana\", \"Haryana\", \"Haryana\", \"Haryana\", \"Haryana\", \"Haryana\", \"Haryana\", \"Haryana\", \"Haryana\", \"Haryana\", \"Haryana\", \"Haryana\", \"Haryana\", \"Haryana\", \"Haryana\", \"Haryana\", \"Haryana\", \"Haryana\", \"Haryana\", \"Haryana\", \"Haryana\", \"Haryana\", \"Haryana\", \"Haryana\", \"Haryana\", \"Haryana\", \"Haryana\", \"Haryana\", \"Haryana\", \"Haryana\", \"Haryana\", \"Haryana\", \"Haryana\", \"Haryana\", \"Haryana\", \"Haryana\", \"Haryana\", \"Haryana\", \"Haryana\", \"Haryana\", \"Haryana\", \"Haryana\", \"Haryana\", \"Haryana\", \"Haryana\", \"Haryana\", \"Haryana\", \"Haryana\", \"Haryana\", \"Haryana\", \"Haryana\", \"Haryana\", \"Haryana\", \"Haryana\", \"Haryana\", \"Haryana\", \"Haryana\", \"Haryana\"], \"x0\": \" \", \"xaxis\": \"x\", \"y\": [14.82, 11.83, 10.4, 13.57, 10.78, 11.67, 9.54, 14.5, 6.67, 9.77, 7.22, 15.38, 7.23, 8.11, 3.41, 2.04, 2.71, 4.2, 5.51, 1.76, 12.3, 14.32, 13.96, 19.57, 13.21, 15.52, 12.76, 21.41, 15.21, 16.67, 14.93, 23.14, 17.21, 18.7, 18.97, 24.51, 17.89, 21.29, 18.99, 26.39, 18.27, 22.1, 19.53, 28.68, 20.19, 23.04, 20.36, 27.56, 20.34, 25.77, 25.05, 43.22, 29.02, 26.7, 24.18, 33.5, 19.33, 27.32, 25.61, 32.49, 17.65, 26.31, 27.58, 35.13, 29.05, 27.85], \"y0\": \" \", \"yaxis\": \"y\"}, {\"alignmentgroup\": \"True\", \"hoverlabel\": {\"namelength\": 0}, \"hovertemplate\": \"Region=%{x}<br>Estimated Unemployment Rate (%)=%{y}\", \"legendgroup\": \"Region=Himachal Pradesh\", \"marker\": {\"color\": \"#FF97FF\"}, \"name\": \"Region=Himachal Pradesh\", \"notched\": false, \"offsetgroup\": \"Region=Himachal Pradesh\", \"orientation\": \"v\", \"showlegend\": true, \"type\": \"box\", \"x\": [\"Himachal Pradesh\", \"Himachal Pradesh\", \"Himachal Pradesh\", \"Himachal Pradesh\", \"Himachal Pradesh\", \"Himachal Pradesh\", \"Himachal Pradesh\", \"Himachal Pradesh\", \"Himachal Pradesh\", \"Himachal Pradesh\", \"Himachal Pradesh\", \"Himachal Pradesh\", \"Himachal Pradesh\", \"Himachal Pradesh\", \"Himachal Pradesh\", \"Himachal Pradesh\", \"Himachal Pradesh\", \"Himachal Pradesh\", \"Himachal Pradesh\", \"Himachal Pradesh\", \"Himachal Pradesh\", \"Himachal Pradesh\", \"Himachal Pradesh\", \"Himachal Pradesh\", \"Himachal Pradesh\", \"Himachal Pradesh\", \"Himachal Pradesh\", \"Himachal Pradesh\", \"Himachal Pradesh\", \"Himachal Pradesh\", \"Himachal Pradesh\", \"Himachal Pradesh\", \"Himachal Pradesh\", \"Himachal Pradesh\", \"Himachal Pradesh\", \"Himachal Pradesh\", \"Himachal Pradesh\", \"Himachal Pradesh\", \"Himachal Pradesh\", \"Himachal Pradesh\", \"Himachal Pradesh\", \"Himachal Pradesh\", \"Himachal Pradesh\", \"Himachal Pradesh\", \"Himachal Pradesh\", \"Himachal Pradesh\", \"Himachal Pradesh\", \"Himachal Pradesh\", \"Himachal Pradesh\", \"Himachal Pradesh\", \"Himachal Pradesh\", \"Himachal Pradesh\", \"Himachal Pradesh\", \"Himachal Pradesh\", \"Himachal Pradesh\", \"Himachal Pradesh\", \"Himachal Pradesh\", \"Himachal Pradesh\", \"Himachal Pradesh\", \"Himachal Pradesh\", \"Himachal Pradesh\", \"Himachal Pradesh\", \"Himachal Pradesh\", \"Himachal Pradesh\", \"Himachal Pradesh\", \"Himachal Pradesh\"], \"x0\": \" \", \"xaxis\": \"x\", \"y\": [3.16, 3.32, 5.54, 4.24, 4.11, 1.38, 9.83, 4.32, 1.84, 0.92, 4.17, 1.74, 1.72, 2.66, 3.28, 0.49, 1.85, 1.55, 2.89, 1.24, 4.5, 5.37, 14.53, 12.13, 11.8, 9.64, 15.32, 17.49, 13.16, 11.79, 17.8, 17.33, 14.01, 13.11, 19.09, 18.82, 13.89, 13.82, 18.79, 19.64, 13.38, 12.63, 20.69, 19.24, 15.57, 16.74, 23.34, 20.16, 16.83, 16.84, 18.76, 2.2, 26.95, 13.47, 24.31, 15.79, 11.41, 13.46, 15.86, 7.86, 11.55, 15.57, 14.24, 11.06, 7.78, 16.28], \"y0\": \" \", \"yaxis\": \"y\"}, {\"alignmentgroup\": \"True\", \"hoverlabel\": {\"namelength\": 0}, \"hovertemplate\": \"Region=%{x}<br>Estimated Unemployment Rate (%)=%{y}\", \"legendgroup\": \"Region=Jammu & Kashmir\", \"marker\": {\"color\": \"#FECB52\"}, \"name\": \"Region=Jammu & Kashmir\", \"notched\": false, \"offsetgroup\": \"Region=Jammu & Kashmir\", \"orientation\": \"v\", \"showlegend\": true, \"type\": \"box\", \"x\": [\"Jammu & Kashmir\", \"Jammu & Kashmir\", \"Jammu & Kashmir\", \"Jammu & Kashmir\", \"Jammu & Kashmir\", \"Jammu & Kashmir\", \"Jammu & Kashmir\", \"Jammu & Kashmir\", \"Jammu & Kashmir\", \"Jammu & Kashmir\", \"Jammu & Kashmir\", \"Jammu & Kashmir\", \"Jammu & Kashmir\", \"Jammu & Kashmir\", \"Jammu & Kashmir\", \"Jammu & Kashmir\", \"Jammu & Kashmir\", \"Jammu & Kashmir\", \"Jammu & Kashmir\", \"Jammu & Kashmir\", \"Jammu & Kashmir\", \"Jammu & Kashmir\", \"Jammu & Kashmir\", \"Jammu & Kashmir\", \"Jammu & Kashmir\", \"Jammu & Kashmir\", \"Jammu & Kashmir\", \"Jammu & Kashmir\", \"Jammu & Kashmir\", \"Jammu & Kashmir\", \"Jammu & Kashmir\", \"Jammu & Kashmir\", \"Jammu & Kashmir\", \"Jammu & Kashmir\", \"Jammu & Kashmir\", \"Jammu & Kashmir\", \"Jammu & Kashmir\", \"Jammu & Kashmir\", \"Jammu & Kashmir\", \"Jammu & Kashmir\", \"Jammu & Kashmir\", \"Jammu & Kashmir\", \"Jammu & Kashmir\", \"Jammu & Kashmir\", \"Jammu & Kashmir\", \"Jammu & Kashmir\", \"Jammu & Kashmir\", \"Jammu & Kashmir\", \"Jammu & Kashmir\", \"Jammu & Kashmir\", \"Jammu & Kashmir\", \"Jammu & Kashmir\", \"Jammu & Kashmir\", \"Jammu & Kashmir\", \"Jammu & Kashmir\", \"Jammu & Kashmir\", \"Jammu & Kashmir\", \"Jammu & Kashmir\", \"Jammu & Kashmir\", \"Jammu & Kashmir\", \"Jammu & Kashmir\", \"Jammu & Kashmir\", \"Jammu & Kashmir\", \"Jammu & Kashmir\", \"Jammu & Kashmir\"], \"x0\": \" \", \"xaxis\": \"x\", \"y\": [12.31, 17.97, 13.8, 10.49, 22.02, 21.3, 18.23, 24.04, 25.31, 26.32, 29.92, 21.34, 21.7, 9.46, 17.69, 17.05, 10.16, 11.86, 7.57, 7.33, 12.56, 12.8, 12.93, 13.96, 9.97, 15.13, 14.0, 10.7, 9.67, 13.16, 10.04, 7.95, 13.21, 14.58, 11.15, 9.08, 17.1, 15.23, 15.15, 10.62, 16.26, 14.74, 16.34, 22.45, 19.87, 20.73, 14.58, 12.48, 21.08, 20.78, 15.5, 18.74, 17.92, 10.88, 11.09, 16.17, 16.14, 8.55, 16.61, 21.9, 14.21, 9.53, 11.45, 12.06, 10.57], \"y0\": \" \", \"yaxis\": \"y\"}, {\"alignmentgroup\": \"True\", \"hoverlabel\": {\"namelength\": 0}, \"hovertemplate\": \"Region=%{x}<br>Estimated Unemployment Rate (%)=%{y}\", \"legendgroup\": \"Region=Jharkhand\", \"marker\": {\"color\": \"#636efa\"}, \"name\": \"Region=Jharkhand\", \"notched\": false, \"offsetgroup\": \"Region=Jharkhand\", \"orientation\": \"v\", \"showlegend\": true, \"type\": \"box\", \"x\": [\"Jharkhand\", \"Jharkhand\", \"Jharkhand\", \"Jharkhand\", \"Jharkhand\", \"Jharkhand\", \"Jharkhand\", \"Jharkhand\", \"Jharkhand\", \"Jharkhand\", \"Jharkhand\", \"Jharkhand\", \"Jharkhand\", \"Jharkhand\", \"Jharkhand\", \"Jharkhand\", \"Jharkhand\", \"Jharkhand\", \"Jharkhand\", \"Jharkhand\", \"Jharkhand\", \"Jharkhand\", \"Jharkhand\", \"Jharkhand\", \"Jharkhand\", \"Jharkhand\", \"Jharkhand\", \"Jharkhand\", \"Jharkhand\", \"Jharkhand\", \"Jharkhand\", \"Jharkhand\", \"Jharkhand\", \"Jharkhand\", \"Jharkhand\", \"Jharkhand\", \"Jharkhand\", \"Jharkhand\", \"Jharkhand\", \"Jharkhand\", \"Jharkhand\", \"Jharkhand\", \"Jharkhand\", \"Jharkhand\", \"Jharkhand\", \"Jharkhand\", \"Jharkhand\", \"Jharkhand\", \"Jharkhand\", \"Jharkhand\", \"Jharkhand\", \"Jharkhand\", \"Jharkhand\", \"Jharkhand\", \"Jharkhand\", \"Jharkhand\", \"Jharkhand\", \"Jharkhand\", \"Jharkhand\", \"Jharkhand\", \"Jharkhand\", \"Jharkhand\", \"Jharkhand\", \"Jharkhand\", \"Jharkhand\", \"Jharkhand\"], \"x0\": \" \", \"xaxis\": \"x\", \"y\": [13.05, 11.13, 8.97, 7.97, 11.16, 9.64, 6.08, 9.35, 6.58, 3.8, 3.69, 1.88, 3.5, 2.98, 1.66, 1.58, 2.41, 4.34, 1.58, 3.26, 8.51, 8.24, 7.06, 8.35, 6.42, 6.97, 7.82, 10.73, 9.52, 7.98, 10.62, 9.6, 8.5, 7.79, 10.41, 11.56, 9.05, 6.88, 13.58, 12.23, 9.92, 11.69, 11.53, 14.26, 10.31, 9.92, 10.57, 16.98, 10.61, 11.85, 8.23, 47.09, 59.23, 20.95, 7.63, 9.76, 9.28, 11.8, 9.54, 12.4, 11.31, 12.17, 12.75, 16.48, 15.96, 12.79], \"y0\": \" \", \"yaxis\": \"y\"}, {\"alignmentgroup\": \"True\", \"hoverlabel\": {\"namelength\": 0}, \"hovertemplate\": \"Region=%{x}<br>Estimated Unemployment Rate (%)=%{y}\", \"legendgroup\": \"Region=Karnataka\", \"marker\": {\"color\": \"#EF553B\"}, \"name\": \"Region=Karnataka\", \"notched\": false, \"offsetgroup\": \"Region=Karnataka\", \"orientation\": \"v\", \"showlegend\": true, \"type\": \"box\", \"x\": [\"Karnataka\", \"Karnataka\", \"Karnataka\", \"Karnataka\", \"Karnataka\", \"Karnataka\", \"Karnataka\", \"Karnataka\", \"Karnataka\", \"Karnataka\", \"Karnataka\", \"Karnataka\", \"Karnataka\", \"Karnataka\", \"Karnataka\", \"Karnataka\", \"Karnataka\", \"Karnataka\", \"Karnataka\", \"Karnataka\", \"Karnataka\", \"Karnataka\", \"Karnataka\", \"Karnataka\", \"Karnataka\", \"Karnataka\", \"Karnataka\", \"Karnataka\", \"Karnataka\", \"Karnataka\", \"Karnataka\", \"Karnataka\", \"Karnataka\", \"Karnataka\", \"Karnataka\", \"Karnataka\", \"Karnataka\", \"Karnataka\", \"Karnataka\", \"Karnataka\", \"Karnataka\", \"Karnataka\", \"Karnataka\", \"Karnataka\", \"Karnataka\", \"Karnataka\", \"Karnataka\", \"Karnataka\", \"Karnataka\", \"Karnataka\", \"Karnataka\", \"Karnataka\", \"Karnataka\", \"Karnataka\", \"Karnataka\", \"Karnataka\", \"Karnataka\", \"Karnataka\", \"Karnataka\", \"Karnataka\", \"Karnataka\", \"Karnataka\", \"Karnataka\", \"Karnataka\", \"Karnataka\", \"Karnataka\"], \"x0\": \" \", \"xaxis\": \"x\", \"y\": [6.38, 5.27, 3.26, 4.94, 11.49, 3.07, 3.07, 4.07, 5.45, 5.83, 5.91, 4.61, 6.66, 5.21, 3.09, 1.35, 1.32, 1.27, 1.34, 1.04, 1.82, 1.27, 1.39, 2.63, 1.79, 3.32, 3.97, 2.28, 1.64, 2.87, 2.36, 1.46, 1.21, 2.11, 1.48, 1.22, 1.49, 2.0, 1.29, 0.53, 5.88, 5.58, 1.26, 0.74, 3.31, 5.83, 2.16, 0.88, 2.86, 3.61, 3.46, 29.84, 19.97, 8.44, 4.01, 0.5, 2.4, 1.58, 1.86, 1.39, 3.28, 2.5, 1.16, 2.03, 5.29, 5.57], \"y0\": \" \", \"yaxis\": \"y\"}, {\"alignmentgroup\": \"True\", \"hoverlabel\": {\"namelength\": 0}, \"hovertemplate\": \"Region=%{x}<br>Estimated Unemployment Rate (%)=%{y}\", \"legendgroup\": \"Region=Kerala\", \"marker\": {\"color\": \"#00cc96\"}, \"name\": \"Region=Kerala\", \"notched\": false, \"offsetgroup\": \"Region=Kerala\", \"orientation\": \"v\", \"showlegend\": true, \"type\": \"box\", \"x\": [\"Kerala\", \"Kerala\", \"Kerala\", \"Kerala\", \"Kerala\", \"Kerala\", \"Kerala\", \"Kerala\", \"Kerala\", \"Kerala\", \"Kerala\", \"Kerala\", \"Kerala\", \"Kerala\", \"Kerala\", \"Kerala\", \"Kerala\", \"Kerala\", \"Kerala\", \"Kerala\", \"Kerala\", \"Kerala\", \"Kerala\", \"Kerala\", \"Kerala\", \"Kerala\", \"Kerala\", \"Kerala\", \"Kerala\", \"Kerala\", \"Kerala\", \"Kerala\", \"Kerala\", \"Kerala\", \"Kerala\", \"Kerala\", \"Kerala\", \"Kerala\", \"Kerala\", \"Kerala\", \"Kerala\", \"Kerala\", \"Kerala\", \"Kerala\", \"Kerala\", \"Kerala\", \"Kerala\", \"Kerala\", \"Kerala\", \"Kerala\", \"Kerala\", \"Kerala\", \"Kerala\", \"Kerala\", \"Kerala\", \"Kerala\", \"Kerala\", \"Kerala\", \"Kerala\", \"Kerala\", \"Kerala\", \"Kerala\", \"Kerala\", \"Kerala\", \"Kerala\", \"Kerala\"], \"x0\": \" \", \"xaxis\": \"x\", \"y\": [18.4, 23.53, 22.91, 18.38, 11.96, 10.34, 13.57, 16.2, 5.82, 5.13, 16.85, 19.46, 12.28, 10.15, 12.15, 6.23, 7.82, 7.01, 8.28, 6.01, 4.37, 10.44, 10.97, 11.21, 6.88, 8.27, 9.8, 6.67, 5.67, 8.9, 7.22, 10.41, 4.26, 7.22, 6.26, 8.26, 6.62, 7.41, 6.41, 8.79, 6.39, 7.95, 6.18, 9.13, 5.43, 7.41, 5.81, 9.19, 5.31, 7.6, 8.99, 16.99, 17.88, 9.71, 7.09, 10.98, 5.91, 3.88, 5.83, 6.45, 5.46, 4.3, 5.9, 7.52, 23.52, 15.77], \"y0\": \" \", \"yaxis\": \"y\"}, {\"alignmentgroup\": \"True\", \"hoverlabel\": {\"namelength\": 0}, \"hovertemplate\": \"Region=%{x}<br>Estimated Unemployment Rate (%)=%{y}\", \"legendgroup\": \"Region=Madhya Pradesh\", \"marker\": {\"color\": \"#ab63fa\"}, \"name\": \"Region=Madhya Pradesh\", \"notched\": false, \"offsetgroup\": \"Region=Madhya Pradesh\", \"orientation\": \"v\", \"showlegend\": true, \"type\": \"box\", \"x\": [\"Madhya Pradesh\", \"Madhya Pradesh\", \"Madhya Pradesh\", \"Madhya Pradesh\", \"Madhya Pradesh\", \"Madhya Pradesh\", \"Madhya Pradesh\", \"Madhya Pradesh\", \"Madhya Pradesh\", \"Madhya Pradesh\", \"Madhya Pradesh\", \"Madhya Pradesh\", \"Madhya Pradesh\", \"Madhya Pradesh\", \"Madhya Pradesh\", \"Madhya Pradesh\", \"Madhya Pradesh\", \"Madhya Pradesh\", \"Madhya Pradesh\", \"Madhya Pradesh\", \"Madhya Pradesh\", \"Madhya Pradesh\", \"Madhya Pradesh\", \"Madhya Pradesh\", \"Madhya Pradesh\", \"Madhya Pradesh\", \"Madhya Pradesh\", \"Madhya Pradesh\", \"Madhya Pradesh\", \"Madhya Pradesh\", \"Madhya Pradesh\", \"Madhya Pradesh\", \"Madhya Pradesh\", \"Madhya Pradesh\", \"Madhya Pradesh\", \"Madhya Pradesh\", \"Madhya Pradesh\", \"Madhya Pradesh\", \"Madhya Pradesh\", \"Madhya Pradesh\", \"Madhya Pradesh\", \"Madhya Pradesh\", \"Madhya Pradesh\", \"Madhya Pradesh\", \"Madhya Pradesh\", \"Madhya Pradesh\", \"Madhya Pradesh\", \"Madhya Pradesh\", \"Madhya Pradesh\", \"Madhya Pradesh\", \"Madhya Pradesh\", \"Madhya Pradesh\", \"Madhya Pradesh\", \"Madhya Pradesh\", \"Madhya Pradesh\", \"Madhya Pradesh\", \"Madhya Pradesh\", \"Madhya Pradesh\", \"Madhya Pradesh\", \"Madhya Pradesh\", \"Madhya Pradesh\", \"Madhya Pradesh\", \"Madhya Pradesh\", \"Madhya Pradesh\", \"Madhya Pradesh\", \"Madhya Pradesh\"], \"x0\": \" \", \"xaxis\": \"x\", \"y\": [4.07, 4.36, 6.62, 8.73, 6.63, 2.86, 11.82, 9.97, 7.06, 5.31, 7.96, 3.38, 3.52, 3.41, 4.88, 2.31, 2.02, 1.54, 1.18, 1.33, 1.27, 1.64, 4.34, 2.6, 2.98, 2.78, 5.0, 3.18, 2.02, 2.59, 4.24, 6.21, 3.64, 7.29, 6.53, 6.98, 4.76, 6.47, 5.4, 6.47, 3.72, 4.86, 4.91, 5.5, 4.37, 3.38, 3.69, 3.9, 4.11, 4.57, 2.22, 12.36, 21.98, 6.48, 5.08, 4.7, 3.93, 3.26, 4.34, 3.99, 6.15, 2.02, 1.5, 1.35, 5.27, 2.34], \"y0\": \" \", \"yaxis\": \"y\"}, {\"alignmentgroup\": \"True\", \"hoverlabel\": {\"namelength\": 0}, \"hovertemplate\": \"Region=%{x}<br>Estimated Unemployment Rate (%)=%{y}\", \"legendgroup\": \"Region=Maharashtra\", \"marker\": {\"color\": \"#FFA15A\"}, \"name\": \"Region=Maharashtra\", \"notched\": false, \"offsetgroup\": \"Region=Maharashtra\", \"orientation\": \"v\", \"showlegend\": true, \"type\": \"box\", \"x\": [\"Maharashtra\", \"Maharashtra\", \"Maharashtra\", \"Maharashtra\", \"Maharashtra\", \"Maharashtra\", \"Maharashtra\", \"Maharashtra\", \"Maharashtra\", \"Maharashtra\", \"Maharashtra\", \"Maharashtra\", \"Maharashtra\", \"Maharashtra\", \"Maharashtra\", \"Maharashtra\", \"Maharashtra\", \"Maharashtra\", \"Maharashtra\", \"Maharashtra\", \"Maharashtra\", \"Maharashtra\", \"Maharashtra\", \"Maharashtra\", \"Maharashtra\", \"Maharashtra\", \"Maharashtra\", \"Maharashtra\", \"Maharashtra\", \"Maharashtra\", \"Maharashtra\", \"Maharashtra\", \"Maharashtra\", \"Maharashtra\", \"Maharashtra\", \"Maharashtra\", \"Maharashtra\", \"Maharashtra\", \"Maharashtra\", \"Maharashtra\", \"Maharashtra\", \"Maharashtra\", \"Maharashtra\", \"Maharashtra\", \"Maharashtra\", \"Maharashtra\", \"Maharashtra\", \"Maharashtra\", \"Maharashtra\", \"Maharashtra\", \"Maharashtra\", \"Maharashtra\", \"Maharashtra\", \"Maharashtra\", \"Maharashtra\", \"Maharashtra\", \"Maharashtra\", \"Maharashtra\", \"Maharashtra\", \"Maharashtra\", \"Maharashtra\", \"Maharashtra\", \"Maharashtra\", \"Maharashtra\", \"Maharashtra\", \"Maharashtra\"], \"x0\": \" \", \"xaxis\": \"x\", \"y\": [4.62, 3.69, 5.92, 9.92, 9.05, 6.58, 7.84, 8.96, 6.46, 4.34, 5.13, 5.2, 4.2, 3.49, 7.96, 4.05, 4.92, 4.11, 3.45, 4.76, 4.67, 3.87, 3.82, 2.7, 3.47, 3.83, 3.36, 4.88, 3.74, 4.19, 3.46, 4.05, 4.02, 3.82, 3.78, 3.21, 5.67, 3.73, 3.34, 4.09, 4.69, 5.26, 4.78, 5.26, 5.55, 5.38, 5.34, 4.94, 4.95, 4.69, 5.79, 20.9, 15.46, 9.23, 3.89, 6.23, 4.54, 4.2, 2.98, 3.9, 3.79, 3.75, 3.55, 5.47, 5.73, 4.37], \"y0\": \" \", \"yaxis\": \"y\"}, {\"alignmentgroup\": \"True\", \"hoverlabel\": {\"namelength\": 0}, \"hovertemplate\": \"Region=%{x}<br>Estimated Unemployment Rate (%)=%{y}\", \"legendgroup\": \"Region=Meghalaya\", \"marker\": {\"color\": \"#19d3f3\"}, \"name\": \"Region=Meghalaya\", \"notched\": false, \"offsetgroup\": \"Region=Meghalaya\", \"orientation\": \"v\", \"showlegend\": true, \"type\": \"box\", \"x\": [\"Meghalaya\", \"Meghalaya\", \"Meghalaya\", \"Meghalaya\", \"Meghalaya\", \"Meghalaya\", \"Meghalaya\", \"Meghalaya\", \"Meghalaya\", \"Meghalaya\", \"Meghalaya\", \"Meghalaya\", \"Meghalaya\", \"Meghalaya\", \"Meghalaya\", \"Meghalaya\", \"Meghalaya\", \"Meghalaya\", \"Meghalaya\", \"Meghalaya\", \"Meghalaya\", \"Meghalaya\", \"Meghalaya\", \"Meghalaya\", \"Meghalaya\", \"Meghalaya\", \"Meghalaya\", \"Meghalaya\", \"Meghalaya\", \"Meghalaya\", \"Meghalaya\", \"Meghalaya\", \"Meghalaya\", \"Meghalaya\", \"Meghalaya\", \"Meghalaya\", \"Meghalaya\", \"Meghalaya\", \"Meghalaya\", \"Meghalaya\", \"Meghalaya\", \"Meghalaya\"], \"x0\": \" \", \"xaxis\": \"x\", \"y\": [10.86, 7.92, 6.72, 4.04, 10.54, 6.73, 3.51, 4.23, 4.57, 4.81, 3.02, 2.71, 2.65, 6.4, 2.01, 2.28, 4.09, 5.08, 1.72, 1.6, 1.19, 4.35, 1.8, 2.48, 1.66, 3.59, 1.58, 10.03, 5.92, 1.15, 2.1, 3.74, 4.29, 4.6, 1.12, 6.58, 3.28, 3.83, 1.31, 1.44, 6.49, 2.84], \"y0\": \" \", \"yaxis\": \"y\"}, {\"alignmentgroup\": \"True\", \"hoverlabel\": {\"namelength\": 0}, \"hovertemplate\": \"Region=%{x}<br>Estimated Unemployment Rate (%)=%{y}\", \"legendgroup\": \"Region=Odisha\", \"marker\": {\"color\": \"#FF6692\"}, \"name\": \"Region=Odisha\", \"notched\": false, \"offsetgroup\": \"Region=Odisha\", \"orientation\": \"v\", \"showlegend\": true, \"type\": \"box\", \"x\": [\"Odisha\", \"Odisha\", \"Odisha\", \"Odisha\", \"Odisha\", \"Odisha\", \"Odisha\", \"Odisha\", \"Odisha\", \"Odisha\", \"Odisha\", \"Odisha\", \"Odisha\", \"Odisha\", \"Odisha\", \"Odisha\", \"Odisha\", \"Odisha\", \"Odisha\", \"Odisha\", \"Odisha\", \"Odisha\", \"Odisha\", \"Odisha\", \"Odisha\", \"Odisha\", \"Odisha\", \"Odisha\", \"Odisha\", \"Odisha\", \"Odisha\", \"Odisha\", \"Odisha\", \"Odisha\", \"Odisha\", \"Odisha\", \"Odisha\", \"Odisha\", \"Odisha\", \"Odisha\", \"Odisha\", \"Odisha\", \"Odisha\", \"Odisha\", \"Odisha\", \"Odisha\", \"Odisha\", \"Odisha\", \"Odisha\", \"Odisha\", \"Odisha\", \"Odisha\", \"Odisha\", \"Odisha\", \"Odisha\", \"Odisha\", \"Odisha\", \"Odisha\", \"Odisha\", \"Odisha\", \"Odisha\", \"Odisha\", \"Odisha\", \"Odisha\", \"Odisha\", \"Odisha\"], \"x0\": \" \", \"xaxis\": \"x\", \"y\": [7.06, 10.45, 12.64, 8.67, 7.85, 10.6, 9.03, 10.27, 4.75, 4.08, 4.94, 6.75, 4.72, 3.26, 1.56, 3.01, 6.81, 3.4, 3.29, 3.39, 4.51, 9.37, 1.98, 2.94, 5.59, 6.9, 7.61, 7.97, 8.18, 6.37, 5.59, 6.69, 5.63, 5.16, 3.45, 5.0, 4.18, 6.56, 2.82, 6.38, 3.95, 4.35, 3.05, 3.65, 4.22, 4.32, 4.29, 4.44, 1.9, 3.12, 13.08, 23.76, 11.41, 3.77, 1.88, 1.42, 2.1, 2.18, 1.7, 0.16, 2.97, 2.46, 1.56, 1.88, 7.02, 3.46], \"y0\": \" \", \"yaxis\": \"y\"}, {\"alignmentgroup\": \"True\", \"hoverlabel\": {\"namelength\": 0}, \"hovertemplate\": \"Region=%{x}<br>Estimated Unemployment Rate (%)=%{y}\", \"legendgroup\": \"Region=Puducherry\", \"marker\": {\"color\": \"#B6E880\"}, \"name\": \"Region=Puducherry\", \"notched\": false, \"offsetgroup\": \"Region=Puducherry\", \"orientation\": \"v\", \"showlegend\": true, \"type\": \"box\", \"x\": [\"Puducherry\", \"Puducherry\", \"Puducherry\", \"Puducherry\", \"Puducherry\", \"Puducherry\", \"Puducherry\", \"Puducherry\", \"Puducherry\", \"Puducherry\", \"Puducherry\", \"Puducherry\", \"Puducherry\", \"Puducherry\", \"Puducherry\", \"Puducherry\", \"Puducherry\", \"Puducherry\", \"Puducherry\", \"Puducherry\", \"Puducherry\", \"Puducherry\", \"Puducherry\", \"Puducherry\", \"Puducherry\", \"Puducherry\", \"Puducherry\", \"Puducherry\", \"Puducherry\", \"Puducherry\", \"Puducherry\", \"Puducherry\", \"Puducherry\", \"Puducherry\", \"Puducherry\", \"Puducherry\", \"Puducherry\", \"Puducherry\", \"Puducherry\", \"Puducherry\", \"Puducherry\", \"Puducherry\", \"Puducherry\", \"Puducherry\", \"Puducherry\", \"Puducherry\", \"Puducherry\", \"Puducherry\", \"Puducherry\", \"Puducherry\", \"Puducherry\", \"Puducherry\", \"Puducherry\", \"Puducherry\", \"Puducherry\", \"Puducherry\", \"Puducherry\", \"Puducherry\", \"Puducherry\", \"Puducherry\", \"Puducherry\", \"Puducherry\", \"Puducherry\", \"Puducherry\", \"Puducherry\", \"Puducherry\"], \"x0\": \" \", \"xaxis\": \"x\", \"y\": [12.53, 16.32, 4.77, 1.42, 5.96, 13.55, 5.14, 1.5, 3.33, 11.54, 4.71, 2.6, 1.98, 4.41, 1.1, 3.0, 1.34, 6.7, 1.79, 4.3, 5.32, 2.87, 4.1, 2.79, 4.44, 2.02, 3.94, 1.65, 2.27, 0.76, 3.29, 0.68, 3.51, 0.57, 0.42, 0.37, 1.67, 0.87, 0.31, 0.37, 0.78, 0.0, 0.0, 7.47, 0.76, 1.17, 0.91, 4.05, 0.58, 1.76, 1.2, 75.85, 58.19, 4.24, 15.47, 5.05, 10.9, 6.18, 2.18, 2.7, 7.56, 5.76, 1.44, 2.72, 23.97, 47.12], \"y0\": \" \", \"yaxis\": \"y\"}, {\"alignmentgroup\": \"True\", \"hoverlabel\": {\"namelength\": 0}, \"hovertemplate\": \"Region=%{x}<br>Estimated Unemployment Rate (%)=%{y}\", \"legendgroup\": \"Region=Punjab\", \"marker\": {\"color\": \"#FF97FF\"}, \"name\": \"Region=Punjab\", \"notched\": false, \"offsetgroup\": \"Region=Punjab\", \"orientation\": \"v\", \"showlegend\": true, \"type\": \"box\", \"x\": [\"Punjab\", \"Punjab\", \"Punjab\", \"Punjab\", \"Punjab\", \"Punjab\", \"Punjab\", \"Punjab\", \"Punjab\", \"Punjab\", \"Punjab\", \"Punjab\", \"Punjab\", \"Punjab\", \"Punjab\", \"Punjab\", \"Punjab\", \"Punjab\", \"Punjab\", \"Punjab\", \"Punjab\", \"Punjab\", \"Punjab\", \"Punjab\", \"Punjab\", \"Punjab\", \"Punjab\", \"Punjab\", \"Punjab\", \"Punjab\", \"Punjab\", \"Punjab\", \"Punjab\", \"Punjab\", \"Punjab\", \"Punjab\", \"Punjab\", \"Punjab\", \"Punjab\", \"Punjab\", \"Punjab\", \"Punjab\", \"Punjab\", \"Punjab\", \"Punjab\", \"Punjab\", \"Punjab\", \"Punjab\", \"Punjab\", \"Punjab\", \"Punjab\", \"Punjab\", \"Punjab\", \"Punjab\", \"Punjab\", \"Punjab\", \"Punjab\", \"Punjab\", \"Punjab\", \"Punjab\", \"Punjab\", \"Punjab\", \"Punjab\", \"Punjab\", \"Punjab\", \"Punjab\"], \"x0\": \" \", \"xaxis\": \"x\", \"y\": [7.66, 12.38, 8.32, 7.28, 5.07, 10.58, 6.29, 6.68, 4.81, 11.09, 4.87, 6.07, 5.62, 7.99, 2.62, 1.83, 5.45, 8.89, 4.68, 2.48, 4.02, 7.82, 9.15, 6.78, 6.69, 9.64, 9.01, 7.16, 7.26, 8.29, 8.44, 5.37, 9.83, 11.68, 8.56, 5.83, 10.47, 12.39, 9.8, 7.51, 10.73, 12.55, 10.36, 8.68, 11.29, 12.97, 8.29, 8.36, 11.11, 10.97, 10.32, 2.86, 28.33, 16.55, 9.19, 10.99, 9.61, 9.83, 7.64, 4.37, 8.09, 7.21, 7.35, 5.33, 8.84, 8.22], \"y0\": \" \", \"yaxis\": \"y\"}, {\"alignmentgroup\": \"True\", \"hoverlabel\": {\"namelength\": 0}, \"hovertemplate\": \"Region=%{x}<br>Estimated Unemployment Rate (%)=%{y}\", \"legendgroup\": \"Region=Rajasthan\", \"marker\": {\"color\": \"#FECB52\"}, \"name\": \"Region=Rajasthan\", \"notched\": false, \"offsetgroup\": \"Region=Rajasthan\", \"orientation\": \"v\", \"showlegend\": true, \"type\": \"box\", \"x\": [\"Rajasthan\", \"Rajasthan\", \"Rajasthan\", \"Rajasthan\", \"Rajasthan\", \"Rajasthan\", \"Rajasthan\", \"Rajasthan\", \"Rajasthan\", \"Rajasthan\", \"Rajasthan\", \"Rajasthan\", \"Rajasthan\", \"Rajasthan\", \"Rajasthan\", \"Rajasthan\", \"Rajasthan\", \"Rajasthan\", \"Rajasthan\", \"Rajasthan\", \"Rajasthan\", \"Rajasthan\", \"Rajasthan\", \"Rajasthan\", \"Rajasthan\", \"Rajasthan\", \"Rajasthan\", \"Rajasthan\", \"Rajasthan\", \"Rajasthan\", \"Rajasthan\", \"Rajasthan\", \"Rajasthan\", \"Rajasthan\", \"Rajasthan\", \"Rajasthan\", \"Rajasthan\", \"Rajasthan\", \"Rajasthan\", \"Rajasthan\", \"Rajasthan\", \"Rajasthan\", \"Rajasthan\", \"Rajasthan\", \"Rajasthan\", \"Rajasthan\", \"Rajasthan\", \"Rajasthan\", \"Rajasthan\", \"Rajasthan\", \"Rajasthan\", \"Rajasthan\", \"Rajasthan\", \"Rajasthan\", \"Rajasthan\", \"Rajasthan\", \"Rajasthan\", \"Rajasthan\", \"Rajasthan\", \"Rajasthan\", \"Rajasthan\", \"Rajasthan\", \"Rajasthan\", \"Rajasthan\", \"Rajasthan\", \"Rajasthan\"], \"x0\": \" \", \"xaxis\": \"x\", \"y\": [6.72, 3.82, 7.56, 11.45, 8.82, 7.16, 6.36, 5.55, 4.17, 3.91, 4.97, 7.77, 5.18, 3.73, 2.79, 4.95, 2.73, 4.4, 1.72, 6.5, 1.59, 3.56, 7.78, 4.7, 6.41, 6.65, 13.2, 7.4, 5.36, 10.08, 9.49, 9.75, 7.58, 13.63, 12.51, 14.87, 7.67, 10.58, 9.71, 12.58, 6.63, 13.88, 10.23, 13.08, 7.52, 14.24, 11.49, 15.01, 10.97, 15.16, 11.9, 17.7, 15.74, 14.39, 15.81, 17.51, 15.35, 24.1, 18.52, 28.23, 17.69, 25.63, 19.74, 28.04, 27.64, 26.25], \"y0\": \" \", \"yaxis\": \"y\"}, {\"alignmentgroup\": \"True\", \"hoverlabel\": {\"namelength\": 0}, \"hovertemplate\": \"Region=%{x}<br>Estimated Unemployment Rate (%)=%{y}\", \"legendgroup\": \"Region=Sikkim\", \"marker\": {\"color\": \"#636efa\"}, \"name\": \"Region=Sikkim\", \"notched\": false, \"offsetgroup\": \"Region=Sikkim\", \"orientation\": \"v\", \"showlegend\": true, \"type\": \"box\", \"x\": [\"Sikkim\", \"Sikkim\", \"Sikkim\", \"Sikkim\", \"Sikkim\", \"Sikkim\", \"Sikkim\", \"Sikkim\", \"Sikkim\", \"Sikkim\", \"Sikkim\", \"Sikkim\", \"Sikkim\", \"Sikkim\", \"Sikkim\", \"Sikkim\", \"Sikkim\", \"Sikkim\", \"Sikkim\", \"Sikkim\", \"Sikkim\", \"Sikkim\", \"Sikkim\", \"Sikkim\", \"Sikkim\", \"Sikkim\", \"Sikkim\", \"Sikkim\", \"Sikkim\", \"Sikkim\", \"Sikkim\"], \"x0\": \" \", \"xaxis\": \"x\", \"y\": [11.25, 12.14, 4.69, 13.24, 8.3, 6.8, 4.79, 13.31, 8.99, 6.81, 2.06, 6.41, 7.1, 9.71, 3.34, 23.57, 2.28, 24.51, 4.46, 4.45, 12.49, 5.7, 0.88, 1.85, 0.67, 0.0, 4.29, 1.74, 1.8, 4.19, 0.0], \"y0\": \" \", \"yaxis\": \"y\"}, {\"alignmentgroup\": \"True\", \"hoverlabel\": {\"namelength\": 0}, \"hovertemplate\": \"Region=%{x}<br>Estimated Unemployment Rate (%)=%{y}\", \"legendgroup\": \"Region=Tamil Nadu\", \"marker\": {\"color\": \"#EF553B\"}, \"name\": \"Region=Tamil Nadu\", \"notched\": false, \"offsetgroup\": \"Region=Tamil Nadu\", \"orientation\": \"v\", \"showlegend\": true, \"type\": \"box\", \"x\": [\"Tamil Nadu\", \"Tamil Nadu\", \"Tamil Nadu\", \"Tamil Nadu\", \"Tamil Nadu\", \"Tamil Nadu\", \"Tamil Nadu\", \"Tamil Nadu\", \"Tamil Nadu\", \"Tamil Nadu\", \"Tamil Nadu\", \"Tamil Nadu\", \"Tamil Nadu\", \"Tamil Nadu\", \"Tamil Nadu\", \"Tamil Nadu\", \"Tamil Nadu\", \"Tamil Nadu\", \"Tamil Nadu\", \"Tamil Nadu\", \"Tamil Nadu\", \"Tamil Nadu\", \"Tamil Nadu\", \"Tamil Nadu\", \"Tamil Nadu\", \"Tamil Nadu\", \"Tamil Nadu\", \"Tamil Nadu\", \"Tamil Nadu\", \"Tamil Nadu\", \"Tamil Nadu\", \"Tamil Nadu\", \"Tamil Nadu\", \"Tamil Nadu\", \"Tamil Nadu\", \"Tamil Nadu\", \"Tamil Nadu\", \"Tamil Nadu\", \"Tamil Nadu\", \"Tamil Nadu\", \"Tamil Nadu\", \"Tamil Nadu\", \"Tamil Nadu\", \"Tamil Nadu\", \"Tamil Nadu\", \"Tamil Nadu\", \"Tamil Nadu\", \"Tamil Nadu\", \"Tamil Nadu\", \"Tamil Nadu\", \"Tamil Nadu\", \"Tamil Nadu\", \"Tamil Nadu\", \"Tamil Nadu\", \"Tamil Nadu\", \"Tamil Nadu\", \"Tamil Nadu\", \"Tamil Nadu\", \"Tamil Nadu\", \"Tamil Nadu\", \"Tamil Nadu\", \"Tamil Nadu\", \"Tamil Nadu\", \"Tamil Nadu\", \"Tamil Nadu\", \"Tamil Nadu\"], \"x0\": \" \", \"xaxis\": \"x\", \"y\": [7.59, 4.41, 11.6, 9.77, 9.11, 6.79, 8.53, 10.93, 18.4, 10.65, 6.0, 7.09, 12.55, 7.63, 4.18, 5.69, 3.67, 2.68, 3.18, 2.81, 3.08, 3.85, 3.0, 2.94, 2.4, 2.55, 3.03, 1.87, 2.08, 1.51, 2.56, 1.6, 1.8, 1.1, 3.02, 2.07, 2.25, 1.91, 1.72, 1.23, 0.94, 1.19, 4.83, 5.8, 1.8, 1.31, 2.54, 5.7, 1.57, 2.09, 6.4, 49.83, 33.16, 12.2, 6.81, 2.65, 5.0, 2.16, 1.15, 0.53, 3.99, 4.79, 3.02, 2.34, 27.97, 8.3], \"y0\": \" \", \"yaxis\": \"y\"}, {\"alignmentgroup\": \"True\", \"hoverlabel\": {\"namelength\": 0}, \"hovertemplate\": \"Region=%{x}<br>Estimated Unemployment Rate (%)=%{y}\", \"legendgroup\": \"Region=Telangana\", \"marker\": {\"color\": \"#00cc96\"}, \"name\": \"Region=Telangana\", \"notched\": false, \"offsetgroup\": \"Region=Telangana\", \"orientation\": \"v\", \"showlegend\": true, \"type\": \"box\", \"x\": [\"Telangana\", \"Telangana\", \"Telangana\", \"Telangana\", \"Telangana\", \"Telangana\", \"Telangana\", \"Telangana\", \"Telangana\", \"Telangana\", \"Telangana\", \"Telangana\", \"Telangana\", \"Telangana\", \"Telangana\", \"Telangana\", \"Telangana\", \"Telangana\", \"Telangana\", \"Telangana\", \"Telangana\", \"Telangana\", \"Telangana\", \"Telangana\", \"Telangana\", \"Telangana\", \"Telangana\", \"Telangana\", \"Telangana\", \"Telangana\", \"Telangana\", \"Telangana\", \"Telangana\", \"Telangana\", \"Telangana\", \"Telangana\", \"Telangana\", \"Telangana\", \"Telangana\", \"Telangana\", \"Telangana\", \"Telangana\", \"Telangana\", \"Telangana\", \"Telangana\", \"Telangana\", \"Telangana\", \"Telangana\", \"Telangana\", \"Telangana\", \"Telangana\", \"Telangana\", \"Telangana\", \"Telangana\", \"Telangana\", \"Telangana\", \"Telangana\", \"Telangana\", \"Telangana\", \"Telangana\", \"Telangana\", \"Telangana\", \"Telangana\", \"Telangana\", \"Telangana\", \"Telangana\"], \"x0\": \" \", \"xaxis\": \"x\", \"y\": [7.36, 4.67, 4.76, 6.49, 6.3, 8.53, 4.64, 4.1, 3.69, 7.48, 4.83, 4.6, 5.23, 14.47, 5.38, 2.59, 3.38, 12.94, 4.71, 1.98, 2.42, 4.05, 2.83, 2.74, 4.0, 3.43, 3.62, 1.97, 0.97, 1.19, 0.75, 0.49, 0.44, 0.94, 0.52, 0.94, 2.61, 2.38, 2.48, 2.66, 1.99, 4.41, 2.86, 2.37, 4.82, 7.11, 6.07, 2.3, 5.49, 8.29, 5.77, 6.25, 14.7, 10.55, 5.36, 5.79, 3.27, 2.93, 1.56, 7.05, 4.26, 5.58, 3.67, 5.05, 7.39, 4.82], \"y0\": \" \", \"yaxis\": \"y\"}, {\"alignmentgroup\": \"True\", \"hoverlabel\": {\"namelength\": 0}, \"hovertemplate\": \"Region=%{x}<br>Estimated Unemployment Rate (%)=%{y}\", \"legendgroup\": \"Region=Tripura\", \"marker\": {\"color\": \"#ab63fa\"}, \"name\": \"Region=Tripura\", \"notched\": false, \"offsetgroup\": \"Region=Tripura\", \"orientation\": \"v\", \"showlegend\": true, \"type\": \"box\", \"x\": [\"Tripura\", \"Tripura\", \"Tripura\", \"Tripura\", \"Tripura\", \"Tripura\", \"Tripura\", \"Tripura\", \"Tripura\", \"Tripura\", \"Tripura\", \"Tripura\", \"Tripura\", \"Tripura\", \"Tripura\", \"Tripura\", \"Tripura\", \"Tripura\", \"Tripura\", \"Tripura\", \"Tripura\", \"Tripura\", \"Tripura\", \"Tripura\", \"Tripura\", \"Tripura\", \"Tripura\", \"Tripura\", \"Tripura\", \"Tripura\", \"Tripura\", \"Tripura\", \"Tripura\", \"Tripura\", \"Tripura\", \"Tripura\", \"Tripura\", \"Tripura\", \"Tripura\", \"Tripura\", \"Tripura\", \"Tripura\", \"Tripura\", \"Tripura\", \"Tripura\"], \"x0\": \" \", \"xaxis\": \"x\", \"y\": [19.41, 8.51, 8.35, 31.11, 30.23, 15.19, 13.55, 23.68, 22.13, 17.86, 27.43, 39.1, 32.43, 32.34, 27.34, 32.63, 26.16, 22.98, 25.43, 30.94, 26.36, 23.44, 27.86, 31.23, 27.31, 25.8, 28.59, 32.67, 28.4, 29.95, 41.23, 21.51, 21.71, 18.24, 27.92, 17.35, 11.57, 13.06, 18.21, 18.15, 11.05, 13.94, 17.28, 20.02, 9.62], \"y0\": \" \", \"yaxis\": \"y\"}, {\"alignmentgroup\": \"True\", \"hoverlabel\": {\"namelength\": 0}, \"hovertemplate\": \"Region=%{x}<br>Estimated Unemployment Rate (%)=%{y}\", \"legendgroup\": \"Region=Uttar Pradesh\", \"marker\": {\"color\": \"#FFA15A\"}, \"name\": \"Region=Uttar Pradesh\", \"notched\": false, \"offsetgroup\": \"Region=Uttar Pradesh\", \"orientation\": \"v\", \"showlegend\": true, \"type\": \"box\", \"x\": [\"Uttar Pradesh\", \"Uttar Pradesh\", \"Uttar Pradesh\", \"Uttar Pradesh\", \"Uttar Pradesh\", \"Uttar Pradesh\", \"Uttar Pradesh\", \"Uttar Pradesh\", \"Uttar Pradesh\", \"Uttar Pradesh\", \"Uttar Pradesh\", \"Uttar Pradesh\", \"Uttar Pradesh\", \"Uttar Pradesh\", \"Uttar Pradesh\", \"Uttar Pradesh\", \"Uttar Pradesh\", \"Uttar Pradesh\", \"Uttar Pradesh\", \"Uttar Pradesh\", \"Uttar Pradesh\", \"Uttar Pradesh\", \"Uttar Pradesh\", \"Uttar Pradesh\", \"Uttar Pradesh\", \"Uttar Pradesh\", \"Uttar Pradesh\", \"Uttar Pradesh\", \"Uttar Pradesh\", \"Uttar Pradesh\", \"Uttar Pradesh\", \"Uttar Pradesh\", \"Uttar Pradesh\", \"Uttar Pradesh\", \"Uttar Pradesh\", \"Uttar Pradesh\", \"Uttar Pradesh\", \"Uttar Pradesh\", \"Uttar Pradesh\", \"Uttar Pradesh\", \"Uttar Pradesh\", \"Uttar Pradesh\", \"Uttar Pradesh\", \"Uttar Pradesh\", \"Uttar Pradesh\", \"Uttar Pradesh\", \"Uttar Pradesh\", \"Uttar Pradesh\", \"Uttar Pradesh\", \"Uttar Pradesh\", \"Uttar Pradesh\", \"Uttar Pradesh\", \"Uttar Pradesh\", \"Uttar Pradesh\", \"Uttar Pradesh\", \"Uttar Pradesh\", \"Uttar Pradesh\", \"Uttar Pradesh\", \"Uttar Pradesh\", \"Uttar Pradesh\", \"Uttar Pradesh\", \"Uttar Pradesh\", \"Uttar Pradesh\", \"Uttar Pradesh\", \"Uttar Pradesh\", \"Uttar Pradesh\"], \"x0\": \" \", \"xaxis\": \"x\", \"y\": [14.91, 15.45, 14.39, 15.38, 16.42, 17.98, 14.22, 17.08, 10.13, 8.87, 6.64, 7.59, 3.71, 3.02, 2.43, 5.04, 2.84, 2.74, 2.06, 6.65, 3.66, 3.73, 2.49, 5.4, 4.03, 3.93, 3.14, 5.56, 5.21, 4.04, 4.63, 8.5, 7.88, 6.19, 6.98, 11.03, 9.59, 9.52, 8.87, 11.06, 11.28, 11.25, 9.84, 12.27, 8.11, 10.22, 8.05, 9.39, 7.58, 8.98, 10.11, 21.54, 20.41, 9.47, 5.56, 5.79, 4.18, 3.75, 5.16, 14.95, 4.89, 4.1, 4.14, 6.3, 6.89, 4.32], \"y0\": \" \", \"yaxis\": \"y\"}, {\"alignmentgroup\": \"True\", \"hoverlabel\": {\"namelength\": 0}, \"hovertemplate\": \"Region=%{x}<br>Estimated Unemployment Rate (%)=%{y}\", \"legendgroup\": \"Region=Uttarakhand\", \"marker\": {\"color\": \"#19d3f3\"}, \"name\": \"Region=Uttarakhand\", \"notched\": false, \"offsetgroup\": \"Region=Uttarakhand\", \"orientation\": \"v\", \"showlegend\": true, \"type\": \"box\", \"x\": [\"Uttarakhand\", \"Uttarakhand\", \"Uttarakhand\", \"Uttarakhand\", \"Uttarakhand\", \"Uttarakhand\", \"Uttarakhand\", \"Uttarakhand\", \"Uttarakhand\", \"Uttarakhand\", \"Uttarakhand\", \"Uttarakhand\", \"Uttarakhand\", \"Uttarakhand\", \"Uttarakhand\", \"Uttarakhand\", \"Uttarakhand\", \"Uttarakhand\", \"Uttarakhand\", \"Uttarakhand\", \"Uttarakhand\", \"Uttarakhand\", \"Uttarakhand\", \"Uttarakhand\", \"Uttarakhand\", \"Uttarakhand\", \"Uttarakhand\", \"Uttarakhand\", \"Uttarakhand\", \"Uttarakhand\", \"Uttarakhand\", \"Uttarakhand\", \"Uttarakhand\", \"Uttarakhand\", \"Uttarakhand\", \"Uttarakhand\", \"Uttarakhand\", \"Uttarakhand\", \"Uttarakhand\", \"Uttarakhand\", \"Uttarakhand\", \"Uttarakhand\", \"Uttarakhand\", \"Uttarakhand\", \"Uttarakhand\", \"Uttarakhand\", \"Uttarakhand\", \"Uttarakhand\", \"Uttarakhand\", \"Uttarakhand\", \"Uttarakhand\", \"Uttarakhand\", \"Uttarakhand\", \"Uttarakhand\", \"Uttarakhand\", \"Uttarakhand\", \"Uttarakhand\", \"Uttarakhand\", \"Uttarakhand\", \"Uttarakhand\", \"Uttarakhand\", \"Uttarakhand\", \"Uttarakhand\", \"Uttarakhand\", \"Uttarakhand\", \"Uttarakhand\"], \"x0\": \" \", \"xaxis\": \"x\", \"y\": [1.31, 4.53, 2.42, 1.26, 1.08, 2.85, 0.7, 0.94, 1.57, 3.97, 0.12, 0.83, 0.55, 3.03, 0.28, 0.25, 0.14, 1.81, 0.28, 0.0, 0.27, 1.48, 3.86, 1.83, 0.87, 1.22, 2.41, 0.92, 1.0, 1.26, 2.33, 0.33, 2.36, 4.37, 4.06, 5.48, 3.53, 5.12, 5.0, 6.36, 3.58, 4.66, 6.1, 6.52, 5.07, 4.8, 5.8, 5.41, 5.49, 4.99, 19.85, 6.48, 8.01, 8.61, 12.38, 14.26, 22.26, 9.23, 1.47, 5.19, 4.45, 4.69, 3.26, 5.96, 5.49, 4.81], \"y0\": \" \", \"yaxis\": \"y\"}, {\"alignmentgroup\": \"True\", \"hoverlabel\": {\"namelength\": 0}, \"hovertemplate\": \"Region=%{x}<br>Estimated Unemployment Rate (%)=%{y}\", \"legendgroup\": \"Region=West Bengal\", \"marker\": {\"color\": \"#FF6692\"}, \"name\": \"Region=West Bengal\", \"notched\": false, \"offsetgroup\": \"Region=West Bengal\", \"orientation\": \"v\", \"showlegend\": true, \"type\": \"box\", \"x\": [\"West Bengal\", \"West Bengal\", \"West Bengal\", \"West Bengal\", \"West Bengal\", \"West Bengal\", \"West Bengal\", \"West Bengal\", \"West Bengal\", \"West Bengal\", \"West Bengal\", \"West Bengal\", \"West Bengal\", \"West Bengal\", \"West Bengal\", \"West Bengal\", \"West Bengal\", \"West Bengal\", \"West Bengal\", \"West Bengal\", \"West Bengal\", \"West Bengal\", \"West Bengal\", \"West Bengal\", \"West Bengal\", \"West Bengal\", \"West Bengal\", \"West Bengal\", \"West Bengal\", \"West Bengal\", \"West Bengal\", \"West Bengal\", \"West Bengal\", \"West Bengal\", \"West Bengal\", \"West Bengal\", \"West Bengal\", \"West Bengal\", \"West Bengal\", \"West Bengal\", \"West Bengal\", \"West Bengal\", \"West Bengal\", \"West Bengal\", \"West Bengal\", \"West Bengal\", \"West Bengal\", \"West Bengal\", \"West Bengal\", \"West Bengal\", \"West Bengal\", \"West Bengal\", \"West Bengal\", \"West Bengal\", \"West Bengal\", \"West Bengal\", \"West Bengal\", \"West Bengal\", \"West Bengal\", \"West Bengal\", \"West Bengal\", \"West Bengal\", \"West Bengal\", \"West Bengal\", \"West Bengal\", \"West Bengal\"], \"x0\": \" \", \"xaxis\": \"x\", \"y\": [9.04, 6.19, 8.24, 7.54, 6.6, 6.85, 7.99, 7.23, 7.73, 4.64, 7.26, 5.94, 6.6, 4.83, 6.59, 5.13, 5.96, 4.82, 6.31, 5.17, 7.46, 5.75, 5.94, 5.37, 8.63, 8.83, 7.92, 6.24, 7.37, 7.82, 6.43, 5.7, 7.14, 6.74, 6.15, 5.89, 6.95, 6.45, 6.1, 6.55, 6.43, 6.31, 6.32, 6.12, 6.41, 7.1, 6.06, 6.25, 6.94, 4.92, 6.92, 17.41, 17.41, 7.29, 6.83, 14.87, 9.31, 10.22, 11.24, 6.01, 5.25, 6.22, 7.51, 7.63, 19.34, 22.14], \"y0\": \" \", \"yaxis\": \"y\"}, {\"alignmentgroup\": \"True\", \"hoverlabel\": {\"namelength\": 0}, \"hovertemplate\": \"Region=%{x}<br>Estimated Unemployment Rate (%)=%{y}\", \"legendgroup\": \"Region=India\", \"marker\": {\"color\": \"#B6E880\"}, \"name\": \"Region=India\", \"notched\": false, \"offsetgroup\": \"Region=India\", \"orientation\": \"v\", \"showlegend\": true, \"type\": \"box\", \"x\": [\"India\", \"India\", \"India\", \"India\", \"India\", \"India\", \"India\", \"India\", \"India\", \"India\", \"India\", \"India\", \"India\", \"India\", \"India\", \"India\", \"India\", \"India\", \"India\", \"India\", \"India\", \"India\", \"India\", \"India\", \"India\", \"India\", \"India\", \"India\", \"India\", \"India\", \"India\", \"India\", \"India\", \"India\", \"India\", \"India\", \"India\", \"India\", \"India\", \"India\", \"India\", \"India\", \"India\", \"India\", \"India\", \"India\", \"India\", \"India\", \"India\", \"India\", \"India\", \"India\", \"India\", \"India\", \"India\", \"India\", \"India\", \"India\", \"India\", \"India\", \"India\", \"India\", \"India\", \"India\", \"India\", \"India\"], \"x0\": \" \", \"xaxis\": \"x\", \"y\": [8.72, 8.46, 8.73, 8.9, 9.65, 8.91, 8.51, 9.59, 8.43, 6.71, 6.51, 6.4, 5.93, 5.01, 4.67, 3.87, 4.03, 4.12, 3.37, 4.07, 4.63, 5.0, 4.72, 4.74, 5.01, 5.87, 6.0, 5.57, 5.14, 5.75, 5.66, 6.27, 6.47, 6.83, 6.65, 7.02, 6.86, 7.2, 6.65, 7.35, 7.03, 7.87, 7.34, 8.19, 7.14, 8.1, 7.23, 7.6, 7.22, 7.76, 8.75, 23.52, 21.73, 10.18, 7.4, 8.35, 6.68, 7.02, 6.5, 9.06, 6.52, 6.89, 6.5, 7.97, 11.9, 9.17], \"y0\": \" \", \"yaxis\": \"y\"}],\n",
              "                        {\"boxmode\": \"group\", \"legend\": {\"tracegroupgap\": 0}, \"template\": {\"data\": {\"bar\": [{\"error_x\": {\"color\": \"#2a3f5f\"}, \"error_y\": {\"color\": \"#2a3f5f\"}, \"marker\": {\"line\": {\"color\": \"#E5ECF6\", \"width\": 0.5}}, \"type\": \"bar\"}], \"barpolar\": [{\"marker\": {\"line\": {\"color\": \"#E5ECF6\", \"width\": 0.5}}, \"type\": \"barpolar\"}], \"carpet\": [{\"aaxis\": {\"endlinecolor\": \"#2a3f5f\", \"gridcolor\": \"white\", \"linecolor\": \"white\", \"minorgridcolor\": \"white\", \"startlinecolor\": \"#2a3f5f\"}, \"baxis\": {\"endlinecolor\": \"#2a3f5f\", \"gridcolor\": \"white\", \"linecolor\": \"white\", \"minorgridcolor\": \"white\", \"startlinecolor\": \"#2a3f5f\"}, \"type\": \"carpet\"}], \"choropleth\": [{\"colorbar\": {\"outlinewidth\": 0, \"ticks\": \"\"}, \"type\": \"choropleth\"}], \"contour\": [{\"colorbar\": {\"outlinewidth\": 0, \"ticks\": \"\"}, \"colorscale\": [[0.0, \"#0d0887\"], [0.1111111111111111, \"#46039f\"], [0.2222222222222222, \"#7201a8\"], [0.3333333333333333, \"#9c179e\"], [0.4444444444444444, \"#bd3786\"], [0.5555555555555556, \"#d8576b\"], [0.6666666666666666, \"#ed7953\"], [0.7777777777777778, \"#fb9f3a\"], [0.8888888888888888, \"#fdca26\"], [1.0, \"#f0f921\"]], \"type\": \"contour\"}], \"contourcarpet\": [{\"colorbar\": {\"outlinewidth\": 0, \"ticks\": \"\"}, \"type\": \"contourcarpet\"}], \"heatmap\": [{\"colorbar\": {\"outlinewidth\": 0, \"ticks\": \"\"}, \"colorscale\": [[0.0, \"#0d0887\"], [0.1111111111111111, \"#46039f\"], [0.2222222222222222, \"#7201a8\"], [0.3333333333333333, \"#9c179e\"], [0.4444444444444444, \"#bd3786\"], [0.5555555555555556, \"#d8576b\"], [0.6666666666666666, \"#ed7953\"], [0.7777777777777778, \"#fb9f3a\"], [0.8888888888888888, \"#fdca26\"], [1.0, \"#f0f921\"]], \"type\": \"heatmap\"}], \"heatmapgl\": [{\"colorbar\": {\"outlinewidth\": 0, \"ticks\": \"\"}, \"colorscale\": [[0.0, \"#0d0887\"], [0.1111111111111111, \"#46039f\"], [0.2222222222222222, \"#7201a8\"], [0.3333333333333333, \"#9c179e\"], [0.4444444444444444, \"#bd3786\"], [0.5555555555555556, \"#d8576b\"], [0.6666666666666666, \"#ed7953\"], [0.7777777777777778, \"#fb9f3a\"], [0.8888888888888888, \"#fdca26\"], [1.0, \"#f0f921\"]], \"type\": \"heatmapgl\"}], \"histogram\": [{\"marker\": {\"colorbar\": {\"outlinewidth\": 0, \"ticks\": \"\"}}, \"type\": \"histogram\"}], \"histogram2d\": [{\"colorbar\": {\"outlinewidth\": 0, \"ticks\": \"\"}, \"colorscale\": [[0.0, \"#0d0887\"], [0.1111111111111111, \"#46039f\"], [0.2222222222222222, \"#7201a8\"], [0.3333333333333333, \"#9c179e\"], [0.4444444444444444, \"#bd3786\"], [0.5555555555555556, \"#d8576b\"], [0.6666666666666666, \"#ed7953\"], [0.7777777777777778, \"#fb9f3a\"], [0.8888888888888888, \"#fdca26\"], [1.0, \"#f0f921\"]], \"type\": \"histogram2d\"}], \"histogram2dcontour\": [{\"colorbar\": {\"outlinewidth\": 0, \"ticks\": \"\"}, \"colorscale\": [[0.0, \"#0d0887\"], [0.1111111111111111, \"#46039f\"], [0.2222222222222222, \"#7201a8\"], [0.3333333333333333, \"#9c179e\"], [0.4444444444444444, \"#bd3786\"], [0.5555555555555556, \"#d8576b\"], [0.6666666666666666, \"#ed7953\"], [0.7777777777777778, \"#fb9f3a\"], [0.8888888888888888, \"#fdca26\"], [1.0, \"#f0f921\"]], \"type\": \"histogram2dcontour\"}], \"mesh3d\": [{\"colorbar\": {\"outlinewidth\": 0, \"ticks\": \"\"}, \"type\": \"mesh3d\"}], \"parcoords\": [{\"line\": {\"colorbar\": {\"outlinewidth\": 0, \"ticks\": \"\"}}, \"type\": \"parcoords\"}], \"pie\": [{\"automargin\": true, \"type\": \"pie\"}], \"scatter\": [{\"marker\": {\"colorbar\": {\"outlinewidth\": 0, \"ticks\": \"\"}}, \"type\": \"scatter\"}], \"scatter3d\": [{\"line\": {\"colorbar\": {\"outlinewidth\": 0, \"ticks\": \"\"}}, \"marker\": {\"colorbar\": {\"outlinewidth\": 0, \"ticks\": \"\"}}, \"type\": \"scatter3d\"}], \"scattercarpet\": [{\"marker\": {\"colorbar\": {\"outlinewidth\": 0, \"ticks\": \"\"}}, \"type\": \"scattercarpet\"}], \"scattergeo\": [{\"marker\": {\"colorbar\": {\"outlinewidth\": 0, \"ticks\": \"\"}}, \"type\": \"scattergeo\"}], \"scattergl\": [{\"marker\": {\"colorbar\": {\"outlinewidth\": 0, \"ticks\": \"\"}}, \"type\": \"scattergl\"}], \"scattermapbox\": [{\"marker\": {\"colorbar\": {\"outlinewidth\": 0, \"ticks\": \"\"}}, \"type\": \"scattermapbox\"}], \"scatterpolar\": [{\"marker\": {\"colorbar\": {\"outlinewidth\": 0, \"ticks\": \"\"}}, \"type\": \"scatterpolar\"}], \"scatterpolargl\": [{\"marker\": {\"colorbar\": {\"outlinewidth\": 0, \"ticks\": \"\"}}, \"type\": \"scatterpolargl\"}], \"scatterternary\": [{\"marker\": {\"colorbar\": {\"outlinewidth\": 0, \"ticks\": \"\"}}, \"type\": \"scatterternary\"}], \"surface\": [{\"colorbar\": {\"outlinewidth\": 0, \"ticks\": \"\"}, \"colorscale\": [[0.0, \"#0d0887\"], [0.1111111111111111, \"#46039f\"], [0.2222222222222222, \"#7201a8\"], [0.3333333333333333, \"#9c179e\"], [0.4444444444444444, \"#bd3786\"], [0.5555555555555556, \"#d8576b\"], [0.6666666666666666, \"#ed7953\"], [0.7777777777777778, \"#fb9f3a\"], [0.8888888888888888, \"#fdca26\"], [1.0, \"#f0f921\"]], \"type\": \"surface\"}], \"table\": [{\"cells\": {\"fill\": {\"color\": \"#EBF0F8\"}, \"line\": {\"color\": \"white\"}}, \"header\": {\"fill\": {\"color\": \"#C8D4E3\"}, \"line\": {\"color\": \"white\"}}, \"type\": \"table\"}]}, \"layout\": {\"annotationdefaults\": {\"arrowcolor\": \"#2a3f5f\", \"arrowhead\": 0, \"arrowwidth\": 1}, \"coloraxis\": {\"colorbar\": {\"outlinewidth\": 0, \"ticks\": \"\"}}, \"colorscale\": {\"diverging\": [[0, \"#8e0152\"], [0.1, \"#c51b7d\"], [0.2, \"#de77ae\"], [0.3, \"#f1b6da\"], [0.4, \"#fde0ef\"], [0.5, \"#f7f7f7\"], [0.6, \"#e6f5d0\"], [0.7, \"#b8e186\"], [0.8, \"#7fbc41\"], [0.9, \"#4d9221\"], [1, \"#276419\"]], \"sequential\": [[0.0, \"#0d0887\"], [0.1111111111111111, \"#46039f\"], [0.2222222222222222, \"#7201a8\"], [0.3333333333333333, \"#9c179e\"], [0.4444444444444444, \"#bd3786\"], [0.5555555555555556, \"#d8576b\"], [0.6666666666666666, \"#ed7953\"], [0.7777777777777778, \"#fb9f3a\"], [0.8888888888888888, \"#fdca26\"], [1.0, \"#f0f921\"]], \"sequentialminus\": [[0.0, \"#0d0887\"], [0.1111111111111111, \"#46039f\"], [0.2222222222222222, \"#7201a8\"], [0.3333333333333333, \"#9c179e\"], [0.4444444444444444, \"#bd3786\"], [0.5555555555555556, \"#d8576b\"], [0.6666666666666666, \"#ed7953\"], [0.7777777777777778, \"#fb9f3a\"], [0.8888888888888888, \"#fdca26\"], [1.0, \"#f0f921\"]]}, \"colorway\": [\"#636efa\", \"#EF553B\", \"#00cc96\", \"#ab63fa\", \"#FFA15A\", \"#19d3f3\", \"#FF6692\", \"#B6E880\", \"#FF97FF\", \"#FECB52\"], \"font\": {\"color\": \"#2a3f5f\"}, \"geo\": {\"bgcolor\": \"white\", \"lakecolor\": \"white\", \"landcolor\": \"#E5ECF6\", \"showlakes\": true, \"showland\": true, \"subunitcolor\": \"white\"}, \"hoverlabel\": {\"align\": \"left\"}, \"hovermode\": \"closest\", \"mapbox\": {\"style\": \"light\"}, \"paper_bgcolor\": \"white\", \"plot_bgcolor\": \"#E5ECF6\", \"polar\": {\"angularaxis\": {\"gridcolor\": \"white\", \"linecolor\": \"white\", \"ticks\": \"\"}, \"bgcolor\": \"#E5ECF6\", \"radialaxis\": {\"gridcolor\": \"white\", \"linecolor\": \"white\", \"ticks\": \"\"}}, \"scene\": {\"xaxis\": {\"backgroundcolor\": \"#E5ECF6\", \"gridcolor\": \"white\", \"gridwidth\": 2, \"linecolor\": \"white\", \"showbackground\": true, \"ticks\": \"\", \"zerolinecolor\": \"white\"}, \"yaxis\": {\"backgroundcolor\": \"#E5ECF6\", \"gridcolor\": \"white\", \"gridwidth\": 2, \"linecolor\": \"white\", \"showbackground\": true, \"ticks\": \"\", \"zerolinecolor\": \"white\"}, \"zaxis\": {\"backgroundcolor\": \"#E5ECF6\", \"gridcolor\": \"white\", \"gridwidth\": 2, \"linecolor\": \"white\", \"showbackground\": true, \"ticks\": \"\", \"zerolinecolor\": \"white\"}}, \"shapedefaults\": {\"line\": {\"color\": \"#2a3f5f\"}}, \"ternary\": {\"aaxis\": {\"gridcolor\": \"white\", \"linecolor\": \"white\", \"ticks\": \"\"}, \"baxis\": {\"gridcolor\": \"white\", \"linecolor\": \"white\", \"ticks\": \"\"}, \"bgcolor\": \"#E5ECF6\", \"caxis\": {\"gridcolor\": \"white\", \"linecolor\": \"white\", \"ticks\": \"\"}}, \"title\": {\"x\": 0.05}, \"xaxis\": {\"automargin\": true, \"gridcolor\": \"white\", \"linecolor\": \"white\", \"ticks\": \"\", \"title\": {\"standoff\": 15}, \"zerolinecolor\": \"white\", \"zerolinewidth\": 2}, \"yaxis\": {\"automargin\": true, \"gridcolor\": \"white\", \"linecolor\": \"white\", \"ticks\": \"\", \"title\": {\"standoff\": 15}, \"zerolinecolor\": \"white\", \"zerolinewidth\": 2}}}, \"title\": {\"text\": \"Unemployment rate\"}, \"xaxis\": {\"anchor\": \"y\", \"categoryarray\": [\"Andhra Pradesh\", \"Assam\", \"Bihar\", \"Chhattisgarh\", \"Delhi\", \"Goa\", \"Gujarat\", \"Haryana\", \"Himachal Pradesh\", \"Jammu & Kashmir\", \"Jharkhand\", \"Karnataka\", \"Kerala\", \"Madhya Pradesh\", \"Maharashtra\", \"Meghalaya\", \"Odisha\", \"Puducherry\", \"Punjab\", \"Rajasthan\", \"Sikkim\", \"Tamil Nadu\", \"Telangana\", \"Tripura\", \"Uttar Pradesh\", \"Uttarakhand\", \"West Bengal\", \"India\"], \"categoryorder\": \"total descending\", \"domain\": [0.0, 1.0], \"title\": {\"text\": \"Region\"}}, \"yaxis\": {\"anchor\": \"x\", \"domain\": [0.0, 1.0], \"title\": {\"text\": \"Estimated Unemployment Rate (%)\"}}},\n",
              "                        {\"responsive\": true}\n",
              "                    ).then(function(){\n",
              "                            \n",
              "var gd = document.getElementById('78892b8e-0aa3-40ec-87cc-be20d2e44af9');\n",
              "var x = new MutationObserver(function (mutations, observer) {{\n",
              "        var display = window.getComputedStyle(gd).display;\n",
              "        if (!display || display === 'none') {{\n",
              "            console.log([gd, 'removed!']);\n",
              "            Plotly.purge(gd);\n",
              "            observer.disconnect();\n",
              "        }}\n",
              "}});\n",
              "\n",
              "// Listen for the removal of the full notebook cells\n",
              "var notebookContainer = gd.closest('#notebook-container');\n",
              "if (notebookContainer) {{\n",
              "    x.observe(notebookContainer, {childList: true});\n",
              "}}\n",
              "\n",
              "// Listen for the clearing of the current output cell\n",
              "var outputEl = gd.closest('.output');\n",
              "if (outputEl) {{\n",
              "    x.observe(outputEl, {childList: true});\n",
              "}}\n",
              "\n",
              "                        })\n",
              "                };\n",
              "                \n",
              "            </script>\n",
              "        </div>\n",
              "</body>\n",
              "</html>"
            ]
          },
          "metadata": {
            "tags": []
          }
        }
      ]
    },
    {
      "cell_type": "code",
      "metadata": {
        "id": "2sIAEJaC1dpW"
      },
      "source": [
        ""
      ],
      "execution_count": null,
      "outputs": []
    },
    {
      "cell_type": "markdown",
      "metadata": {
        "id": "66v8Yg6R1qKS"
      },
      "source": [
        "**Analysing the effect on unemployment before and after first lockdown in 2020**"
      ]
    },
    {
      "cell_type": "code",
      "metadata": {
        "id": "_IvZyYsZ1tTm"
      },
      "source": [
        "start_lock = datetime.datetime(2020, 4, 1)\n",
        "end_lock = datetime.datetime(2020, 7, 31)\n",
        "start_before_lock = datetime.datetime(2020, 1, 1)\n",
        "\n",
        "\n",
        "df_lock = df[(df['Date'] >= start_lock) & (df['Date'] <= end_lock)]\n",
        "df_before_lock = df[(df['Date'] >= start_before_lock) & (df['Date'] <= start_lock)]"
      ],
      "execution_count": 11,
      "outputs": []
    },
    {
      "cell_type": "code",
      "metadata": {
        "colab": {
          "base_uri": "https://localhost:8080/",
          "height": 111
        },
        "id": "e3NAjJeB2ELX",
        "outputId": "5d45f5bb-8a4c-42a4-d7a1-d0d9b6e19d1b"
      },
      "source": [
        "g_lock = df_lock.groupby('Region')['Estimated Unemployment Rate (%)'].mean().reset_index()\n",
        "g_before_lock = df_before_lock.groupby('Region')['Estimated Unemployment Rate (%)'].mean().reset_index()\n",
        "\n",
        "g_lock['Unemployment Rate before lockdown'] = g_before_lock['Estimated Unemployment Rate (%)']\n",
        "g_lock.columns = ['Region','Unemployment Rate after lockdown','Unemployment Rate before lockdown']\n",
        "\n",
        "g_lock.head(2)"
      ],
      "execution_count": 12,
      "outputs": [
        {
          "output_type": "execute_result",
          "data": {
            "text/html": [
              "<div>\n",
              "<style scoped>\n",
              "    .dataframe tbody tr th:only-of-type {\n",
              "        vertical-align: middle;\n",
              "    }\n",
              "\n",
              "    .dataframe tbody tr th {\n",
              "        vertical-align: top;\n",
              "    }\n",
              "\n",
              "    .dataframe thead th {\n",
              "        text-align: right;\n",
              "    }\n",
              "</style>\n",
              "<table border=\"1\" class=\"dataframe\">\n",
              "  <thead>\n",
              "    <tr style=\"text-align: right;\">\n",
              "      <th></th>\n",
              "      <th>Region</th>\n",
              "      <th>Unemployment Rate after lockdown</th>\n",
              "      <th>Unemployment Rate before lockdown</th>\n",
              "    </tr>\n",
              "  </thead>\n",
              "  <tbody>\n",
              "    <tr>\n",
              "      <th>0</th>\n",
              "      <td>Andhra Pradesh</td>\n",
              "      <td>12.3975</td>\n",
              "      <td>5.700000</td>\n",
              "    </tr>\n",
              "    <tr>\n",
              "      <th>1</th>\n",
              "      <td>Assam</td>\n",
              "      <td>6.2450</td>\n",
              "      <td>4.613333</td>\n",
              "    </tr>\n",
              "  </tbody>\n",
              "</table>\n",
              "</div>"
            ],
            "text/plain": [
              "           Region  ...  Unemployment Rate before lockdown\n",
              "0  Andhra Pradesh  ...                           5.700000\n",
              "1           Assam  ...                           4.613333\n",
              "\n",
              "[2 rows x 3 columns]"
            ]
          },
          "metadata": {
            "tags": []
          },
          "execution_count": 12
        }
      ]
    },
    {
      "cell_type": "code",
      "metadata": {
        "id": "H07WcJQR2RNh"
      },
      "source": [
        "g_lock['percentage change in unemployment'] = round(g_lock['Unemployment Rate after lockdown'] - g_lock['Unemployment Rate before lockdown']/g_lock['Unemployment Rate before lockdown'],2)"
      ],
      "execution_count": 14,
      "outputs": []
    },
    {
      "cell_type": "code",
      "metadata": {
        "id": "rizd_ZAJ2Wo7"
      },
      "source": [
        "plot_per = g_lock.sort_values('percentage change in unemployment')"
      ],
      "execution_count": 15,
      "outputs": []
    },
    {
      "cell_type": "code",
      "metadata": {
        "colab": {
          "base_uri": "https://localhost:8080/",
          "height": 542
        },
        "id": "t4gfDw-l2gEB",
        "outputId": "eaf1d197-15bf-4934-b94b-a16919d58a19"
      },
      "source": [
        "fig = px.bar(plot_per, x='Region',y='percentage change in unemployment',color='percentage change in unemployment',\n",
        "            title='percentage change in Unemployment in each state after lockdown',template='ggplot2')\n",
        "\n",
        "fig.show()"
      ],
      "execution_count": 16,
      "outputs": [
        {
          "output_type": "display_data",
          "data": {
            "text/html": [
              "<html>\n",
              "<head><meta charset=\"utf-8\" /></head>\n",
              "<body>\n",
              "    <div>\n",
              "            <script src=\"https://cdnjs.cloudflare.com/ajax/libs/mathjax/2.7.5/MathJax.js?config=TeX-AMS-MML_SVG\"></script><script type=\"text/javascript\">if (window.MathJax) {MathJax.Hub.Config({SVG: {font: \"STIX-Web\"}});}</script>\n",
              "                <script type=\"text/javascript\">window.PlotlyConfig = {MathJaxConfig: 'local'};</script>\n",
              "        <script src=\"https://cdn.plot.ly/plotly-latest.min.js\"></script>    \n",
              "            <div id=\"03b7498d-6631-42ef-b747-e9880bb9d0a4\" class=\"plotly-graph-div\" style=\"height:525px; width:100%;\"></div>\n",
              "            <script type=\"text/javascript\">\n",
              "                \n",
              "                    window.PLOTLYENV=window.PLOTLYENV || {};\n",
              "                    \n",
              "                if (document.getElementById(\"03b7498d-6631-42ef-b747-e9880bb9d0a4\")) {\n",
              "                    Plotly.newPlot(\n",
              "                        '03b7498d-6631-42ef-b747-e9880bb9d0a4',\n",
              "                        [{\"alignmentgroup\": \"True\", \"hoverlabel\": {\"namelength\": 0}, \"hovertemplate\": \"Region=%{x}<br>percentage change in unemployment=%{marker.color}\", \"legendgroup\": \"\", \"marker\": {\"color\": [3.8, 5.24, 7.87, 7.93, 7.97, 8.22, 8.6, 9.21, 10.48, 11.24, 11.37, 11.4, 11.92, 13.23, 13.24, 14.4, 14.56, 14.71, 14.85, 14.91, 15.73, 23.36, 24.5, 24.67, 29.78, 29.8, 32.72, 37.44], \"coloraxis\": \"coloraxis\"}, \"name\": \"\", \"offsetgroup\": \"\", \"orientation\": \"v\", \"showlegend\": false, \"textposition\": \"auto\", \"type\": \"bar\", \"x\": [\"Meghalaya\", \"Assam\", \"Uttarakhand\", \"Sikkim\", \"Gujarat\", \"Telangana\", \"Chhattisgarh\", \"Odisha\", \"Madhya Pradesh\", \"West Bengal\", \"Maharashtra\", \"Andhra Pradesh\", \"Kerala\", \"Punjab\", \"Uttar Pradesh\", \"Goa\", \"Karnataka\", \"India\", \"Jammu & Kashmir\", \"Rajasthan\", \"Himachal Pradesh\", \"Delhi\", \"Tamil Nadu\", \"Tripura\", \"Haryana\", \"Bihar\", \"Jharkhand\", \"Puducherry\"], \"xaxis\": \"x\", \"y\": [3.8, 5.24, 7.87, 7.93, 7.97, 8.22, 8.6, 9.21, 10.48, 11.24, 11.37, 11.4, 11.92, 13.23, 13.24, 14.4, 14.56, 14.71, 14.85, 14.91, 15.73, 23.36, 24.5, 24.67, 29.78, 29.8, 32.72, 37.44], \"yaxis\": \"y\"}],\n",
              "                        {\"barmode\": \"relative\", \"coloraxis\": {\"colorbar\": {\"title\": {\"text\": \"percentage change in unemployment\"}}, \"colorscale\": [[0.0, \"rgb(20,44,66)\"], [1.0, \"rgb(90,179,244)\"]]}, \"legend\": {\"tracegroupgap\": 0}, \"template\": {\"data\": {\"bar\": [{\"error_x\": {\"color\": \"rgb(51,51,51)\"}, \"error_y\": {\"color\": \"rgb(51,51,51)\"}, \"marker\": {\"line\": {\"color\": \"rgb(237,237,237)\", \"width\": 0.5}}, \"type\": \"bar\"}], \"barpolar\": [{\"marker\": {\"line\": {\"color\": \"rgb(237,237,237)\", \"width\": 0.5}}, \"type\": \"barpolar\"}], \"carpet\": [{\"aaxis\": {\"endlinecolor\": \"rgb(51,51,51)\", \"gridcolor\": \"white\", \"linecolor\": \"white\", \"minorgridcolor\": \"white\", \"startlinecolor\": \"rgb(51,51,51)\"}, \"baxis\": {\"endlinecolor\": \"rgb(51,51,51)\", \"gridcolor\": \"white\", \"linecolor\": \"white\", \"minorgridcolor\": \"white\", \"startlinecolor\": \"rgb(51,51,51)\"}, \"type\": \"carpet\"}], \"choropleth\": [{\"colorbar\": {\"outlinewidth\": 0, \"tickcolor\": \"rgb(237,237,237)\", \"ticklen\": 6, \"ticks\": \"inside\"}, \"type\": \"choropleth\"}], \"contour\": [{\"colorbar\": {\"outlinewidth\": 0, \"tickcolor\": \"rgb(237,237,237)\", \"ticklen\": 6, \"ticks\": \"inside\"}, \"colorscale\": [[0, \"rgb(20,44,66)\"], [1, \"rgb(90,179,244)\"]], \"type\": \"contour\"}], \"contourcarpet\": [{\"colorbar\": {\"outlinewidth\": 0, \"tickcolor\": \"rgb(237,237,237)\", \"ticklen\": 6, \"ticks\": \"inside\"}, \"type\": \"contourcarpet\"}], \"heatmap\": [{\"colorbar\": {\"outlinewidth\": 0, \"tickcolor\": \"rgb(237,237,237)\", \"ticklen\": 6, \"ticks\": \"inside\"}, \"colorscale\": [[0, \"rgb(20,44,66)\"], [1, \"rgb(90,179,244)\"]], \"type\": \"heatmap\"}], \"heatmapgl\": [{\"colorbar\": {\"outlinewidth\": 0, \"tickcolor\": \"rgb(237,237,237)\", \"ticklen\": 6, \"ticks\": \"inside\"}, \"colorscale\": [[0, \"rgb(20,44,66)\"], [1, \"rgb(90,179,244)\"]], \"type\": \"heatmapgl\"}], \"histogram\": [{\"marker\": {\"colorbar\": {\"outlinewidth\": 0, \"tickcolor\": \"rgb(237,237,237)\", \"ticklen\": 6, \"ticks\": \"inside\"}}, \"type\": \"histogram\"}], \"histogram2d\": [{\"colorbar\": {\"outlinewidth\": 0, \"tickcolor\": \"rgb(237,237,237)\", \"ticklen\": 6, \"ticks\": \"inside\"}, \"colorscale\": [[0, \"rgb(20,44,66)\"], [1, \"rgb(90,179,244)\"]], \"type\": \"histogram2d\"}], \"histogram2dcontour\": [{\"colorbar\": {\"outlinewidth\": 0, \"tickcolor\": \"rgb(237,237,237)\", \"ticklen\": 6, \"ticks\": \"inside\"}, \"colorscale\": [[0, \"rgb(20,44,66)\"], [1, \"rgb(90,179,244)\"]], \"type\": \"histogram2dcontour\"}], \"mesh3d\": [{\"colorbar\": {\"outlinewidth\": 0, \"tickcolor\": \"rgb(237,237,237)\", \"ticklen\": 6, \"ticks\": \"inside\"}, \"type\": \"mesh3d\"}], \"parcoords\": [{\"line\": {\"colorbar\": {\"outlinewidth\": 0, \"tickcolor\": \"rgb(237,237,237)\", \"ticklen\": 6, \"ticks\": \"inside\"}}, \"type\": \"parcoords\"}], \"pie\": [{\"automargin\": true, \"type\": \"pie\"}], \"scatter\": [{\"marker\": {\"colorbar\": {\"outlinewidth\": 0, \"tickcolor\": \"rgb(237,237,237)\", \"ticklen\": 6, \"ticks\": \"inside\"}}, \"type\": \"scatter\"}], \"scatter3d\": [{\"line\": {\"colorbar\": {\"outlinewidth\": 0, \"tickcolor\": \"rgb(237,237,237)\", \"ticklen\": 6, \"ticks\": \"inside\"}}, \"marker\": {\"colorbar\": {\"outlinewidth\": 0, \"tickcolor\": \"rgb(237,237,237)\", \"ticklen\": 6, \"ticks\": \"inside\"}}, \"type\": \"scatter3d\"}], \"scattercarpet\": [{\"marker\": {\"colorbar\": {\"outlinewidth\": 0, \"tickcolor\": \"rgb(237,237,237)\", \"ticklen\": 6, \"ticks\": \"inside\"}}, \"type\": \"scattercarpet\"}], \"scattergeo\": [{\"marker\": {\"colorbar\": {\"outlinewidth\": 0, \"tickcolor\": \"rgb(237,237,237)\", \"ticklen\": 6, \"ticks\": \"inside\"}}, \"type\": \"scattergeo\"}], \"scattergl\": [{\"marker\": {\"colorbar\": {\"outlinewidth\": 0, \"tickcolor\": \"rgb(237,237,237)\", \"ticklen\": 6, \"ticks\": \"inside\"}}, \"type\": \"scattergl\"}], \"scattermapbox\": [{\"marker\": {\"colorbar\": {\"outlinewidth\": 0, \"tickcolor\": \"rgb(237,237,237)\", \"ticklen\": 6, \"ticks\": \"inside\"}}, \"type\": \"scattermapbox\"}], \"scatterpolar\": [{\"marker\": {\"colorbar\": {\"outlinewidth\": 0, \"tickcolor\": \"rgb(237,237,237)\", \"ticklen\": 6, \"ticks\": \"inside\"}}, \"type\": \"scatterpolar\"}], \"scatterpolargl\": [{\"marker\": {\"colorbar\": {\"outlinewidth\": 0, \"tickcolor\": \"rgb(237,237,237)\", \"ticklen\": 6, \"ticks\": \"inside\"}}, \"type\": \"scatterpolargl\"}], \"scatterternary\": [{\"marker\": {\"colorbar\": {\"outlinewidth\": 0, \"tickcolor\": \"rgb(237,237,237)\", \"ticklen\": 6, \"ticks\": \"inside\"}}, \"type\": \"scatterternary\"}], \"surface\": [{\"colorbar\": {\"outlinewidth\": 0, \"tickcolor\": \"rgb(237,237,237)\", \"ticklen\": 6, \"ticks\": \"inside\"}, \"colorscale\": [[0, \"rgb(20,44,66)\"], [1, \"rgb(90,179,244)\"]], \"type\": \"surface\"}], \"table\": [{\"cells\": {\"fill\": {\"color\": \"rgb(237,237,237)\"}, \"line\": {\"color\": \"white\"}}, \"header\": {\"fill\": {\"color\": \"rgb(217,217,217)\"}, \"line\": {\"color\": \"white\"}}, \"type\": \"table\"}]}, \"layout\": {\"annotationdefaults\": {\"arrowhead\": 0, \"arrowwidth\": 1}, \"coloraxis\": {\"colorbar\": {\"outlinewidth\": 0, \"tickcolor\": \"rgb(237,237,237)\", \"ticklen\": 6, \"ticks\": \"inside\"}}, \"colorscale\": {\"sequential\": [[0, \"rgb(20,44,66)\"], [1, \"rgb(90,179,244)\"]], \"sequentialminus\": [[0, \"rgb(20,44,66)\"], [1, \"rgb(90,179,244)\"]]}, \"colorway\": [\"#F8766D\", \"#A3A500\", \"#00BF7D\", \"#00B0F6\", \"#E76BF3\"], \"font\": {\"color\": \"rgb(51,51,51)\"}, \"geo\": {\"bgcolor\": \"white\", \"lakecolor\": \"white\", \"landcolor\": \"rgb(237,237,237)\", \"showlakes\": true, \"showland\": true, \"subunitcolor\": \"white\"}, \"hoverlabel\": {\"align\": \"left\"}, \"hovermode\": \"closest\", \"paper_bgcolor\": \"white\", \"plot_bgcolor\": \"rgb(237,237,237)\", \"polar\": {\"angularaxis\": {\"gridcolor\": \"white\", \"linecolor\": \"white\", \"showgrid\": true, \"tickcolor\": \"rgb(51,51,51)\", \"ticks\": \"outside\"}, \"bgcolor\": \"rgb(237,237,237)\", \"radialaxis\": {\"gridcolor\": \"white\", \"linecolor\": \"white\", \"showgrid\": true, \"tickcolor\": \"rgb(51,51,51)\", \"ticks\": \"outside\"}}, \"scene\": {\"xaxis\": {\"backgroundcolor\": \"rgb(237,237,237)\", \"gridcolor\": \"white\", \"gridwidth\": 2, \"linecolor\": \"white\", \"showbackground\": true, \"showgrid\": true, \"tickcolor\": \"rgb(51,51,51)\", \"ticks\": \"outside\", \"zerolinecolor\": \"white\"}, \"yaxis\": {\"backgroundcolor\": \"rgb(237,237,237)\", \"gridcolor\": \"white\", \"gridwidth\": 2, \"linecolor\": \"white\", \"showbackground\": true, \"showgrid\": true, \"tickcolor\": \"rgb(51,51,51)\", \"ticks\": \"outside\", \"zerolinecolor\": \"white\"}, \"zaxis\": {\"backgroundcolor\": \"rgb(237,237,237)\", \"gridcolor\": \"white\", \"gridwidth\": 2, \"linecolor\": \"white\", \"showbackground\": true, \"showgrid\": true, \"tickcolor\": \"rgb(51,51,51)\", \"ticks\": \"outside\", \"zerolinecolor\": \"white\"}}, \"shapedefaults\": {\"fillcolor\": \"black\", \"line\": {\"width\": 0}, \"opacity\": 0.3}, \"ternary\": {\"aaxis\": {\"gridcolor\": \"white\", \"linecolor\": \"white\", \"showgrid\": true, \"tickcolor\": \"rgb(51,51,51)\", \"ticks\": \"outside\"}, \"baxis\": {\"gridcolor\": \"white\", \"linecolor\": \"white\", \"showgrid\": true, \"tickcolor\": \"rgb(51,51,51)\", \"ticks\": \"outside\"}, \"bgcolor\": \"rgb(237,237,237)\", \"caxis\": {\"gridcolor\": \"white\", \"linecolor\": \"white\", \"showgrid\": true, \"tickcolor\": \"rgb(51,51,51)\", \"ticks\": \"outside\"}}, \"xaxis\": {\"automargin\": true, \"gridcolor\": \"white\", \"linecolor\": \"white\", \"showgrid\": true, \"tickcolor\": \"rgb(51,51,51)\", \"ticks\": \"outside\", \"title\": {\"standoff\": 15}, \"zerolinecolor\": \"white\"}, \"yaxis\": {\"automargin\": true, \"gridcolor\": \"white\", \"linecolor\": \"white\", \"showgrid\": true, \"tickcolor\": \"rgb(51,51,51)\", \"ticks\": \"outside\", \"title\": {\"standoff\": 15}, \"zerolinecolor\": \"white\"}}}, \"title\": {\"text\": \"percentage change in Unemployment in each state after lockdown\"}, \"xaxis\": {\"anchor\": \"y\", \"domain\": [0.0, 1.0], \"title\": {\"text\": \"Region\"}}, \"yaxis\": {\"anchor\": \"x\", \"domain\": [0.0, 1.0], \"title\": {\"text\": \"percentage change in unemployment\"}}},\n",
              "                        {\"responsive\": true}\n",
              "                    ).then(function(){\n",
              "                            \n",
              "var gd = document.getElementById('03b7498d-6631-42ef-b747-e9880bb9d0a4');\n",
              "var x = new MutationObserver(function (mutations, observer) {{\n",
              "        var display = window.getComputedStyle(gd).display;\n",
              "        if (!display || display === 'none') {{\n",
              "            console.log([gd, 'removed!']);\n",
              "            Plotly.purge(gd);\n",
              "            observer.disconnect();\n",
              "        }}\n",
              "}});\n",
              "\n",
              "// Listen for the removal of the full notebook cells\n",
              "var notebookContainer = gd.closest('#notebook-container');\n",
              "if (notebookContainer) {{\n",
              "    x.observe(notebookContainer, {childList: true});\n",
              "}}\n",
              "\n",
              "// Listen for the clearing of the current output cell\n",
              "var outputEl = gd.closest('.output');\n",
              "if (outputEl) {{\n",
              "    x.observe(outputEl, {childList: true});\n",
              "}}\n",
              "\n",
              "                        })\n",
              "                };\n",
              "                \n",
              "            </script>\n",
              "        </div>\n",
              "</body>\n",
              "</html>"
            ]
          },
          "metadata": {
            "tags": []
          }
        }
      ]
    },
    {
      "cell_type": "code",
      "metadata": {
        "id": "YALrH1vh2jXa"
      },
      "source": [
        "def sort_impact(x):\n",
        "    if x <= 10:\n",
        "        return 'impacted States'\n",
        "    elif x <= 20:\n",
        "        return 'hard impacted States'\n",
        "    elif x <= 30:\n",
        "        return 'harder impacted States'\n",
        "    elif x <= 40:\n",
        "        return 'hardest impacted States'\n",
        "    return x"
      ],
      "execution_count": 17,
      "outputs": []
    },
    {
      "cell_type": "code",
      "metadata": {
        "id": "rALz-zF82ohL"
      },
      "source": [
        "plot_per['impact status'] = plot_per['percentage change in unemployment'].apply(lambda x:sort_impact(x))"
      ],
      "execution_count": 18,
      "outputs": []
    },
    {
      "cell_type": "code",
      "metadata": {
        "colab": {
          "base_uri": "https://localhost:8080/",
          "height": 667
        },
        "id": "xApGF1ni2sCM",
        "outputId": "2e18f624-98b9-4424-abf8-77f1f37b6f72"
      },
      "source": [
        "graph = px.bar(plot_per, y='Region',x='percentage change in unemployment',color='impact status',\n",
        "            title='Impact of lockdown on employment across states',template='ggplot2',height=650)\n",
        "\n",
        "graph.show()"
      ],
      "execution_count": 19,
      "outputs": [
        {
          "output_type": "display_data",
          "data": {
            "text/html": [
              "<html>\n",
              "<head><meta charset=\"utf-8\" /></head>\n",
              "<body>\n",
              "    <div>\n",
              "            <script src=\"https://cdnjs.cloudflare.com/ajax/libs/mathjax/2.7.5/MathJax.js?config=TeX-AMS-MML_SVG\"></script><script type=\"text/javascript\">if (window.MathJax) {MathJax.Hub.Config({SVG: {font: \"STIX-Web\"}});}</script>\n",
              "                <script type=\"text/javascript\">window.PlotlyConfig = {MathJaxConfig: 'local'};</script>\n",
              "        <script src=\"https://cdn.plot.ly/plotly-latest.min.js\"></script>    \n",
              "            <div id=\"faff34b9-daa2-4ee6-b9a0-3e4231d9b3bc\" class=\"plotly-graph-div\" style=\"height:650px; width:100%;\"></div>\n",
              "            <script type=\"text/javascript\">\n",
              "                \n",
              "                    window.PLOTLYENV=window.PLOTLYENV || {};\n",
              "                    \n",
              "                if (document.getElementById(\"faff34b9-daa2-4ee6-b9a0-3e4231d9b3bc\")) {\n",
              "                    Plotly.newPlot(\n",
              "                        'faff34b9-daa2-4ee6-b9a0-3e4231d9b3bc',\n",
              "                        [{\"alignmentgroup\": \"True\", \"hoverlabel\": {\"namelength\": 0}, \"hovertemplate\": \"impact status=impacted States<br>percentage change in unemployment=%{x}<br>Region=%{y}\", \"legendgroup\": \"impact status=impacted States\", \"marker\": {\"color\": \"#F8766D\"}, \"name\": \"impact status=impacted States\", \"offsetgroup\": \"impact status=impacted States\", \"orientation\": \"v\", \"showlegend\": true, \"textposition\": \"auto\", \"type\": \"bar\", \"x\": [3.8, 5.24, 7.87, 7.93, 7.97, 8.22, 8.6, 9.21], \"xaxis\": \"x\", \"y\": [\"Meghalaya\", \"Assam\", \"Uttarakhand\", \"Sikkim\", \"Gujarat\", \"Telangana\", \"Chhattisgarh\", \"Odisha\"], \"yaxis\": \"y\"}, {\"alignmentgroup\": \"True\", \"hoverlabel\": {\"namelength\": 0}, \"hovertemplate\": \"impact status=hard impacted States<br>percentage change in unemployment=%{x}<br>Region=%{y}\", \"legendgroup\": \"impact status=hard impacted States\", \"marker\": {\"color\": \"#A3A500\"}, \"name\": \"impact status=hard impacted States\", \"offsetgroup\": \"impact status=hard impacted States\", \"orientation\": \"v\", \"showlegend\": true, \"textposition\": \"auto\", \"type\": \"bar\", \"x\": [10.48, 11.24, 11.37, 11.4, 11.92, 13.23, 13.24, 14.4, 14.56, 14.71, 14.85, 14.91, 15.73], \"xaxis\": \"x\", \"y\": [\"Madhya Pradesh\", \"West Bengal\", \"Maharashtra\", \"Andhra Pradesh\", \"Kerala\", \"Punjab\", \"Uttar Pradesh\", \"Goa\", \"Karnataka\", \"India\", \"Jammu & Kashmir\", \"Rajasthan\", \"Himachal Pradesh\"], \"yaxis\": \"y\"}, {\"alignmentgroup\": \"True\", \"hoverlabel\": {\"namelength\": 0}, \"hovertemplate\": \"impact status=harder impacted States<br>percentage change in unemployment=%{x}<br>Region=%{y}\", \"legendgroup\": \"impact status=harder impacted States\", \"marker\": {\"color\": \"#00BF7D\"}, \"name\": \"impact status=harder impacted States\", \"offsetgroup\": \"impact status=harder impacted States\", \"orientation\": \"v\", \"showlegend\": true, \"textposition\": \"auto\", \"type\": \"bar\", \"x\": [23.36, 24.5, 24.67, 29.78, 29.8], \"xaxis\": \"x\", \"y\": [\"Delhi\", \"Tamil Nadu\", \"Tripura\", \"Haryana\", \"Bihar\"], \"yaxis\": \"y\"}, {\"alignmentgroup\": \"True\", \"hoverlabel\": {\"namelength\": 0}, \"hovertemplate\": \"impact status=hardest impacted States<br>percentage change in unemployment=%{x}<br>Region=%{y}\", \"legendgroup\": \"impact status=hardest impacted States\", \"marker\": {\"color\": \"#00B0F6\"}, \"name\": \"impact status=hardest impacted States\", \"offsetgroup\": \"impact status=hardest impacted States\", \"orientation\": \"v\", \"showlegend\": true, \"textposition\": \"auto\", \"type\": \"bar\", \"x\": [32.72, 37.44], \"xaxis\": \"x\", \"y\": [\"Jharkhand\", \"Puducherry\"], \"yaxis\": \"y\"}],\n",
              "                        {\"barmode\": \"relative\", \"height\": 650, \"legend\": {\"tracegroupgap\": 0}, \"template\": {\"data\": {\"bar\": [{\"error_x\": {\"color\": \"rgb(51,51,51)\"}, \"error_y\": {\"color\": \"rgb(51,51,51)\"}, \"marker\": {\"line\": {\"color\": \"rgb(237,237,237)\", \"width\": 0.5}}, \"type\": \"bar\"}], \"barpolar\": [{\"marker\": {\"line\": {\"color\": \"rgb(237,237,237)\", \"width\": 0.5}}, \"type\": \"barpolar\"}], \"carpet\": [{\"aaxis\": {\"endlinecolor\": \"rgb(51,51,51)\", \"gridcolor\": \"white\", \"linecolor\": \"white\", \"minorgridcolor\": \"white\", \"startlinecolor\": \"rgb(51,51,51)\"}, \"baxis\": {\"endlinecolor\": \"rgb(51,51,51)\", \"gridcolor\": \"white\", \"linecolor\": \"white\", \"minorgridcolor\": \"white\", \"startlinecolor\": \"rgb(51,51,51)\"}, \"type\": \"carpet\"}], \"choropleth\": [{\"colorbar\": {\"outlinewidth\": 0, \"tickcolor\": \"rgb(237,237,237)\", \"ticklen\": 6, \"ticks\": \"inside\"}, \"type\": \"choropleth\"}], \"contour\": [{\"colorbar\": {\"outlinewidth\": 0, \"tickcolor\": \"rgb(237,237,237)\", \"ticklen\": 6, \"ticks\": \"inside\"}, \"colorscale\": [[0, \"rgb(20,44,66)\"], [1, \"rgb(90,179,244)\"]], \"type\": \"contour\"}], \"contourcarpet\": [{\"colorbar\": {\"outlinewidth\": 0, \"tickcolor\": \"rgb(237,237,237)\", \"ticklen\": 6, \"ticks\": \"inside\"}, \"type\": \"contourcarpet\"}], \"heatmap\": [{\"colorbar\": {\"outlinewidth\": 0, \"tickcolor\": \"rgb(237,237,237)\", \"ticklen\": 6, \"ticks\": \"inside\"}, \"colorscale\": [[0, \"rgb(20,44,66)\"], [1, \"rgb(90,179,244)\"]], \"type\": \"heatmap\"}], \"heatmapgl\": [{\"colorbar\": {\"outlinewidth\": 0, \"tickcolor\": \"rgb(237,237,237)\", \"ticklen\": 6, \"ticks\": \"inside\"}, \"colorscale\": [[0, \"rgb(20,44,66)\"], [1, \"rgb(90,179,244)\"]], \"type\": \"heatmapgl\"}], \"histogram\": [{\"marker\": {\"colorbar\": {\"outlinewidth\": 0, \"tickcolor\": \"rgb(237,237,237)\", \"ticklen\": 6, \"ticks\": \"inside\"}}, \"type\": \"histogram\"}], \"histogram2d\": [{\"colorbar\": {\"outlinewidth\": 0, \"tickcolor\": \"rgb(237,237,237)\", \"ticklen\": 6, \"ticks\": \"inside\"}, \"colorscale\": [[0, \"rgb(20,44,66)\"], [1, \"rgb(90,179,244)\"]], \"type\": \"histogram2d\"}], \"histogram2dcontour\": [{\"colorbar\": {\"outlinewidth\": 0, \"tickcolor\": \"rgb(237,237,237)\", \"ticklen\": 6, \"ticks\": \"inside\"}, \"colorscale\": [[0, \"rgb(20,44,66)\"], [1, \"rgb(90,179,244)\"]], \"type\": \"histogram2dcontour\"}], \"mesh3d\": [{\"colorbar\": {\"outlinewidth\": 0, \"tickcolor\": \"rgb(237,237,237)\", \"ticklen\": 6, \"ticks\": \"inside\"}, \"type\": \"mesh3d\"}], \"parcoords\": [{\"line\": {\"colorbar\": {\"outlinewidth\": 0, \"tickcolor\": \"rgb(237,237,237)\", \"ticklen\": 6, \"ticks\": \"inside\"}}, \"type\": \"parcoords\"}], \"pie\": [{\"automargin\": true, \"type\": \"pie\"}], \"scatter\": [{\"marker\": {\"colorbar\": {\"outlinewidth\": 0, \"tickcolor\": \"rgb(237,237,237)\", \"ticklen\": 6, \"ticks\": \"inside\"}}, \"type\": \"scatter\"}], \"scatter3d\": [{\"line\": {\"colorbar\": {\"outlinewidth\": 0, \"tickcolor\": \"rgb(237,237,237)\", \"ticklen\": 6, \"ticks\": \"inside\"}}, \"marker\": {\"colorbar\": {\"outlinewidth\": 0, \"tickcolor\": \"rgb(237,237,237)\", \"ticklen\": 6, \"ticks\": \"inside\"}}, \"type\": \"scatter3d\"}], \"scattercarpet\": [{\"marker\": {\"colorbar\": {\"outlinewidth\": 0, \"tickcolor\": \"rgb(237,237,237)\", \"ticklen\": 6, \"ticks\": \"inside\"}}, \"type\": \"scattercarpet\"}], \"scattergeo\": [{\"marker\": {\"colorbar\": {\"outlinewidth\": 0, \"tickcolor\": \"rgb(237,237,237)\", \"ticklen\": 6, \"ticks\": \"inside\"}}, \"type\": \"scattergeo\"}], \"scattergl\": [{\"marker\": {\"colorbar\": {\"outlinewidth\": 0, \"tickcolor\": \"rgb(237,237,237)\", \"ticklen\": 6, \"ticks\": \"inside\"}}, \"type\": \"scattergl\"}], \"scattermapbox\": [{\"marker\": {\"colorbar\": {\"outlinewidth\": 0, \"tickcolor\": \"rgb(237,237,237)\", \"ticklen\": 6, \"ticks\": \"inside\"}}, \"type\": \"scattermapbox\"}], \"scatterpolar\": [{\"marker\": {\"colorbar\": {\"outlinewidth\": 0, \"tickcolor\": \"rgb(237,237,237)\", \"ticklen\": 6, \"ticks\": \"inside\"}}, \"type\": \"scatterpolar\"}], \"scatterpolargl\": [{\"marker\": {\"colorbar\": {\"outlinewidth\": 0, \"tickcolor\": \"rgb(237,237,237)\", \"ticklen\": 6, \"ticks\": \"inside\"}}, \"type\": \"scatterpolargl\"}], \"scatterternary\": [{\"marker\": {\"colorbar\": {\"outlinewidth\": 0, \"tickcolor\": \"rgb(237,237,237)\", \"ticklen\": 6, \"ticks\": \"inside\"}}, \"type\": \"scatterternary\"}], \"surface\": [{\"colorbar\": {\"outlinewidth\": 0, \"tickcolor\": \"rgb(237,237,237)\", \"ticklen\": 6, \"ticks\": \"inside\"}, \"colorscale\": [[0, \"rgb(20,44,66)\"], [1, \"rgb(90,179,244)\"]], \"type\": \"surface\"}], \"table\": [{\"cells\": {\"fill\": {\"color\": \"rgb(237,237,237)\"}, \"line\": {\"color\": \"white\"}}, \"header\": {\"fill\": {\"color\": \"rgb(217,217,217)\"}, \"line\": {\"color\": \"white\"}}, \"type\": \"table\"}]}, \"layout\": {\"annotationdefaults\": {\"arrowhead\": 0, \"arrowwidth\": 1}, \"coloraxis\": {\"colorbar\": {\"outlinewidth\": 0, \"tickcolor\": \"rgb(237,237,237)\", \"ticklen\": 6, \"ticks\": \"inside\"}}, \"colorscale\": {\"sequential\": [[0, \"rgb(20,44,66)\"], [1, \"rgb(90,179,244)\"]], \"sequentialminus\": [[0, \"rgb(20,44,66)\"], [1, \"rgb(90,179,244)\"]]}, \"colorway\": [\"#F8766D\", \"#A3A500\", \"#00BF7D\", \"#00B0F6\", \"#E76BF3\"], \"font\": {\"color\": \"rgb(51,51,51)\"}, \"geo\": {\"bgcolor\": \"white\", \"lakecolor\": \"white\", \"landcolor\": \"rgb(237,237,237)\", \"showlakes\": true, \"showland\": true, \"subunitcolor\": \"white\"}, \"hoverlabel\": {\"align\": \"left\"}, \"hovermode\": \"closest\", \"paper_bgcolor\": \"white\", \"plot_bgcolor\": \"rgb(237,237,237)\", \"polar\": {\"angularaxis\": {\"gridcolor\": \"white\", \"linecolor\": \"white\", \"showgrid\": true, \"tickcolor\": \"rgb(51,51,51)\", \"ticks\": \"outside\"}, \"bgcolor\": \"rgb(237,237,237)\", \"radialaxis\": {\"gridcolor\": \"white\", \"linecolor\": \"white\", \"showgrid\": true, \"tickcolor\": \"rgb(51,51,51)\", \"ticks\": \"outside\"}}, \"scene\": {\"xaxis\": {\"backgroundcolor\": \"rgb(237,237,237)\", \"gridcolor\": \"white\", \"gridwidth\": 2, \"linecolor\": \"white\", \"showbackground\": true, \"showgrid\": true, \"tickcolor\": \"rgb(51,51,51)\", \"ticks\": \"outside\", \"zerolinecolor\": \"white\"}, \"yaxis\": {\"backgroundcolor\": \"rgb(237,237,237)\", \"gridcolor\": \"white\", \"gridwidth\": 2, \"linecolor\": \"white\", \"showbackground\": true, \"showgrid\": true, \"tickcolor\": \"rgb(51,51,51)\", \"ticks\": \"outside\", \"zerolinecolor\": \"white\"}, \"zaxis\": {\"backgroundcolor\": \"rgb(237,237,237)\", \"gridcolor\": \"white\", \"gridwidth\": 2, \"linecolor\": \"white\", \"showbackground\": true, \"showgrid\": true, \"tickcolor\": \"rgb(51,51,51)\", \"ticks\": \"outside\", \"zerolinecolor\": \"white\"}}, \"shapedefaults\": {\"fillcolor\": \"black\", \"line\": {\"width\": 0}, \"opacity\": 0.3}, \"ternary\": {\"aaxis\": {\"gridcolor\": \"white\", \"linecolor\": \"white\", \"showgrid\": true, \"tickcolor\": \"rgb(51,51,51)\", \"ticks\": \"outside\"}, \"baxis\": {\"gridcolor\": \"white\", \"linecolor\": \"white\", \"showgrid\": true, \"tickcolor\": \"rgb(51,51,51)\", \"ticks\": \"outside\"}, \"bgcolor\": \"rgb(237,237,237)\", \"caxis\": {\"gridcolor\": \"white\", \"linecolor\": \"white\", \"showgrid\": true, \"tickcolor\": \"rgb(51,51,51)\", \"ticks\": \"outside\"}}, \"xaxis\": {\"automargin\": true, \"gridcolor\": \"white\", \"linecolor\": \"white\", \"showgrid\": true, \"tickcolor\": \"rgb(51,51,51)\", \"ticks\": \"outside\", \"title\": {\"standoff\": 15}, \"zerolinecolor\": \"white\"}, \"yaxis\": {\"automargin\": true, \"gridcolor\": \"white\", \"linecolor\": \"white\", \"showgrid\": true, \"tickcolor\": \"rgb(51,51,51)\", \"ticks\": \"outside\", \"title\": {\"standoff\": 15}, \"zerolinecolor\": \"white\"}}}, \"title\": {\"text\": \"Impact of lockdown on employment across states\"}, \"xaxis\": {\"anchor\": \"y\", \"domain\": [0.0, 1.0], \"title\": {\"text\": \"percentage change in unemployment\"}}, \"yaxis\": {\"anchor\": \"x\", \"domain\": [0.0, 1.0], \"title\": {\"text\": \"Region\"}}},\n",
              "                        {\"responsive\": true}\n",
              "                    ).then(function(){\n",
              "                            \n",
              "var gd = document.getElementById('faff34b9-daa2-4ee6-b9a0-3e4231d9b3bc');\n",
              "var x = new MutationObserver(function (mutations, observer) {{\n",
              "        var display = window.getComputedStyle(gd).display;\n",
              "        if (!display || display === 'none') {{\n",
              "            console.log([gd, 'removed!']);\n",
              "            Plotly.purge(gd);\n",
              "            observer.disconnect();\n",
              "        }}\n",
              "}});\n",
              "\n",
              "// Listen for the removal of the full notebook cells\n",
              "var notebookContainer = gd.closest('#notebook-container');\n",
              "if (notebookContainer) {{\n",
              "    x.observe(notebookContainer, {childList: true});\n",
              "}}\n",
              "\n",
              "// Listen for the clearing of the current output cell\n",
              "var outputEl = gd.closest('.output');\n",
              "if (outputEl) {{\n",
              "    x.observe(outputEl, {childList: true});\n",
              "}}\n",
              "\n",
              "                        })\n",
              "                };\n",
              "                \n",
              "            </script>\n",
              "        </div>\n",
              "</body>\n",
              "</html>"
            ]
          },
          "metadata": {
            "tags": []
          }
        }
      ]
    },
    {
      "cell_type": "code",
      "metadata": {
        "id": "z9_CqcZl2vFa"
      },
      "source": [
        ""
      ],
      "execution_count": null,
      "outputs": []
    }
  ]
}