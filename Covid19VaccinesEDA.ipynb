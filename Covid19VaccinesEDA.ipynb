{
  "nbformat": 4,
  "nbformat_minor": 0,
  "metadata": {
    "colab": {
      "name": "Covid19VaccinesEDA.ipynb",
      "provenance": [],
      "authorship_tag": "ABX9TyOyVqlKSDmBV1g6TSDPMZHQ",
      "include_colab_link": true
    },
    "kernelspec": {
      "name": "python3",
      "display_name": "Python 3"
    },
    "language_info": {
      "name": "python"
    }
  },
  "cells": [
    {
      "cell_type": "markdown",
      "metadata": {
        "id": "view-in-github",
        "colab_type": "text"
      },
      "source": [
        "<a href=\"https://colab.research.google.com/github/AnnanyaV/Socio-Economic-Impact-of-Covid19/blob/main/Covid19VaccinesEDA.ipynb\" target=\"_parent\"><img src=\"https://colab.research.google.com/assets/colab-badge.svg\" alt=\"Open In Colab\"/></a>"
      ]
    },
    {
      "cell_type": "markdown",
      "metadata": {
        "id": "ksx6_CdFylTh"
      },
      "source": [
        "## Understanding the distribution of vaccines in different parts of India."
      ]
    },
    {
      "cell_type": "code",
      "metadata": {
        "id": "KmyJOUGhTgQn"
      },
      "source": [
        "import pandas as pd"
      ],
      "execution_count": 1,
      "outputs": []
    },
    {
      "cell_type": "code",
      "metadata": {
        "id": "49MDSWzyWUrA"
      },
      "source": [
        "import matplotlib\n",
        "import matplotlib.pyplot as plt\n",
        "%matplotlib inline"
      ],
      "execution_count": 2,
      "outputs": []
    },
    {
      "cell_type": "code",
      "metadata": {
        "id": "IELAKaQ6WVN8"
      },
      "source": [
        "import plotly.express as px"
      ],
      "execution_count": 3,
      "outputs": []
    },
    {
      "cell_type": "markdown",
      "metadata": {
        "id": "f2awcVLmnDry"
      },
      "source": [
        "## Dataset-1 on Country wide India"
      ]
    },
    {
      "cell_type": "code",
      "metadata": {
        "id": "-ePW5SPhWZGp"
      },
      "source": [
        "gh_raw_csv_url = 'https://raw.githubusercontent.com/owid/covid-19-data/master/public/data/vaccinations/country_data/India.csv'"
      ],
      "execution_count": 5,
      "outputs": []
    },
    {
      "cell_type": "code",
      "metadata": {
        "colab": {
          "base_uri": "https://localhost:8080/",
          "height": 204
        },
        "id": "K5zLAN-TWg7b",
        "outputId": "b32318a6-93f1-46c1-d3c2-13a386e217a8"
      },
      "source": [
        "vaccines_india_df = pd.read_csv(gh_raw_csv_url)\n",
        "vaccines_india_df.head()"
      ],
      "execution_count": 6,
      "outputs": [
        {
          "output_type": "execute_result",
          "data": {
            "text/html": [
              "<div>\n",
              "<style scoped>\n",
              "    .dataframe tbody tr th:only-of-type {\n",
              "        vertical-align: middle;\n",
              "    }\n",
              "\n",
              "    .dataframe tbody tr th {\n",
              "        vertical-align: top;\n",
              "    }\n",
              "\n",
              "    .dataframe thead th {\n",
              "        text-align: right;\n",
              "    }\n",
              "</style>\n",
              "<table border=\"1\" class=\"dataframe\">\n",
              "  <thead>\n",
              "    <tr style=\"text-align: right;\">\n",
              "      <th></th>\n",
              "      <th>location</th>\n",
              "      <th>date</th>\n",
              "      <th>vaccine</th>\n",
              "      <th>source_url</th>\n",
              "      <th>total_vaccinations</th>\n",
              "      <th>people_vaccinated</th>\n",
              "      <th>people_fully_vaccinated</th>\n",
              "    </tr>\n",
              "  </thead>\n",
              "  <tbody>\n",
              "    <tr>\n",
              "      <th>0</th>\n",
              "      <td>India</td>\n",
              "      <td>2021-01-15</td>\n",
              "      <td>Covaxin, Oxford/AstraZeneca</td>\n",
              "      <td>https://twitter.com/MoHFW_INDIA/status/1350459...</td>\n",
              "      <td>0</td>\n",
              "      <td>0</td>\n",
              "      <td>0</td>\n",
              "    </tr>\n",
              "    <tr>\n",
              "      <th>1</th>\n",
              "      <td>India</td>\n",
              "      <td>2021-01-16</td>\n",
              "      <td>Covaxin, Oxford/AstraZeneca</td>\n",
              "      <td>https://twitter.com/MoHFW_INDIA/status/1350459...</td>\n",
              "      <td>191181</td>\n",
              "      <td>191181</td>\n",
              "      <td>0</td>\n",
              "    </tr>\n",
              "    <tr>\n",
              "      <th>2</th>\n",
              "      <td>India</td>\n",
              "      <td>2021-01-17</td>\n",
              "      <td>Covaxin, Oxford/AstraZeneca</td>\n",
              "      <td>https://twitter.com/MoHFW_INDIA/status/1350815...</td>\n",
              "      <td>224301</td>\n",
              "      <td>224301</td>\n",
              "      <td>0</td>\n",
              "    </tr>\n",
              "    <tr>\n",
              "      <th>3</th>\n",
              "      <td>India</td>\n",
              "      <td>2021-01-18</td>\n",
              "      <td>Covaxin, Oxford/AstraZeneca</td>\n",
              "      <td>https://www.mohfw.gov.in/</td>\n",
              "      <td>454049</td>\n",
              "      <td>454049</td>\n",
              "      <td>0</td>\n",
              "    </tr>\n",
              "    <tr>\n",
              "      <th>4</th>\n",
              "      <td>India</td>\n",
              "      <td>2021-01-19</td>\n",
              "      <td>Covaxin, Oxford/AstraZeneca</td>\n",
              "      <td>https://www.mohfw.gov.in/</td>\n",
              "      <td>674835</td>\n",
              "      <td>674835</td>\n",
              "      <td>0</td>\n",
              "    </tr>\n",
              "  </tbody>\n",
              "</table>\n",
              "</div>"
            ],
            "text/plain": [
              "  location        date  ... people_vaccinated people_fully_vaccinated\n",
              "0    India  2021-01-15  ...                 0                       0\n",
              "1    India  2021-01-16  ...            191181                       0\n",
              "2    India  2021-01-17  ...            224301                       0\n",
              "3    India  2021-01-18  ...            454049                       0\n",
              "4    India  2021-01-19  ...            674835                       0\n",
              "\n",
              "[5 rows x 7 columns]"
            ]
          },
          "metadata": {
            "tags": []
          },
          "execution_count": 6
        }
      ]
    },
    {
      "cell_type": "code",
      "metadata": {
        "colab": {
          "base_uri": "https://localhost:8080/"
        },
        "id": "z6Il_VSJWmyu",
        "outputId": "aa2c7039-5b0f-4484-b9d3-c154164bc24b"
      },
      "source": [
        "vaccines_india_df.shape"
      ],
      "execution_count": 7,
      "outputs": [
        {
          "output_type": "execute_result",
          "data": {
            "text/plain": [
              "(191, 7)"
            ]
          },
          "metadata": {
            "tags": []
          },
          "execution_count": 7
        }
      ]
    },
    {
      "cell_type": "code",
      "metadata": {
        "colab": {
          "base_uri": "https://localhost:8080/"
        },
        "id": "1BHiXjmjWrH-",
        "outputId": "9e397c1d-4656-4388-fd47-6a058486e56e"
      },
      "source": [
        "vaccines_india_df.info()"
      ],
      "execution_count": 8,
      "outputs": [
        {
          "output_type": "stream",
          "text": [
            "<class 'pandas.core.frame.DataFrame'>\n",
            "RangeIndex: 191 entries, 0 to 190\n",
            "Data columns (total 7 columns):\n",
            " #   Column                   Non-Null Count  Dtype \n",
            "---  ------                   --------------  ----- \n",
            " 0   location                 191 non-null    object\n",
            " 1   date                     191 non-null    object\n",
            " 2   vaccine                  191 non-null    object\n",
            " 3   source_url               191 non-null    object\n",
            " 4   total_vaccinations       191 non-null    int64 \n",
            " 5   people_vaccinated        191 non-null    int64 \n",
            " 6   people_fully_vaccinated  191 non-null    int64 \n",
            "dtypes: int64(3), object(4)\n",
            "memory usage: 10.6+ KB\n"
          ],
          "name": "stdout"
        }
      ]
    },
    {
      "cell_type": "code",
      "metadata": {
        "colab": {
          "base_uri": "https://localhost:8080/",
          "height": 297
        },
        "id": "0ufAJk51WuxE",
        "outputId": "68b8f325-d29c-4ffc-dc21-9ea88847b14a"
      },
      "source": [
        "vaccines_india_df.describe()"
      ],
      "execution_count": 9,
      "outputs": [
        {
          "output_type": "execute_result",
          "data": {
            "text/html": [
              "<div>\n",
              "<style scoped>\n",
              "    .dataframe tbody tr th:only-of-type {\n",
              "        vertical-align: middle;\n",
              "    }\n",
              "\n",
              "    .dataframe tbody tr th {\n",
              "        vertical-align: top;\n",
              "    }\n",
              "\n",
              "    .dataframe thead th {\n",
              "        text-align: right;\n",
              "    }\n",
              "</style>\n",
              "<table border=\"1\" class=\"dataframe\">\n",
              "  <thead>\n",
              "    <tr style=\"text-align: right;\">\n",
              "      <th></th>\n",
              "      <th>total_vaccinations</th>\n",
              "      <th>people_vaccinated</th>\n",
              "      <th>people_fully_vaccinated</th>\n",
              "    </tr>\n",
              "  </thead>\n",
              "  <tbody>\n",
              "    <tr>\n",
              "      <th>count</th>\n",
              "      <td>1.910000e+02</td>\n",
              "      <td>1.910000e+02</td>\n",
              "      <td>1.910000e+02</td>\n",
              "    </tr>\n",
              "    <tr>\n",
              "      <th>mean</th>\n",
              "      <td>1.541086e+08</td>\n",
              "      <td>1.248626e+08</td>\n",
              "      <td>2.924598e+07</td>\n",
              "    </tr>\n",
              "    <tr>\n",
              "      <th>std</th>\n",
              "      <td>1.393755e+08</td>\n",
              "      <td>1.109275e+08</td>\n",
              "      <td>2.877033e+07</td>\n",
              "    </tr>\n",
              "    <tr>\n",
              "      <th>min</th>\n",
              "      <td>0.000000e+00</td>\n",
              "      <td>0.000000e+00</td>\n",
              "      <td>0.000000e+00</td>\n",
              "    </tr>\n",
              "    <tr>\n",
              "      <th>25%</th>\n",
              "      <td>1.875160e+07</td>\n",
              "      <td>1.539676e+07</td>\n",
              "      <td>3.354844e+06</td>\n",
              "    </tr>\n",
              "    <tr>\n",
              "      <th>50%</th>\n",
              "      <td>1.327546e+08</td>\n",
              "      <td>1.135843e+08</td>\n",
              "      <td>1.917034e+07</td>\n",
              "    </tr>\n",
              "    <tr>\n",
              "      <th>75%</th>\n",
              "      <td>2.449457e+08</td>\n",
              "      <td>1.985355e+08</td>\n",
              "      <td>4.641018e+07</td>\n",
              "    </tr>\n",
              "    <tr>\n",
              "      <th>max</th>\n",
              "      <td>4.722236e+08</td>\n",
              "      <td>3.679946e+08</td>\n",
              "      <td>1.042291e+08</td>\n",
              "    </tr>\n",
              "  </tbody>\n",
              "</table>\n",
              "</div>"
            ],
            "text/plain": [
              "       total_vaccinations  people_vaccinated  people_fully_vaccinated\n",
              "count        1.910000e+02       1.910000e+02             1.910000e+02\n",
              "mean         1.541086e+08       1.248626e+08             2.924598e+07\n",
              "std          1.393755e+08       1.109275e+08             2.877033e+07\n",
              "min          0.000000e+00       0.000000e+00             0.000000e+00\n",
              "25%          1.875160e+07       1.539676e+07             3.354844e+06\n",
              "50%          1.327546e+08       1.135843e+08             1.917034e+07\n",
              "75%          2.449457e+08       1.985355e+08             4.641018e+07\n",
              "max          4.722236e+08       3.679946e+08             1.042291e+08"
            ]
          },
          "metadata": {
            "tags": []
          },
          "execution_count": 9
        }
      ]
    },
    {
      "cell_type": "code",
      "metadata": {
        "colab": {
          "base_uri": "https://localhost:8080/",
          "height": 142
        },
        "id": "NwdlhcecWzIf",
        "outputId": "cf6e2cda-a227-4ad4-f143-43fbf8db2b54"
      },
      "source": [
        "round(vaccines_india_df.describe().T, 2)"
      ],
      "execution_count": 10,
      "outputs": [
        {
          "output_type": "execute_result",
          "data": {
            "text/html": [
              "<div>\n",
              "<style scoped>\n",
              "    .dataframe tbody tr th:only-of-type {\n",
              "        vertical-align: middle;\n",
              "    }\n",
              "\n",
              "    .dataframe tbody tr th {\n",
              "        vertical-align: top;\n",
              "    }\n",
              "\n",
              "    .dataframe thead th {\n",
              "        text-align: right;\n",
              "    }\n",
              "</style>\n",
              "<table border=\"1\" class=\"dataframe\">\n",
              "  <thead>\n",
              "    <tr style=\"text-align: right;\">\n",
              "      <th></th>\n",
              "      <th>count</th>\n",
              "      <th>mean</th>\n",
              "      <th>std</th>\n",
              "      <th>min</th>\n",
              "      <th>25%</th>\n",
              "      <th>50%</th>\n",
              "      <th>75%</th>\n",
              "      <th>max</th>\n",
              "    </tr>\n",
              "  </thead>\n",
              "  <tbody>\n",
              "    <tr>\n",
              "      <th>total_vaccinations</th>\n",
              "      <td>191.0</td>\n",
              "      <td>1.541086e+08</td>\n",
              "      <td>1.393755e+08</td>\n",
              "      <td>0.0</td>\n",
              "      <td>18751603.5</td>\n",
              "      <td>132754608.0</td>\n",
              "      <td>244945654.5</td>\n",
              "      <td>472223639.0</td>\n",
              "    </tr>\n",
              "    <tr>\n",
              "      <th>people_vaccinated</th>\n",
              "      <td>191.0</td>\n",
              "      <td>1.248626e+08</td>\n",
              "      <td>1.109275e+08</td>\n",
              "      <td>0.0</td>\n",
              "      <td>15396759.0</td>\n",
              "      <td>113584269.0</td>\n",
              "      <td>198535473.0</td>\n",
              "      <td>367994586.0</td>\n",
              "    </tr>\n",
              "    <tr>\n",
              "      <th>people_fully_vaccinated</th>\n",
              "      <td>191.0</td>\n",
              "      <td>2.924598e+07</td>\n",
              "      <td>2.877033e+07</td>\n",
              "      <td>0.0</td>\n",
              "      <td>3354844.5</td>\n",
              "      <td>19170339.0</td>\n",
              "      <td>46410181.5</td>\n",
              "      <td>104229053.0</td>\n",
              "    </tr>\n",
              "  </tbody>\n",
              "</table>\n",
              "</div>"
            ],
            "text/plain": [
              "                         count          mean  ...          75%          max\n",
              "total_vaccinations       191.0  1.541086e+08  ...  244945654.5  472223639.0\n",
              "people_vaccinated        191.0  1.248626e+08  ...  198535473.0  367994586.0\n",
              "people_fully_vaccinated  191.0  2.924598e+07  ...   46410181.5  104229053.0\n",
              "\n",
              "[3 rows x 8 columns]"
            ]
          },
          "metadata": {
            "tags": []
          },
          "execution_count": 10
        }
      ]
    },
    {
      "cell_type": "code",
      "metadata": {
        "id": "Sfpmu-6JW8-i"
      },
      "source": [
        "def datetime_split(df):\n",
        "    df['date'] = pd.to_datetime(df['date'], format='%Y-%m-%d')\n",
        "    df['year'] = df.date.dt.year\n",
        "    df['month'] = df.date.dt.month"
      ],
      "execution_count": 11,
      "outputs": []
    },
    {
      "cell_type": "code",
      "metadata": {
        "id": "rjMYlgVYXU6E"
      },
      "source": [
        "\n",
        "datetime_split(vaccines_india_df)"
      ],
      "execution_count": 12,
      "outputs": []
    },
    {
      "cell_type": "code",
      "metadata": {
        "colab": {
          "base_uri": "https://localhost:8080/",
          "height": 419
        },
        "id": "SNSSgDfyXXSn",
        "outputId": "aefd824c-2dfb-4b68-81cd-ff6dd1118799"
      },
      "source": [
        "\n",
        "vaccines_india_df"
      ],
      "execution_count": 13,
      "outputs": [
        {
          "output_type": "execute_result",
          "data": {
            "text/html": [
              "<div>\n",
              "<style scoped>\n",
              "    .dataframe tbody tr th:only-of-type {\n",
              "        vertical-align: middle;\n",
              "    }\n",
              "\n",
              "    .dataframe tbody tr th {\n",
              "        vertical-align: top;\n",
              "    }\n",
              "\n",
              "    .dataframe thead th {\n",
              "        text-align: right;\n",
              "    }\n",
              "</style>\n",
              "<table border=\"1\" class=\"dataframe\">\n",
              "  <thead>\n",
              "    <tr style=\"text-align: right;\">\n",
              "      <th></th>\n",
              "      <th>location</th>\n",
              "      <th>date</th>\n",
              "      <th>vaccine</th>\n",
              "      <th>source_url</th>\n",
              "      <th>total_vaccinations</th>\n",
              "      <th>people_vaccinated</th>\n",
              "      <th>people_fully_vaccinated</th>\n",
              "      <th>year</th>\n",
              "      <th>month</th>\n",
              "    </tr>\n",
              "  </thead>\n",
              "  <tbody>\n",
              "    <tr>\n",
              "      <th>0</th>\n",
              "      <td>India</td>\n",
              "      <td>2021-01-15</td>\n",
              "      <td>Covaxin, Oxford/AstraZeneca</td>\n",
              "      <td>https://twitter.com/MoHFW_INDIA/status/1350459...</td>\n",
              "      <td>0</td>\n",
              "      <td>0</td>\n",
              "      <td>0</td>\n",
              "      <td>2021</td>\n",
              "      <td>1</td>\n",
              "    </tr>\n",
              "    <tr>\n",
              "      <th>1</th>\n",
              "      <td>India</td>\n",
              "      <td>2021-01-16</td>\n",
              "      <td>Covaxin, Oxford/AstraZeneca</td>\n",
              "      <td>https://twitter.com/MoHFW_INDIA/status/1350459...</td>\n",
              "      <td>191181</td>\n",
              "      <td>191181</td>\n",
              "      <td>0</td>\n",
              "      <td>2021</td>\n",
              "      <td>1</td>\n",
              "    </tr>\n",
              "    <tr>\n",
              "      <th>2</th>\n",
              "      <td>India</td>\n",
              "      <td>2021-01-17</td>\n",
              "      <td>Covaxin, Oxford/AstraZeneca</td>\n",
              "      <td>https://twitter.com/MoHFW_INDIA/status/1350815...</td>\n",
              "      <td>224301</td>\n",
              "      <td>224301</td>\n",
              "      <td>0</td>\n",
              "      <td>2021</td>\n",
              "      <td>1</td>\n",
              "    </tr>\n",
              "    <tr>\n",
              "      <th>3</th>\n",
              "      <td>India</td>\n",
              "      <td>2021-01-18</td>\n",
              "      <td>Covaxin, Oxford/AstraZeneca</td>\n",
              "      <td>https://www.mohfw.gov.in/</td>\n",
              "      <td>454049</td>\n",
              "      <td>454049</td>\n",
              "      <td>0</td>\n",
              "      <td>2021</td>\n",
              "      <td>1</td>\n",
              "    </tr>\n",
              "    <tr>\n",
              "      <th>4</th>\n",
              "      <td>India</td>\n",
              "      <td>2021-01-19</td>\n",
              "      <td>Covaxin, Oxford/AstraZeneca</td>\n",
              "      <td>https://www.mohfw.gov.in/</td>\n",
              "      <td>674835</td>\n",
              "      <td>674835</td>\n",
              "      <td>0</td>\n",
              "      <td>2021</td>\n",
              "      <td>1</td>\n",
              "    </tr>\n",
              "    <tr>\n",
              "      <th>...</th>\n",
              "      <td>...</td>\n",
              "      <td>...</td>\n",
              "      <td>...</td>\n",
              "      <td>...</td>\n",
              "      <td>...</td>\n",
              "      <td>...</td>\n",
              "      <td>...</td>\n",
              "      <td>...</td>\n",
              "      <td>...</td>\n",
              "    </tr>\n",
              "    <tr>\n",
              "      <th>186</th>\n",
              "      <td>India</td>\n",
              "      <td>2021-07-27</td>\n",
              "      <td>Covaxin, Oxford/AstraZeneca, Sputnik V</td>\n",
              "      <td>https://www.mohfw.gov.in/</td>\n",
              "      <td>446156659</td>\n",
              "      <td>349324061</td>\n",
              "      <td>96832598</td>\n",
              "      <td>2021</td>\n",
              "      <td>7</td>\n",
              "    </tr>\n",
              "    <tr>\n",
              "      <th>187</th>\n",
              "      <td>India</td>\n",
              "      <td>2021-07-28</td>\n",
              "      <td>Covaxin, Oxford/AstraZeneca, Sputnik V</td>\n",
              "      <td>https://www.mohfw.gov.in/</td>\n",
              "      <td>450706257</td>\n",
              "      <td>352545271</td>\n",
              "      <td>98160986</td>\n",
              "      <td>2021</td>\n",
              "      <td>7</td>\n",
              "    </tr>\n",
              "    <tr>\n",
              "      <th>188</th>\n",
              "      <td>India</td>\n",
              "      <td>2021-07-29</td>\n",
              "      <td>Covaxin, Oxford/AstraZeneca, Sputnik V</td>\n",
              "      <td>https://www.mohfw.gov.in/</td>\n",
              "      <td>456033754</td>\n",
              "      <td>356140739</td>\n",
              "      <td>99893015</td>\n",
              "      <td>2021</td>\n",
              "      <td>7</td>\n",
              "    </tr>\n",
              "    <tr>\n",
              "      <th>189</th>\n",
              "      <td>India</td>\n",
              "      <td>2021-07-30</td>\n",
              "      <td>Covaxin, Oxford/AstraZeneca, Sputnik V</td>\n",
              "      <td>https://www.mohfw.gov.in/</td>\n",
              "      <td>461518479</td>\n",
              "      <td>359820313</td>\n",
              "      <td>101698166</td>\n",
              "      <td>2021</td>\n",
              "      <td>7</td>\n",
              "    </tr>\n",
              "    <tr>\n",
              "      <th>190</th>\n",
              "      <td>India</td>\n",
              "      <td>2021-08-01</td>\n",
              "      <td>Covaxin, Oxford/AstraZeneca, Sputnik V</td>\n",
              "      <td>https://www.mohfw.gov.in/</td>\n",
              "      <td>472223639</td>\n",
              "      <td>367994586</td>\n",
              "      <td>104229053</td>\n",
              "      <td>2021</td>\n",
              "      <td>8</td>\n",
              "    </tr>\n",
              "  </tbody>\n",
              "</table>\n",
              "<p>191 rows × 9 columns</p>\n",
              "</div>"
            ],
            "text/plain": [
              "    location       date  ...  year month\n",
              "0      India 2021-01-15  ...  2021     1\n",
              "1      India 2021-01-16  ...  2021     1\n",
              "2      India 2021-01-17  ...  2021     1\n",
              "3      India 2021-01-18  ...  2021     1\n",
              "4      India 2021-01-19  ...  2021     1\n",
              "..       ...        ...  ...   ...   ...\n",
              "186    India 2021-07-27  ...  2021     7\n",
              "187    India 2021-07-28  ...  2021     7\n",
              "188    India 2021-07-29  ...  2021     7\n",
              "189    India 2021-07-30  ...  2021     7\n",
              "190    India 2021-08-01  ...  2021     8\n",
              "\n",
              "[191 rows x 9 columns]"
            ]
          },
          "metadata": {
            "tags": []
          },
          "execution_count": 13
        }
      ]
    },
    {
      "cell_type": "code",
      "metadata": {
        "colab": {
          "base_uri": "https://localhost:8080/",
          "height": 328
        },
        "id": "au_yMJi3XczI",
        "outputId": "7a62fe02-b89e-453e-cbcd-c300b3178f4f"
      },
      "source": [
        "vaccines_india_df.groupby('month').agg({'total_vaccinations': 'median', \n",
        "                                        'people_vaccinated': 'median', \n",
        "                                        'people_fully_vaccinated': 'median'})"
      ],
      "execution_count": 14,
      "outputs": [
        {
          "output_type": "execute_result",
          "data": {
            "text/html": [
              "<div>\n",
              "<style scoped>\n",
              "    .dataframe tbody tr th:only-of-type {\n",
              "        vertical-align: middle;\n",
              "    }\n",
              "\n",
              "    .dataframe tbody tr th {\n",
              "        vertical-align: top;\n",
              "    }\n",
              "\n",
              "    .dataframe thead th {\n",
              "        text-align: right;\n",
              "    }\n",
              "</style>\n",
              "<table border=\"1\" class=\"dataframe\">\n",
              "  <thead>\n",
              "    <tr style=\"text-align: right;\">\n",
              "      <th></th>\n",
              "      <th>total_vaccinations</th>\n",
              "      <th>people_vaccinated</th>\n",
              "      <th>people_fully_vaccinated</th>\n",
              "    </tr>\n",
              "    <tr>\n",
              "      <th>month</th>\n",
              "      <th></th>\n",
              "      <th></th>\n",
              "      <th></th>\n",
              "    </tr>\n",
              "  </thead>\n",
              "  <tbody>\n",
              "    <tr>\n",
              "      <th>1</th>\n",
              "      <td>1582201</td>\n",
              "      <td>1582201.0</td>\n",
              "      <td>0.0</td>\n",
              "    </tr>\n",
              "    <tr>\n",
              "      <th>2</th>\n",
              "      <td>8516771</td>\n",
              "      <td>8418653.0</td>\n",
              "      <td>98118.0</td>\n",
              "    </tr>\n",
              "    <tr>\n",
              "      <th>3</th>\n",
              "      <td>35064536</td>\n",
              "      <td>28862037.0</td>\n",
              "      <td>6202499.0</td>\n",
              "    </tr>\n",
              "    <tr>\n",
              "      <th>4</th>\n",
              "      <td>114493238</td>\n",
              "      <td>100179199.0</td>\n",
              "      <td>14314039.0</td>\n",
              "    </tr>\n",
              "    <tr>\n",
              "      <th>5</th>\n",
              "      <td>181897771</td>\n",
              "      <td>141448223.5</td>\n",
              "      <td>40449547.5</td>\n",
              "    </tr>\n",
              "    <tr>\n",
              "      <th>6</th>\n",
              "      <td>256815633</td>\n",
              "      <td>209136960.5</td>\n",
              "      <td>47678672.5</td>\n",
              "    </tr>\n",
              "    <tr>\n",
              "      <th>7</th>\n",
              "      <td>397519823</td>\n",
              "      <td>317390707.5</td>\n",
              "      <td>80129115.5</td>\n",
              "    </tr>\n",
              "    <tr>\n",
              "      <th>8</th>\n",
              "      <td>472223639</td>\n",
              "      <td>367994586.0</td>\n",
              "      <td>104229053.0</td>\n",
              "    </tr>\n",
              "  </tbody>\n",
              "</table>\n",
              "</div>"
            ],
            "text/plain": [
              "       total_vaccinations  people_vaccinated  people_fully_vaccinated\n",
              "month                                                                \n",
              "1                 1582201          1582201.0                      0.0\n",
              "2                 8516771          8418653.0                  98118.0\n",
              "3                35064536         28862037.0                6202499.0\n",
              "4               114493238        100179199.0               14314039.0\n",
              "5               181897771        141448223.5               40449547.5\n",
              "6               256815633        209136960.5               47678672.5\n",
              "7               397519823        317390707.5               80129115.5\n",
              "8               472223639        367994586.0              104229053.0"
            ]
          },
          "metadata": {
            "tags": []
          },
          "execution_count": 14
        }
      ]
    },
    {
      "cell_type": "code",
      "metadata": {
        "colab": {
          "base_uri": "https://localhost:8080/",
          "height": 328
        },
        "id": "1aquOqYxXn5R",
        "outputId": "e33c5e08-20d7-40d0-e56e-bb6be47e7d58"
      },
      "source": [
        "vaccines_india_df.groupby('month').agg({'total_vaccinations': 'mean', \n",
        "                                       'people_vaccinated': 'mean', \n",
        "                                       'people_fully_vaccinated': 'mean'})"
      ],
      "execution_count": 15,
      "outputs": [
        {
          "output_type": "execute_result",
          "data": {
            "text/html": [
              "<div>\n",
              "<style scoped>\n",
              "    .dataframe tbody tr th:only-of-type {\n",
              "        vertical-align: middle;\n",
              "    }\n",
              "\n",
              "    .dataframe tbody tr th {\n",
              "        vertical-align: top;\n",
              "    }\n",
              "\n",
              "    .dataframe thead th {\n",
              "        text-align: right;\n",
              "    }\n",
              "</style>\n",
              "<table border=\"1\" class=\"dataframe\">\n",
              "  <thead>\n",
              "    <tr style=\"text-align: right;\">\n",
              "      <th></th>\n",
              "      <th>total_vaccinations</th>\n",
              "      <th>people_vaccinated</th>\n",
              "      <th>people_fully_vaccinated</th>\n",
              "    </tr>\n",
              "    <tr>\n",
              "      <th>month</th>\n",
              "      <th></th>\n",
              "      <th></th>\n",
              "      <th></th>\n",
              "    </tr>\n",
              "  </thead>\n",
              "  <tbody>\n",
              "    <tr>\n",
              "      <th>1</th>\n",
              "      <td>1.666071e+06</td>\n",
              "      <td>1.666071e+06</td>\n",
              "      <td>0.000000e+00</td>\n",
              "    </tr>\n",
              "    <tr>\n",
              "      <th>2</th>\n",
              "      <td>8.806005e+06</td>\n",
              "      <td>8.190648e+06</td>\n",
              "      <td>6.153570e+05</td>\n",
              "    </tr>\n",
              "    <tr>\n",
              "      <th>3</th>\n",
              "      <td>3.761312e+07</td>\n",
              "      <td>3.147027e+07</td>\n",
              "      <td>6.142853e+06</td>\n",
              "    </tr>\n",
              "    <tr>\n",
              "      <th>4</th>\n",
              "      <td>1.125233e+08</td>\n",
              "      <td>9.670344e+07</td>\n",
              "      <td>1.581990e+07</td>\n",
              "    </tr>\n",
              "    <tr>\n",
              "      <th>5</th>\n",
              "      <td>1.810848e+08</td>\n",
              "      <td>1.432658e+08</td>\n",
              "      <td>3.781903e+07</td>\n",
              "    </tr>\n",
              "    <tr>\n",
              "      <th>6</th>\n",
              "      <td>2.643352e+08</td>\n",
              "      <td>2.154857e+08</td>\n",
              "      <td>4.884952e+07</td>\n",
              "    </tr>\n",
              "    <tr>\n",
              "      <th>7</th>\n",
              "      <td>3.974892e+08</td>\n",
              "      <td>3.172208e+08</td>\n",
              "      <td>8.026842e+07</td>\n",
              "    </tr>\n",
              "    <tr>\n",
              "      <th>8</th>\n",
              "      <td>4.722236e+08</td>\n",
              "      <td>3.679946e+08</td>\n",
              "      <td>1.042291e+08</td>\n",
              "    </tr>\n",
              "  </tbody>\n",
              "</table>\n",
              "</div>"
            ],
            "text/plain": [
              "       total_vaccinations  people_vaccinated  people_fully_vaccinated\n",
              "month                                                                \n",
              "1            1.666071e+06       1.666071e+06             0.000000e+00\n",
              "2            8.806005e+06       8.190648e+06             6.153570e+05\n",
              "3            3.761312e+07       3.147027e+07             6.142853e+06\n",
              "4            1.125233e+08       9.670344e+07             1.581990e+07\n",
              "5            1.810848e+08       1.432658e+08             3.781903e+07\n",
              "6            2.643352e+08       2.154857e+08             4.884952e+07\n",
              "7            3.974892e+08       3.172208e+08             8.026842e+07\n",
              "8            4.722236e+08       3.679946e+08             1.042291e+08"
            ]
          },
          "metadata": {
            "tags": []
          },
          "execution_count": 15
        }
      ]
    },
    {
      "cell_type": "code",
      "metadata": {
        "colab": {
          "base_uri": "https://localhost:8080/",
          "height": 314
        },
        "id": "-u3t6PooXuvJ",
        "outputId": "347066af-d98c-4f60-b7ba-75c05b93d136"
      },
      "source": [
        "plt.bar(vaccines_india_df.month, vaccines_india_df.total_vaccinations, label='Total Vaccines Administered')\n",
        "plt.bar(vaccines_india_df.month, vaccines_india_df.people_vaccinated, label='Once Vaccinated')\n",
        "plt.bar(vaccines_india_df.month, vaccines_india_df.people_fully_vaccinated, label='Fully Vaccinated')\n",
        "\n",
        "plt.title('Total Vaccines VS Once Vaccinated VS Fully Vaccinated', fontsize=14, y=1.08)\n",
        "plt.xlabel('Monthly')\n",
        "plt.ylabel('Number of People')\n",
        "plt.legend();"
      ],
      "execution_count": 16,
      "outputs": [
        {
          "output_type": "display_data",
          "data": {
            "image/png": "[encoded data removed]",
            "text/plain": [
              "<Figure size 432x288 with 1 Axes>"
            ]
          },
          "metadata": {
            "tags": [],
            "needs_background": "light"
          }
        }
      ]
    },
    {
      "cell_type": "code",
      "metadata": {
        "colab": {
          "base_uri": "https://localhost:8080/",
          "height": 542
        },
        "id": "533gVFeFX-GL",
        "outputId": "55ae981d-b9a4-4281-89bd-4dc8ff6b2d10"
      },
      "source": [
        "px.bar(vaccines_india_df, \n",
        "       x=vaccines_india_df.month, \n",
        "       y=vaccines_india_df.total_vaccinations, \n",
        "       title=\"Total Vaccines Administered from 2021-01-15\", \n",
        "       color=\"vaccine\", \n",
        "       hover_data=['date'])\n"
      ],
      "execution_count": 17,
      "outputs": [
        {
          "output_type": "display_data",
          "data": {
            "text/html": [
              "<html>\n",
              "<head><meta charset=\"utf-8\" /></head>\n",
              "<body>\n",
              "    <div>\n",
              "            <script src=\"https://cdnjs.cloudflare.com/ajax/libs/mathjax/2.7.5/MathJax.js?config=TeX-AMS-MML_SVG\"></script><script type=\"text/javascript\">if (window.MathJax) {MathJax.Hub.Config({SVG: {font: \"STIX-Web\"}});}</script>\n",
              "                <script type=\"text/javascript\">window.PlotlyConfig = {MathJaxConfig: 'local'};</script>\n",
              "        <script src=\"https://cdn.plot.ly/plotly-latest.min.js\"></script>    \n",
              "            <div id=\"c2bb39e6-79a5-48dc-b70c-4248b413b995\" class=\"plotly-graph-div\" style=\"height:525px; width:100%;\"></div>\n",
              "            <script type=\"text/javascript\">\n",
              "                \n",
              "                    window.PLOTLYENV=window.PLOTLYENV || {};\n",
              "                    \n",
              "                if (document.getElementById(\"c2bb39e6-79a5-48dc-b70c-4248b413b995\")) {\n",
              "                    Plotly.newPlot(\n",
              "                        'c2bb39e6-79a5-48dc-b70c-4248b413b995',\n",
              "                        [{\"alignmentgroup\": \"True\", \"customdata\": [[1610668800000000000], [1610755200000000000], [1610841600000000000], [1610928000000000000], [1611014400000000000], [1611100800000000000], [1611187200000000000], [1611273600000000000], [1611360000000000000], [1611446400000000000], [1611532800000000000], [1611619200000000000], [1611705600000000000], [1611792000000000000], [1611878400000000000], [1611964800000000000], [1612051200000000000], [1612137600000000000], [1612224000000000000], [1612310400000000000], [1612396800000000000], [1612483200000000000], [1612569600000000000], [1612656000000000000], [1612742400000000000], [1612828800000000000], [1612915200000000000], [1613001600000000000], [1613088000000000000], [1613174400000000000], [1613347200000000000], [1613433600000000000], [1613520000000000000], [1613606400000000000], [1613692800000000000], [1613779200000000000], [1613865600000000000], [1613952000000000000], [1614038400000000000], [1614124800000000000], [1614211200000000000], [1614297600000000000], [1614384000000000000], [1614470400000000000], [1614556800000000000], [1614643200000000000], [1614729600000000000], [1614816000000000000], [1614902400000000000], [1614988800000000000], [1615075200000000000], [1615161600000000000], [1615248000000000000], [1615334400000000000], [1615420800000000000], [1615507200000000000], [1615593600000000000], [1615680000000000000], [1615766400000000000], [1615852800000000000], [1615939200000000000], [1616025600000000000], [1616112000000000000], [1616198400000000000], [1616284800000000000], [1616371200000000000], [1616457600000000000], [1616544000000000000], [1616630400000000000], [1616716800000000000], [1616803200000000000], [1616889600000000000], [1616976000000000000], [1617062400000000000], [1617148800000000000], [1617235200000000000], [1617321600000000000], [1617408000000000000], [1617494400000000000], [1617580800000000000], [1617667200000000000], [1617753600000000000], [1617840000000000000], [1617926400000000000], [1618012800000000000], [1618099200000000000], [1618185600000000000], [1618272000000000000], [1618358400000000000], [1618444800000000000], [1618531200000000000], [1618617600000000000], [1618704000000000000], [1618790400000000000], [1618963200000000000], [1619049600000000000], [1619308800000000000], [1619395200000000000], [1619481600000000000], [1619568000000000000], [1619654400000000000], [1619740800000000000], [1619827200000000000], [1619913600000000000], [1620000000000000000], [1620086400000000000], [1620172800000000000], [1620259200000000000], [1620345600000000000], [1620432000000000000], [1620518400000000000], [1620604800000000000], [1620691200000000000], [1620777600000000000], [1620864000000000000], [1620950400000000000], [1621036800000000000], [1621123200000000000], [1621209600000000000], [1621296000000000000], [1621382400000000000], [1621468800000000000], [1621641600000000000], [1621728000000000000], [1621814400000000000], [1621900800000000000], [1621987200000000000], [1622073600000000000], [1622160000000000000], [1622246400000000000], [1622332800000000000], [1622419200000000000], [1622505600000000000], [1622592000000000000], [1622678400000000000], [1622764800000000000], [1622851200000000000], [1622937600000000000], [1623024000000000000], [1623110400000000000], [1623196800000000000], [1623283200000000000], [1623369600000000000], [1623456000000000000], [1623542400000000000], [1623628800000000000], [1623715200000000000], [1623801600000000000], [1623888000000000000], [1623974400000000000], [1624060800000000000], [1624147200000000000], [1624233600000000000], [1624320000000000000], [1624406400000000000], [1624492800000000000], [1624579200000000000], [1624665600000000000], [1624752000000000000]], \"hoverlabel\": {\"namelength\": 0}, \"hovertemplate\": \"vaccine=Covaxin, Oxford/AstraZeneca<br>month=%{x}<br>total_vaccinations=%{y}<br>date=%{customdata[0]}\", \"legendgroup\": \"vaccine=Covaxin, Oxford/AstraZeneca\", \"marker\": {\"color\": \"#636efa\"}, \"name\": \"vaccine=Covaxin, Oxford/AstraZeneca\", \"offsetgroup\": \"vaccine=Covaxin, Oxford/AstraZeneca\", \"orientation\": \"v\", \"showlegend\": true, \"textposition\": \"auto\", \"type\": \"bar\", \"x\": [1, 1, 1, 1, 1, 1, 1, 1, 1, 1, 1, 1, 1, 1, 1, 1, 1, 2, 2, 2, 2, 2, 2, 2, 2, 2, 2, 2, 2, 2, 2, 2, 2, 2, 2, 2, 2, 2, 2, 2, 2, 2, 2, 2, 3, 3, 3, 3, 3, 3, 3, 3, 3, 3, 3, 3, 3, 3, 3, 3, 3, 3, 3, 3, 3, 3, 3, 3, 3, 3, 3, 3, 3, 3, 3, 4, 4, 4, 4, 4, 4, 4, 4, 4, 4, 4, 4, 4, 4, 4, 4, 4, 4, 4, 4, 4, 4, 4, 4, 4, 4, 4, 5, 5, 5, 5, 5, 5, 5, 5, 5, 5, 5, 5, 5, 5, 5, 5, 5, 5, 5, 5, 5, 5, 5, 5, 5, 5, 5, 5, 5, 5, 6, 6, 6, 6, 6, 6, 6, 6, 6, 6, 6, 6, 6, 6, 6, 6, 6, 6, 6, 6, 6, 6, 6, 6, 6, 6, 6], \"xaxis\": \"x\", \"y\": [0, 191181, 224301, 454049, 674835, 806484, 1043534, 1390592, 1582201, 1615504, 2023809, 2029480, 2355979, 2928053, 3500027, 3744334, 3758843, 3950156, 4138918, 4449552, 4959445, 5416849, 5775322, 5812362, 6259008, 6611561, 7017114, 7505010, 7967647, 8052454, 8516771, 8857341, 9186757, 9846523, 10449942, 10838323, 11085173, 11424094, 11907392, 12366633, 13067047, 13756940, 14242547, 14301266, 14854136, 15620749, 16616048, 18005503, 19497704, 20922344, 20989010, 23008733, 24367906, 25685011, 26164920, 28218457, 29738409, 29908038, 32947432, 35064536, 37143255, 39339817, 42063392, 44603841, 45065998, 48494594, 50841286, 53145709, 55504440, 58109773, 60269782, 60530435, 61113354, 63054353, 65117896, 68789138, 73054295, 75979651, 79105163, 83110926, 87077474, 90198673, 94334262, 98075160, 101595147, 104528565, 108533085, 111179578, 114493238, 117223509, 119937641, 122622590, 123852566, 127129113, 129646105, 132754608, 139185173, 142524947, 144879233, 147053392, 149268772, 151998107, 153626325, 154211511, 156082136, 157750752, 159931238, 162603603, 165190000, 167493857, 168304868, 171098918, 173862643, 176045577, 178361846, 179646413, 181544536, 182251006, 183817204, 185191602, 186410600, 187886885, 190842497, 191719240, 194165711, 195506779, 198425615, 201203166, 203166802, 207088953, 208665123, 210449895, 213135738, 215678166, 218344384, 223607768, 225571144, 228041045, 230490652, 233680929, 236856505, 240281903, 243703242, 246188067, 249430416, 252760364, 255305366, 258325900, 262970250, 266355940, 270908312, 274286599, 283313942, 289855456, 293370338, 300054027, 306661528, 314841384, 318030412], \"yaxis\": \"y\"}, {\"alignmentgroup\": \"True\", \"customdata\": [[1624838400000000000], [1624924800000000000], [1625011200000000000], [1625097600000000000], [1625184000000000000], [1625270400000000000], [1625356800000000000], [1625443200000000000], [1625529600000000000], [1625616000000000000], [1625702400000000000], [1625875200000000000], [1625961600000000000], [1626048000000000000], [1626134400000000000], [1626220800000000000], [1626307200000000000], [1626393600000000000], [1626480000000000000], [1626652800000000000], [1626739200000000000], [1626825600000000000], [1626912000000000000], [1626998400000000000], [1627084800000000000], [1627171200000000000], [1627257600000000000], [1627344000000000000], [1627430400000000000], [1627516800000000000], [1627603200000000000], [1627776000000000000]], \"hoverlabel\": {\"namelength\": 0}, \"hovertemplate\": \"vaccine=Covaxin, Oxford/AstraZeneca, Sputnik V<br>month=%{x}<br>total_vaccinations=%{y}<br>date=%{customdata[0]}\", \"legendgroup\": \"vaccine=Covaxin, Oxford/AstraZeneca, Sputnik V\", \"marker\": {\"color\": \"#EF553B\"}, \"name\": \"vaccine=Covaxin, Oxford/AstraZeneca, Sputnik V\", \"offsetgroup\": \"vaccine=Covaxin, Oxford/AstraZeneca, Sputnik V\", \"orientation\": \"v\", \"showlegend\": true, \"textposition\": \"auto\", \"type\": \"bar\", \"x\": [6, 6, 6, 7, 7, 7, 7, 7, 7, 7, 7, 7, 7, 7, 7, 7, 7, 7, 7, 7, 7, 7, 7, 7, 7, 7, 7, 7, 7, 7, 7, 8], \"xaxis\": \"x\", \"y\": [321423578, 327423913, 329158139, 334741649, 335671794, 344300590, 347378550, 351229497, 354307646, 358070763, 368991222, 376032586, 377352501, 381467646, 387697935, 391340491, 395343767, 399695879, 404931715, 411846401, 415472455, 417851151, 423417030, 427882261, 433150864, 435196001, 441912395, 446156659, 450706257, 456033754, 461518479, 472223639], \"yaxis\": \"y\"}],\n",
              "                        {\"barmode\": \"relative\", \"legend\": {\"tracegroupgap\": 0}, \"template\": {\"data\": {\"bar\": [{\"error_x\": {\"color\": \"#2a3f5f\"}, \"error_y\": {\"color\": \"#2a3f5f\"}, \"marker\": {\"line\": {\"color\": \"#E5ECF6\", \"width\": 0.5}}, \"type\": \"bar\"}], \"barpolar\": [{\"marker\": {\"line\": {\"color\": \"#E5ECF6\", \"width\": 0.5}}, \"type\": \"barpolar\"}], \"carpet\": [{\"aaxis\": {\"endlinecolor\": \"#2a3f5f\", \"gridcolor\": \"white\", \"linecolor\": \"white\", \"minorgridcolor\": \"white\", \"startlinecolor\": \"#2a3f5f\"}, \"baxis\": {\"endlinecolor\": \"#2a3f5f\", \"gridcolor\": \"white\", \"linecolor\": \"white\", \"minorgridcolor\": \"white\", \"startlinecolor\": \"#2a3f5f\"}, \"type\": \"carpet\"}], \"choropleth\": [{\"colorbar\": {\"outlinewidth\": 0, \"ticks\": \"\"}, \"type\": \"choropleth\"}], \"contour\": [{\"colorbar\": {\"outlinewidth\": 0, \"ticks\": \"\"}, \"colorscale\": [[0.0, \"#0d0887\"], [0.1111111111111111, \"#46039f\"], [0.2222222222222222, \"#7201a8\"], [0.3333333333333333, \"#9c179e\"], [0.4444444444444444, \"#bd3786\"], [0.5555555555555556, \"#d8576b\"], [0.6666666666666666, \"#ed7953\"], [0.7777777777777778, \"#fb9f3a\"], [0.8888888888888888, \"#fdca26\"], [1.0, \"#f0f921\"]], \"type\": \"contour\"}], \"contourcarpet\": [{\"colorbar\": {\"outlinewidth\": 0, \"ticks\": \"\"}, \"type\": \"contourcarpet\"}], \"heatmap\": [{\"colorbar\": {\"outlinewidth\": 0, \"ticks\": \"\"}, \"colorscale\": [[0.0, \"#0d0887\"], [0.1111111111111111, \"#46039f\"], [0.2222222222222222, \"#7201a8\"], [0.3333333333333333, \"#9c179e\"], [0.4444444444444444, \"#bd3786\"], [0.5555555555555556, \"#d8576b\"], [0.6666666666666666, \"#ed7953\"], [0.7777777777777778, \"#fb9f3a\"], [0.8888888888888888, \"#fdca26\"], [1.0, \"#f0f921\"]], \"type\": \"heatmap\"}], \"heatmapgl\": [{\"colorbar\": {\"outlinewidth\": 0, \"ticks\": \"\"}, \"colorscale\": [[0.0, \"#0d0887\"], [0.1111111111111111, \"#46039f\"], [0.2222222222222222, \"#7201a8\"], [0.3333333333333333, \"#9c179e\"], [0.4444444444444444, \"#bd3786\"], [0.5555555555555556, \"#d8576b\"], [0.6666666666666666, \"#ed7953\"], [0.7777777777777778, \"#fb9f3a\"], [0.8888888888888888, \"#fdca26\"], [1.0, \"#f0f921\"]], \"type\": \"heatmapgl\"}], \"histogram\": [{\"marker\": {\"colorbar\": {\"outlinewidth\": 0, \"ticks\": \"\"}}, \"type\": \"histogram\"}], \"histogram2d\": [{\"colorbar\": {\"outlinewidth\": 0, \"ticks\": \"\"}, \"colorscale\": [[0.0, \"#0d0887\"], [0.1111111111111111, \"#46039f\"], [0.2222222222222222, \"#7201a8\"], [0.3333333333333333, \"#9c179e\"], [0.4444444444444444, \"#bd3786\"], [0.5555555555555556, \"#d8576b\"], [0.6666666666666666, \"#ed7953\"], [0.7777777777777778, \"#fb9f3a\"], [0.8888888888888888, \"#fdca26\"], [1.0, \"#f0f921\"]], \"type\": \"histogram2d\"}], \"histogram2dcontour\": [{\"colorbar\": {\"outlinewidth\": 0, \"ticks\": \"\"}, \"colorscale\": [[0.0, \"#0d0887\"], [0.1111111111111111, \"#46039f\"], [0.2222222222222222, \"#7201a8\"], [0.3333333333333333, \"#9c179e\"], [0.4444444444444444, \"#bd3786\"], [0.5555555555555556, \"#d8576b\"], [0.6666666666666666, \"#ed7953\"], [0.7777777777777778, \"#fb9f3a\"], [0.8888888888888888, \"#fdca26\"], [1.0, \"#f0f921\"]], \"type\": \"histogram2dcontour\"}], \"mesh3d\": [{\"colorbar\": {\"outlinewidth\": 0, \"ticks\": \"\"}, \"type\": \"mesh3d\"}], \"parcoords\": [{\"line\": {\"colorbar\": {\"outlinewidth\": 0, \"ticks\": \"\"}}, \"type\": \"parcoords\"}], \"pie\": [{\"automargin\": true, \"type\": \"pie\"}], \"scatter\": [{\"marker\": {\"colorbar\": {\"outlinewidth\": 0, \"ticks\": \"\"}}, \"type\": \"scatter\"}], \"scatter3d\": [{\"line\": {\"colorbar\": {\"outlinewidth\": 0, \"ticks\": \"\"}}, \"marker\": {\"colorbar\": {\"outlinewidth\": 0, \"ticks\": \"\"}}, \"type\": \"scatter3d\"}], \"scattercarpet\": [{\"marker\": {\"colorbar\": {\"outlinewidth\": 0, \"ticks\": \"\"}}, \"type\": \"scattercarpet\"}], \"scattergeo\": [{\"marker\": {\"colorbar\": {\"outlinewidth\": 0, \"ticks\": \"\"}}, \"type\": \"scattergeo\"}], \"scattergl\": [{\"marker\": {\"colorbar\": {\"outlinewidth\": 0, \"ticks\": \"\"}}, \"type\": \"scattergl\"}], \"scattermapbox\": [{\"marker\": {\"colorbar\": {\"outlinewidth\": 0, \"ticks\": \"\"}}, \"type\": \"scattermapbox\"}], \"scatterpolar\": [{\"marker\": {\"colorbar\": {\"outlinewidth\": 0, \"ticks\": \"\"}}, \"type\": \"scatterpolar\"}], \"scatterpolargl\": [{\"marker\": {\"colorbar\": {\"outlinewidth\": 0, \"ticks\": \"\"}}, \"type\": \"scatterpolargl\"}], \"scatterternary\": [{\"marker\": {\"colorbar\": {\"outlinewidth\": 0, \"ticks\": \"\"}}, \"type\": \"scatterternary\"}], \"surface\": [{\"colorbar\": {\"outlinewidth\": 0, \"ticks\": \"\"}, \"colorscale\": [[0.0, \"#0d0887\"], [0.1111111111111111, \"#46039f\"], [0.2222222222222222, \"#7201a8\"], [0.3333333333333333, \"#9c179e\"], [0.4444444444444444, \"#bd3786\"], [0.5555555555555556, \"#d8576b\"], [0.6666666666666666, \"#ed7953\"], [0.7777777777777778, \"#fb9f3a\"], [0.8888888888888888, \"#fdca26\"], [1.0, \"#f0f921\"]], \"type\": \"surface\"}], \"table\": [{\"cells\": {\"fill\": {\"color\": \"#EBF0F8\"}, \"line\": {\"color\": \"white\"}}, \"header\": {\"fill\": {\"color\": \"#C8D4E3\"}, \"line\": {\"color\": \"white\"}}, \"type\": \"table\"}]}, \"layout\": {\"annotationdefaults\": {\"arrowcolor\": \"#2a3f5f\", \"arrowhead\": 0, \"arrowwidth\": 1}, \"coloraxis\": {\"colorbar\": {\"outlinewidth\": 0, \"ticks\": \"\"}}, \"colorscale\": {\"diverging\": [[0, \"#8e0152\"], [0.1, \"#c51b7d\"], [0.2, \"#de77ae\"], [0.3, \"#f1b6da\"], [0.4, \"#fde0ef\"], [0.5, \"#f7f7f7\"], [0.6, \"#e6f5d0\"], [0.7, \"#b8e186\"], [0.8, \"#7fbc41\"], [0.9, \"#4d9221\"], [1, \"#276419\"]], \"sequential\": [[0.0, \"#0d0887\"], [0.1111111111111111, \"#46039f\"], [0.2222222222222222, \"#7201a8\"], [0.3333333333333333, \"#9c179e\"], [0.4444444444444444, \"#bd3786\"], [0.5555555555555556, \"#d8576b\"], [0.6666666666666666, \"#ed7953\"], [0.7777777777777778, \"#fb9f3a\"], [0.8888888888888888, \"#fdca26\"], [1.0, \"#f0f921\"]], \"sequentialminus\": [[0.0, \"#0d0887\"], [0.1111111111111111, \"#46039f\"], [0.2222222222222222, \"#7201a8\"], [0.3333333333333333, \"#9c179e\"], [0.4444444444444444, \"#bd3786\"], [0.5555555555555556, \"#d8576b\"], [0.6666666666666666, \"#ed7953\"], [0.7777777777777778, \"#fb9f3a\"], [0.8888888888888888, \"#fdca26\"], [1.0, \"#f0f921\"]]}, \"colorway\": [\"#636efa\", \"#EF553B\", \"#00cc96\", \"#ab63fa\", \"#FFA15A\", \"#19d3f3\", \"#FF6692\", \"#B6E880\", \"#FF97FF\", \"#FECB52\"], \"font\": {\"color\": \"#2a3f5f\"}, \"geo\": {\"bgcolor\": \"white\", \"lakecolor\": \"white\", \"landcolor\": \"#E5ECF6\", \"showlakes\": true, \"showland\": true, \"subunitcolor\": \"white\"}, \"hoverlabel\": {\"align\": \"left\"}, \"hovermode\": \"closest\", \"mapbox\": {\"style\": \"light\"}, \"paper_bgcolor\": \"white\", \"plot_bgcolor\": \"#E5ECF6\", \"polar\": {\"angularaxis\": {\"gridcolor\": \"white\", \"linecolor\": \"white\", \"ticks\": \"\"}, \"bgcolor\": \"#E5ECF6\", \"radialaxis\": {\"gridcolor\": \"white\", \"linecolor\": \"white\", \"ticks\": \"\"}}, \"scene\": {\"xaxis\": {\"backgroundcolor\": \"#E5ECF6\", \"gridcolor\": \"white\", \"gridwidth\": 2, \"linecolor\": \"white\", \"showbackground\": true, \"ticks\": \"\", \"zerolinecolor\": \"white\"}, \"yaxis\": {\"backgroundcolor\": \"#E5ECF6\", \"gridcolor\": \"white\", \"gridwidth\": 2, \"linecolor\": \"white\", \"showbackground\": true, \"ticks\": \"\", \"zerolinecolor\": \"white\"}, \"zaxis\": {\"backgroundcolor\": \"#E5ECF6\", \"gridcolor\": \"white\", \"gridwidth\": 2, \"linecolor\": \"white\", \"showbackground\": true, \"ticks\": \"\", \"zerolinecolor\": \"white\"}}, \"shapedefaults\": {\"line\": {\"color\": \"#2a3f5f\"}}, \"ternary\": {\"aaxis\": {\"gridcolor\": \"white\", \"linecolor\": \"white\", \"ticks\": \"\"}, \"baxis\": {\"gridcolor\": \"white\", \"linecolor\": \"white\", \"ticks\": \"\"}, \"bgcolor\": \"#E5ECF6\", \"caxis\": {\"gridcolor\": \"white\", \"linecolor\": \"white\", \"ticks\": \"\"}}, \"title\": {\"x\": 0.05}, \"xaxis\": {\"automargin\": true, \"gridcolor\": \"white\", \"linecolor\": \"white\", \"ticks\": \"\", \"title\": {\"standoff\": 15}, \"zerolinecolor\": \"white\", \"zerolinewidth\": 2}, \"yaxis\": {\"automargin\": true, \"gridcolor\": \"white\", \"linecolor\": \"white\", \"ticks\": \"\", \"title\": {\"standoff\": 15}, \"zerolinecolor\": \"white\", \"zerolinewidth\": 2}}}, \"title\": {\"text\": \"Total Vaccines Administered from 2021-01-15\"}, \"xaxis\": {\"anchor\": \"y\", \"domain\": [0.0, 1.0], \"title\": {\"text\": \"month\"}}, \"yaxis\": {\"anchor\": \"x\", \"domain\": [0.0, 1.0], \"title\": {\"text\": \"total_vaccinations\"}}},\n",
              "                        {\"responsive\": true}\n",
              "                    ).then(function(){\n",
              "                            \n",
              "var gd = document.getElementById('c2bb39e6-79a5-48dc-b70c-4248b413b995');\n",
              "var x = new MutationObserver(function (mutations, observer) {{\n",
              "        var display = window.getComputedStyle(gd).display;\n",
              "        if (!display || display === 'none') {{\n",
              "            console.log([gd, 'removed!']);\n",
              "            Plotly.purge(gd);\n",
              "            observer.disconnect();\n",
              "        }}\n",
              "}});\n",
              "\n",
              "// Listen for the removal of the full notebook cells\n",
              "var notebookContainer = gd.closest('#notebook-container');\n",
              "if (notebookContainer) {{\n",
              "    x.observe(notebookContainer, {childList: true});\n",
              "}}\n",
              "\n",
              "// Listen for the clearing of the current output cell\n",
              "var outputEl = gd.closest('.output');\n",
              "if (outputEl) {{\n",
              "    x.observe(outputEl, {childList: true});\n",
              "}}\n",
              "\n",
              "                        })\n",
              "                };\n",
              "                \n",
              "            </script>\n",
              "        </div>\n",
              "</body>\n",
              "</html>"
            ]
          },
          "metadata": {
            "tags": []
          }
        }
      ]
    },
    {
      "cell_type": "code",
      "metadata": {
        "colab": {
          "base_uri": "https://localhost:8080/",
          "height": 542
        },
        "id": "nsEaUoJTYG4W",
        "outputId": "0559548e-0193-4adf-dc36-9c86fbd3e293"
      },
      "source": [
        "px.bar(vaccines_india_df, \n",
        "       x=vaccines_india_df.month, \n",
        "       y=vaccines_india_df.people_vaccinated, \n",
        "       title=\"Total People Vaccinated Once from 2021-01-15\", \n",
        "       color=\"vaccine\", \n",
        "       hover_data=['date'])"
      ],
      "execution_count": 18,
      "outputs": [
        {
          "output_type": "display_data",
          "data": {
            "text/html": [
              "<html>\n",
              "<head><meta charset=\"utf-8\" /></head>\n",
              "<body>\n",
              "    <div>\n",
              "            <script src=\"https://cdnjs.cloudflare.com/ajax/libs/mathjax/2.7.5/MathJax.js?config=TeX-AMS-MML_SVG\"></script><script type=\"text/javascript\">if (window.MathJax) {MathJax.Hub.Config({SVG: {font: \"STIX-Web\"}});}</script>\n",
              "                <script type=\"text/javascript\">window.PlotlyConfig = {MathJaxConfig: 'local'};</script>\n",
              "        <script src=\"https://cdn.plot.ly/plotly-latest.min.js\"></script>    \n",
              "            <div id=\"9f12cae2-a32b-418a-8cc5-05f104868039\" class=\"plotly-graph-div\" style=\"height:525px; width:100%;\"></div>\n",
              "            <script type=\"text/javascript\">\n",
              "                \n",
              "                    window.PLOTLYENV=window.PLOTLYENV || {};\n",
              "                    \n",
              "                if (document.getElementById(\"9f12cae2-a32b-418a-8cc5-05f104868039\")) {\n",
              "                    Plotly.newPlot(\n",
              "                        '9f12cae2-a32b-418a-8cc5-05f104868039',\n",
              "                        [{\"alignmentgroup\": \"True\", \"customdata\": [[1610668800000000000], [1610755200000000000], [1610841600000000000], [1610928000000000000], [1611014400000000000], [1611100800000000000], [1611187200000000000], [1611273600000000000], [1611360000000000000], [1611446400000000000], [1611532800000000000], [1611619200000000000], [1611705600000000000], [1611792000000000000], [1611878400000000000], [1611964800000000000], [1612051200000000000], [1612137600000000000], [1612224000000000000], [1612310400000000000], [1612396800000000000], [1612483200000000000], [1612569600000000000], [1612656000000000000], [1612742400000000000], [1612828800000000000], [1612915200000000000], [1613001600000000000], [1613088000000000000], [1613174400000000000], [1613347200000000000], [1613433600000000000], [1613520000000000000], [1613606400000000000], [1613692800000000000], [1613779200000000000], [1613865600000000000], [1613952000000000000], [1614038400000000000], [1614124800000000000], [1614211200000000000], [1614297600000000000], [1614384000000000000], [1614470400000000000], [1614556800000000000], [1614643200000000000], [1614729600000000000], [1614816000000000000], [1614902400000000000], [1614988800000000000], [1615075200000000000], [1615161600000000000], [1615248000000000000], [1615334400000000000], [1615420800000000000], [1615507200000000000], [1615593600000000000], [1615680000000000000], [1615766400000000000], [1615852800000000000], [1615939200000000000], [1616025600000000000], [1616112000000000000], [1616198400000000000], [1616284800000000000], [1616371200000000000], [1616457600000000000], [1616544000000000000], [1616630400000000000], [1616716800000000000], [1616803200000000000], [1616889600000000000], [1616976000000000000], [1617062400000000000], [1617148800000000000], [1617235200000000000], [1617321600000000000], [1617408000000000000], [1617494400000000000], [1617580800000000000], [1617667200000000000], [1617753600000000000], [1617840000000000000], [1617926400000000000], [1618012800000000000], [1618099200000000000], [1618185600000000000], [1618272000000000000], [1618358400000000000], [1618444800000000000], [1618531200000000000], [1618617600000000000], [1618704000000000000], [1618790400000000000], [1618963200000000000], [1619049600000000000], [1619308800000000000], [1619395200000000000], [1619481600000000000], [1619568000000000000], [1619654400000000000], [1619740800000000000], [1619827200000000000], [1619913600000000000], [1620000000000000000], [1620086400000000000], [1620172800000000000], [1620259200000000000], [1620345600000000000], [1620432000000000000], [1620518400000000000], [1620604800000000000], [1620691200000000000], [1620777600000000000], [1620864000000000000], [1620950400000000000], [1621036800000000000], [1621123200000000000], [1621209600000000000], [1621296000000000000], [1621382400000000000], [1621468800000000000], [1621641600000000000], [1621728000000000000], [1621814400000000000], [1621900800000000000], [1621987200000000000], [1622073600000000000], [1622160000000000000], [1622246400000000000], [1622332800000000000], [1622419200000000000], [1622505600000000000], [1622592000000000000], [1622678400000000000], [1622764800000000000], [1622851200000000000], [1622937600000000000], [1623024000000000000], [1623110400000000000], [1623196800000000000], [1623283200000000000], [1623369600000000000], [1623456000000000000], [1623542400000000000], [1623628800000000000], [1623715200000000000], [1623801600000000000], [1623888000000000000], [1623974400000000000], [1624060800000000000], [1624147200000000000], [1624233600000000000], [1624320000000000000], [1624406400000000000], [1624492800000000000], [1624579200000000000], [1624665600000000000], [1624752000000000000]], \"hoverlabel\": {\"namelength\": 0}, \"hovertemplate\": \"vaccine=Covaxin, Oxford/AstraZeneca<br>month=%{x}<br>people_vaccinated=%{y}<br>date=%{customdata[0]}\", \"legendgroup\": \"vaccine=Covaxin, Oxford/AstraZeneca\", \"marker\": {\"color\": \"#636efa\"}, \"name\": \"vaccine=Covaxin, Oxford/AstraZeneca\", \"offsetgroup\": \"vaccine=Covaxin, Oxford/AstraZeneca\", \"orientation\": \"v\", \"showlegend\": true, \"textposition\": \"auto\", \"type\": \"bar\", \"x\": [1, 1, 1, 1, 1, 1, 1, 1, 1, 1, 1, 1, 1, 1, 1, 1, 1, 2, 2, 2, 2, 2, 2, 2, 2, 2, 2, 2, 2, 2, 2, 2, 2, 2, 2, 2, 2, 2, 2, 2, 2, 2, 2, 2, 3, 3, 3, 3, 3, 3, 3, 3, 3, 3, 3, 3, 3, 3, 3, 3, 3, 3, 3, 3, 3, 3, 3, 3, 3, 3, 3, 3, 3, 3, 3, 4, 4, 4, 4, 4, 4, 4, 4, 4, 4, 4, 4, 4, 4, 4, 4, 4, 4, 4, 4, 4, 4, 4, 4, 4, 4, 4, 5, 5, 5, 5, 5, 5, 5, 5, 5, 5, 5, 5, 5, 5, 5, 5, 5, 5, 5, 5, 5, 5, 5, 5, 5, 5, 5, 5, 5, 5, 6, 6, 6, 6, 6, 6, 6, 6, 6, 6, 6, 6, 6, 6, 6, 6, 6, 6, 6, 6, 6, 6, 6, 6, 6, 6, 6], \"xaxis\": \"x\", \"y\": [0, 191181, 224301, 454049, 674835, 806484, 1043534, 1390592, 1582201, 1615504, 2023809, 2029480, 2355979, 2928053, 3500027, 3744334, 3758843, 3950156, 4138918, 4449552, 4959445, 5416849, 5775322, 5812362, 6259008, 6611561, 7017114, 7505010, 7967647, 8044786, 8418653, 8641002, 8844641, 9381591, 9693000, 9964383, 10124531, 10308552, 10585757, 10884879, 11206188, 11552857, 11788669, 11845075, 12256337, 12906771, 13739121, 14796835, 15996683, 17168303, 17227903, 18943283, 20004227, 21034481, 21435841, 23075504, 24307635, 24452385, 27079484, 28862037, 30600787, 32426230, 34842030, 37125187, 37574302, 40631153, 42731952, 44846538, 47001472, 49426618, 51441436, 51660234, 52211398, 53989035, 55783201, 59148798, 63081589, 65739470, 68678838, 72277309, 75937015, 78763027, 82456522, 85763852, 88885961, 91587400, 95043039, 97301914, 100179199, 102349255, 104408484, 106431076, 107371770, 109659181, 111673361, 113584269, 117795008, 119886252, 121263287, 122538179, 123811908, 125376952, 126328970, 126704151, 127696675, 128627919, 129730641, 131058890, 132294827, 133366482, 133854676, 135192013, 136557345, 137805245, 139087590, 139861462, 141132112, 141764335, 143090218, 144270200, 145333606, 146624652, 149219616, 150033188, 152301505, 153511379, 156189641, 158783606, 160605562, 164158704, 165598013, 167191085, 169585180, 171866824, 174296917, 179172948, 180972102, 183275704, 185501579, 188363894, 191222380, 194325996, 197415653, 199655293, 202572835, 205571046, 207830971, 210442950, 214553189, 217542993, 221493259, 224541283, 232744813, 238586187, 241720520, 247652194, 253359907, 260253182, 262916313], \"yaxis\": \"y\"}, {\"alignmentgroup\": \"True\", \"customdata\": [[1624838400000000000], [1624924800000000000], [1625011200000000000], [1625097600000000000], [1625184000000000000], [1625270400000000000], [1625356800000000000], [1625443200000000000], [1625529600000000000], [1625616000000000000], [1625702400000000000], [1625875200000000000], [1625961600000000000], [1626048000000000000], [1626134400000000000], [1626220800000000000], [1626307200000000000], [1626393600000000000], [1626480000000000000], [1626652800000000000], [1626739200000000000], [1626825600000000000], [1626912000000000000], [1626998400000000000], [1627084800000000000], [1627171200000000000], [1627257600000000000], [1627344000000000000], [1627430400000000000], [1627516800000000000], [1627603200000000000], [1627776000000000000]], \"hoverlabel\": {\"namelength\": 0}, \"hovertemplate\": \"vaccine=Covaxin, Oxford/AstraZeneca, Sputnik V<br>month=%{x}<br>people_vaccinated=%{y}<br>date=%{customdata[0]}\", \"legendgroup\": \"vaccine=Covaxin, Oxford/AstraZeneca, Sputnik V\", \"marker\": {\"color\": \"#EF553B\"}, \"name\": \"vaccine=Covaxin, Oxford/AstraZeneca, Sputnik V\", \"offsetgroup\": \"vaccine=Covaxin, Oxford/AstraZeneca, Sputnik V\", \"orientation\": \"v\", \"showlegend\": true, \"textposition\": \"auto\", \"type\": \"bar\", \"x\": [6, 6, 6, 7, 7, 7, 7, 7, 7, 7, 7, 7, 7, 7, 7, 7, 7, 7, 7, 7, 7, 7, 7, 7, 7, 7, 7, 7, 7, 7, 7, 8], \"xaxis\": \"x\", \"y\": [265545768, 270178001, 271410023, 275693081, 276339011, 282231365, 284455266, 286751758, 288782557, 291184757, 298678913, 303171498, 304018852, 306612781, 311387539, 313529502, 316116189, 318665226, 321893762, 326392783, 328716212, 330259212, 333945151, 336819816, 340387695, 341802707, 346516149, 349324061, 352545271, 356140739, 359820313, 367994586], \"yaxis\": \"y\"}],\n",
              "                        {\"barmode\": \"relative\", \"legend\": {\"tracegroupgap\": 0}, \"template\": {\"data\": {\"bar\": [{\"error_x\": {\"color\": \"#2a3f5f\"}, \"error_y\": {\"color\": \"#2a3f5f\"}, \"marker\": {\"line\": {\"color\": \"#E5ECF6\", \"width\": 0.5}}, \"type\": \"bar\"}], \"barpolar\": [{\"marker\": {\"line\": {\"color\": \"#E5ECF6\", \"width\": 0.5}}, \"type\": \"barpolar\"}], \"carpet\": [{\"aaxis\": {\"endlinecolor\": \"#2a3f5f\", \"gridcolor\": \"white\", \"linecolor\": \"white\", \"minorgridcolor\": \"white\", \"startlinecolor\": \"#2a3f5f\"}, \"baxis\": {\"endlinecolor\": \"#2a3f5f\", \"gridcolor\": \"white\", \"linecolor\": \"white\", \"minorgridcolor\": \"white\", \"startlinecolor\": \"#2a3f5f\"}, \"type\": \"carpet\"}], \"choropleth\": [{\"colorbar\": {\"outlinewidth\": 0, \"ticks\": \"\"}, \"type\": \"choropleth\"}], \"contour\": [{\"colorbar\": {\"outlinewidth\": 0, \"ticks\": \"\"}, \"colorscale\": [[0.0, \"#0d0887\"], [0.1111111111111111, \"#46039f\"], [0.2222222222222222, \"#7201a8\"], [0.3333333333333333, \"#9c179e\"], [0.4444444444444444, \"#bd3786\"], [0.5555555555555556, \"#d8576b\"], [0.6666666666666666, \"#ed7953\"], [0.7777777777777778, \"#fb9f3a\"], [0.8888888888888888, \"#fdca26\"], [1.0, \"#f0f921\"]], \"type\": \"contour\"}], \"contourcarpet\": [{\"colorbar\": {\"outlinewidth\": 0, \"ticks\": \"\"}, \"type\": \"contourcarpet\"}], \"heatmap\": [{\"colorbar\": {\"outlinewidth\": 0, \"ticks\": \"\"}, \"colorscale\": [[0.0, \"#0d0887\"], [0.1111111111111111, \"#46039f\"], [0.2222222222222222, \"#7201a8\"], [0.3333333333333333, \"#9c179e\"], [0.4444444444444444, \"#bd3786\"], [0.5555555555555556, \"#d8576b\"], [0.6666666666666666, \"#ed7953\"], [0.7777777777777778, \"#fb9f3a\"], [0.8888888888888888, \"#fdca26\"], [1.0, \"#f0f921\"]], \"type\": \"heatmap\"}], \"heatmapgl\": [{\"colorbar\": {\"outlinewidth\": 0, \"ticks\": \"\"}, \"colorscale\": [[0.0, \"#0d0887\"], [0.1111111111111111, \"#46039f\"], [0.2222222222222222, \"#7201a8\"], [0.3333333333333333, \"#9c179e\"], [0.4444444444444444, \"#bd3786\"], [0.5555555555555556, \"#d8576b\"], [0.6666666666666666, \"#ed7953\"], [0.7777777777777778, \"#fb9f3a\"], [0.8888888888888888, \"#fdca26\"], [1.0, \"#f0f921\"]], \"type\": \"heatmapgl\"}], \"histogram\": [{\"marker\": {\"colorbar\": {\"outlinewidth\": 0, \"ticks\": \"\"}}, \"type\": \"histogram\"}], \"histogram2d\": [{\"colorbar\": {\"outlinewidth\": 0, \"ticks\": \"\"}, \"colorscale\": [[0.0, \"#0d0887\"], [0.1111111111111111, \"#46039f\"], [0.2222222222222222, \"#7201a8\"], [0.3333333333333333, \"#9c179e\"], [0.4444444444444444, \"#bd3786\"], [0.5555555555555556, \"#d8576b\"], [0.6666666666666666, \"#ed7953\"], [0.7777777777777778, \"#fb9f3a\"], [0.8888888888888888, \"#fdca26\"], [1.0, \"#f0f921\"]], \"type\": \"histogram2d\"}], \"histogram2dcontour\": [{\"colorbar\": {\"outlinewidth\": 0, \"ticks\": \"\"}, \"colorscale\": [[0.0, \"#0d0887\"], [0.1111111111111111, \"#46039f\"], [0.2222222222222222, \"#7201a8\"], [0.3333333333333333, \"#9c179e\"], [0.4444444444444444, \"#bd3786\"], [0.5555555555555556, \"#d8576b\"], [0.6666666666666666, \"#ed7953\"], [0.7777777777777778, \"#fb9f3a\"], [0.8888888888888888, \"#fdca26\"], [1.0, \"#f0f921\"]], \"type\": \"histogram2dcontour\"}], \"mesh3d\": [{\"colorbar\": {\"outlinewidth\": 0, \"ticks\": \"\"}, \"type\": \"mesh3d\"}], \"parcoords\": [{\"line\": {\"colorbar\": {\"outlinewidth\": 0, \"ticks\": \"\"}}, \"type\": \"parcoords\"}], \"pie\": [{\"automargin\": true, \"type\": \"pie\"}], \"scatter\": [{\"marker\": {\"colorbar\": {\"outlinewidth\": 0, \"ticks\": \"\"}}, \"type\": \"scatter\"}], \"scatter3d\": [{\"line\": {\"colorbar\": {\"outlinewidth\": 0, \"ticks\": \"\"}}, \"marker\": {\"colorbar\": {\"outlinewidth\": 0, \"ticks\": \"\"}}, \"type\": \"scatter3d\"}], \"scattercarpet\": [{\"marker\": {\"colorbar\": {\"outlinewidth\": 0, \"ticks\": \"\"}}, \"type\": \"scattercarpet\"}], \"scattergeo\": [{\"marker\": {\"colorbar\": {\"outlinewidth\": 0, \"ticks\": \"\"}}, \"type\": \"scattergeo\"}], \"scattergl\": [{\"marker\": {\"colorbar\": {\"outlinewidth\": 0, \"ticks\": \"\"}}, \"type\": \"scattergl\"}], \"scattermapbox\": [{\"marker\": {\"colorbar\": {\"outlinewidth\": 0, \"ticks\": \"\"}}, \"type\": \"scattermapbox\"}], \"scatterpolar\": [{\"marker\": {\"colorbar\": {\"outlinewidth\": 0, \"ticks\": \"\"}}, \"type\": \"scatterpolar\"}], \"scatterpolargl\": [{\"marker\": {\"colorbar\": {\"outlinewidth\": 0, \"ticks\": \"\"}}, \"type\": \"scatterpolargl\"}], \"scatterternary\": [{\"marker\": {\"colorbar\": {\"outlinewidth\": 0, \"ticks\": \"\"}}, \"type\": \"scatterternary\"}], \"surface\": [{\"colorbar\": {\"outlinewidth\": 0, \"ticks\": \"\"}, \"colorscale\": [[0.0, \"#0d0887\"], [0.1111111111111111, \"#46039f\"], [0.2222222222222222, \"#7201a8\"], [0.3333333333333333, \"#9c179e\"], [0.4444444444444444, \"#bd3786\"], [0.5555555555555556, \"#d8576b\"], [0.6666666666666666, \"#ed7953\"], [0.7777777777777778, \"#fb9f3a\"], [0.8888888888888888, \"#fdca26\"], [1.0, \"#f0f921\"]], \"type\": \"surface\"}], \"table\": [{\"cells\": {\"fill\": {\"color\": \"#EBF0F8\"}, \"line\": {\"color\": \"white\"}}, \"header\": {\"fill\": {\"color\": \"#C8D4E3\"}, \"line\": {\"color\": \"white\"}}, \"type\": \"table\"}]}, \"layout\": {\"annotationdefaults\": {\"arrowcolor\": \"#2a3f5f\", \"arrowhead\": 0, \"arrowwidth\": 1}, \"coloraxis\": {\"colorbar\": {\"outlinewidth\": 0, \"ticks\": \"\"}}, \"colorscale\": {\"diverging\": [[0, \"#8e0152\"], [0.1, \"#c51b7d\"], [0.2, \"#de77ae\"], [0.3, \"#f1b6da\"], [0.4, \"#fde0ef\"], [0.5, \"#f7f7f7\"], [0.6, \"#e6f5d0\"], [0.7, \"#b8e186\"], [0.8, \"#7fbc41\"], [0.9, \"#4d9221\"], [1, \"#276419\"]], \"sequential\": [[0.0, \"#0d0887\"], [0.1111111111111111, \"#46039f\"], [0.2222222222222222, \"#7201a8\"], [0.3333333333333333, \"#9c179e\"], [0.4444444444444444, \"#bd3786\"], [0.5555555555555556, \"#d8576b\"], [0.6666666666666666, \"#ed7953\"], [0.7777777777777778, \"#fb9f3a\"], [0.8888888888888888, \"#fdca26\"], [1.0, \"#f0f921\"]], \"sequentialminus\": [[0.0, \"#0d0887\"], [0.1111111111111111, \"#46039f\"], [0.2222222222222222, \"#7201a8\"], [0.3333333333333333, \"#9c179e\"], [0.4444444444444444, \"#bd3786\"], [0.5555555555555556, \"#d8576b\"], [0.6666666666666666, \"#ed7953\"], [0.7777777777777778, \"#fb9f3a\"], [0.8888888888888888, \"#fdca26\"], [1.0, \"#f0f921\"]]}, \"colorway\": [\"#636efa\", \"#EF553B\", \"#00cc96\", \"#ab63fa\", \"#FFA15A\", \"#19d3f3\", \"#FF6692\", \"#B6E880\", \"#FF97FF\", \"#FECB52\"], \"font\": {\"color\": \"#2a3f5f\"}, \"geo\": {\"bgcolor\": \"white\", \"lakecolor\": \"white\", \"landcolor\": \"#E5ECF6\", \"showlakes\": true, \"showland\": true, \"subunitcolor\": \"white\"}, \"hoverlabel\": {\"align\": \"left\"}, \"hovermode\": \"closest\", \"mapbox\": {\"style\": \"light\"}, \"paper_bgcolor\": \"white\", \"plot_bgcolor\": \"#E5ECF6\", \"polar\": {\"angularaxis\": {\"gridcolor\": \"white\", \"linecolor\": \"white\", \"ticks\": \"\"}, \"bgcolor\": \"#E5ECF6\", \"radialaxis\": {\"gridcolor\": \"white\", \"linecolor\": \"white\", \"ticks\": \"\"}}, \"scene\": {\"xaxis\": {\"backgroundcolor\": \"#E5ECF6\", \"gridcolor\": \"white\", \"gridwidth\": 2, \"linecolor\": \"white\", \"showbackground\": true, \"ticks\": \"\", \"zerolinecolor\": \"white\"}, \"yaxis\": {\"backgroundcolor\": \"#E5ECF6\", \"gridcolor\": \"white\", \"gridwidth\": 2, \"linecolor\": \"white\", \"showbackground\": true, \"ticks\": \"\", \"zerolinecolor\": \"white\"}, \"zaxis\": {\"backgroundcolor\": \"#E5ECF6\", \"gridcolor\": \"white\", \"gridwidth\": 2, \"linecolor\": \"white\", \"showbackground\": true, \"ticks\": \"\", \"zerolinecolor\": \"white\"}}, \"shapedefaults\": {\"line\": {\"color\": \"#2a3f5f\"}}, \"ternary\": {\"aaxis\": {\"gridcolor\": \"white\", \"linecolor\": \"white\", \"ticks\": \"\"}, \"baxis\": {\"gridcolor\": \"white\", \"linecolor\": \"white\", \"ticks\": \"\"}, \"bgcolor\": \"#E5ECF6\", \"caxis\": {\"gridcolor\": \"white\", \"linecolor\": \"white\", \"ticks\": \"\"}}, \"title\": {\"x\": 0.05}, \"xaxis\": {\"automargin\": true, \"gridcolor\": \"white\", \"linecolor\": \"white\", \"ticks\": \"\", \"title\": {\"standoff\": 15}, \"zerolinecolor\": \"white\", \"zerolinewidth\": 2}, \"yaxis\": {\"automargin\": true, \"gridcolor\": \"white\", \"linecolor\": \"white\", \"ticks\": \"\", \"title\": {\"standoff\": 15}, \"zerolinecolor\": \"white\", \"zerolinewidth\": 2}}}, \"title\": {\"text\": \"Total People Vaccinated Once from 2021-01-15\"}, \"xaxis\": {\"anchor\": \"y\", \"domain\": [0.0, 1.0], \"title\": {\"text\": \"month\"}}, \"yaxis\": {\"anchor\": \"x\", \"domain\": [0.0, 1.0], \"title\": {\"text\": \"people_vaccinated\"}}},\n",
              "                        {\"responsive\": true}\n",
              "                    ).then(function(){\n",
              "                            \n",
              "var gd = document.getElementById('9f12cae2-a32b-418a-8cc5-05f104868039');\n",
              "var x = new MutationObserver(function (mutations, observer) {{\n",
              "        var display = window.getComputedStyle(gd).display;\n",
              "        if (!display || display === 'none') {{\n",
              "            console.log([gd, 'removed!']);\n",
              "            Plotly.purge(gd);\n",
              "            observer.disconnect();\n",
              "        }}\n",
              "}});\n",
              "\n",
              "// Listen for the removal of the full notebook cells\n",
              "var notebookContainer = gd.closest('#notebook-container');\n",
              "if (notebookContainer) {{\n",
              "    x.observe(notebookContainer, {childList: true});\n",
              "}}\n",
              "\n",
              "// Listen for the clearing of the current output cell\n",
              "var outputEl = gd.closest('.output');\n",
              "if (outputEl) {{\n",
              "    x.observe(outputEl, {childList: true});\n",
              "}}\n",
              "\n",
              "                        })\n",
              "                };\n",
              "                \n",
              "            </script>\n",
              "        </div>\n",
              "</body>\n",
              "</html>"
            ]
          },
          "metadata": {
            "tags": []
          }
        }
      ]
    },
    {
      "cell_type": "code",
      "metadata": {
        "colab": {
          "base_uri": "https://localhost:8080/",
          "height": 542
        },
        "id": "VHYR1dJQYSTF",
        "outputId": "f608d64c-a9c7-4eb1-e144-84473fce2f38"
      },
      "source": [
        "fig = px.bar(vaccines_india_df, \n",
        "             x=vaccines_india_df.month, \n",
        "             y=vaccines_india_df.people_fully_vaccinated, \n",
        "             title=\"Total People Fully Vaccinated from 2021-01-15\", \n",
        "             color=\"vaccine\", \n",
        "             hover_data=['date'])\n",
        "# labels=dict(x='Monthly - 2021', y='Pople Fully Vaccinated', color='Vaccines Legend')\n",
        "fig.show()\n"
      ],
      "execution_count": 19,
      "outputs": [
        {
          "output_type": "display_data",
          "data": {
            "text/html": [
              "<html>\n",
              "<head><meta charset=\"utf-8\" /></head>\n",
              "<body>\n",
              "    <div>\n",
              "            <script src=\"https://cdnjs.cloudflare.com/ajax/libs/mathjax/2.7.5/MathJax.js?config=TeX-AMS-MML_SVG\"></script><script type=\"text/javascript\">if (window.MathJax) {MathJax.Hub.Config({SVG: {font: \"STIX-Web\"}});}</script>\n",
              "                <script type=\"text/javascript\">window.PlotlyConfig = {MathJaxConfig: 'local'};</script>\n",
              "        <script src=\"https://cdn.plot.ly/plotly-latest.min.js\"></script>    \n",
              "            <div id=\"0984206e-c97f-430e-8c89-382898a99e0c\" class=\"plotly-graph-div\" style=\"height:525px; width:100%;\"></div>\n",
              "            <script type=\"text/javascript\">\n",
              "                \n",
              "                    window.PLOTLYENV=window.PLOTLYENV || {};\n",
              "                    \n",
              "                if (document.getElementById(\"0984206e-c97f-430e-8c89-382898a99e0c\")) {\n",
              "                    Plotly.newPlot(\n",
              "                        '0984206e-c97f-430e-8c89-382898a99e0c',\n",
              "                        [{\"alignmentgroup\": \"True\", \"customdata\": [[1610668800000000000], [1610755200000000000], [1610841600000000000], [1610928000000000000], [1611014400000000000], [1611100800000000000], [1611187200000000000], [1611273600000000000], [1611360000000000000], [1611446400000000000], [1611532800000000000], [1611619200000000000], [1611705600000000000], [1611792000000000000], [1611878400000000000], [1611964800000000000], [1612051200000000000], [1612137600000000000], [1612224000000000000], [1612310400000000000], [1612396800000000000], [1612483200000000000], [1612569600000000000], [1612656000000000000], [1612742400000000000], [1612828800000000000], [1612915200000000000], [1613001600000000000], [1613088000000000000], [1613174400000000000], [1613347200000000000], [1613433600000000000], [1613520000000000000], [1613606400000000000], [1613692800000000000], [1613779200000000000], [1613865600000000000], [1613952000000000000], [1614038400000000000], [1614124800000000000], [1614211200000000000], [1614297600000000000], [1614384000000000000], [1614470400000000000], [1614556800000000000], [1614643200000000000], [1614729600000000000], [1614816000000000000], [1614902400000000000], [1614988800000000000], [1615075200000000000], [1615161600000000000], [1615248000000000000], [1615334400000000000], [1615420800000000000], [1615507200000000000], [1615593600000000000], [1615680000000000000], [1615766400000000000], [1615852800000000000], [1615939200000000000], [1616025600000000000], [1616112000000000000], [1616198400000000000], [1616284800000000000], [1616371200000000000], [1616457600000000000], [1616544000000000000], [1616630400000000000], [1616716800000000000], [1616803200000000000], [1616889600000000000], [1616976000000000000], [1617062400000000000], [1617148800000000000], [1617235200000000000], [1617321600000000000], [1617408000000000000], [1617494400000000000], [1617580800000000000], [1617667200000000000], [1617753600000000000], [1617840000000000000], [1617926400000000000], [1618012800000000000], [1618099200000000000], [1618185600000000000], [1618272000000000000], [1618358400000000000], [1618444800000000000], [1618531200000000000], [1618617600000000000], [1618704000000000000], [1618790400000000000], [1618963200000000000], [1619049600000000000], [1619308800000000000], [1619395200000000000], [1619481600000000000], [1619568000000000000], [1619654400000000000], [1619740800000000000], [1619827200000000000], [1619913600000000000], [1620000000000000000], [1620086400000000000], [1620172800000000000], [1620259200000000000], [1620345600000000000], [1620432000000000000], [1620518400000000000], [1620604800000000000], [1620691200000000000], [1620777600000000000], [1620864000000000000], [1620950400000000000], [1621036800000000000], [1621123200000000000], [1621209600000000000], [1621296000000000000], [1621382400000000000], [1621468800000000000], [1621641600000000000], [1621728000000000000], [1621814400000000000], [1621900800000000000], [1621987200000000000], [1622073600000000000], [1622160000000000000], [1622246400000000000], [1622332800000000000], [1622419200000000000], [1622505600000000000], [1622592000000000000], [1622678400000000000], [1622764800000000000], [1622851200000000000], [1622937600000000000], [1623024000000000000], [1623110400000000000], [1623196800000000000], [1623283200000000000], [1623369600000000000], [1623456000000000000], [1623542400000000000], [1623628800000000000], [1623715200000000000], [1623801600000000000], [1623888000000000000], [1623974400000000000], [1624060800000000000], [1624147200000000000], [1624233600000000000], [1624320000000000000], [1624406400000000000], [1624492800000000000], [1624579200000000000], [1624665600000000000], [1624752000000000000]], \"hoverlabel\": {\"namelength\": 0}, \"hovertemplate\": \"vaccine=Covaxin, Oxford/AstraZeneca<br>month=%{x}<br>people_fully_vaccinated=%{y}<br>date=%{customdata[0]}\", \"legendgroup\": \"vaccine=Covaxin, Oxford/AstraZeneca\", \"marker\": {\"color\": \"#636efa\"}, \"name\": \"vaccine=Covaxin, Oxford/AstraZeneca\", \"offsetgroup\": \"vaccine=Covaxin, Oxford/AstraZeneca\", \"orientation\": \"v\", \"showlegend\": true, \"textposition\": \"auto\", \"type\": \"bar\", \"x\": [1, 1, 1, 1, 1, 1, 1, 1, 1, 1, 1, 1, 1, 1, 1, 1, 1, 2, 2, 2, 2, 2, 2, 2, 2, 2, 2, 2, 2, 2, 2, 2, 2, 2, 2, 2, 2, 2, 2, 2, 2, 2, 2, 2, 3, 3, 3, 3, 3, 3, 3, 3, 3, 3, 3, 3, 3, 3, 3, 3, 3, 3, 3, 3, 3, 3, 3, 3, 3, 3, 3, 3, 3, 3, 3, 4, 4, 4, 4, 4, 4, 4, 4, 4, 4, 4, 4, 4, 4, 4, 4, 4, 4, 4, 4, 4, 4, 4, 4, 4, 4, 4, 5, 5, 5, 5, 5, 5, 5, 5, 5, 5, 5, 5, 5, 5, 5, 5, 5, 5, 5, 5, 5, 5, 5, 5, 5, 5, 5, 5, 5, 5, 6, 6, 6, 6, 6, 6, 6, 6, 6, 6, 6, 6, 6, 6, 6, 6, 6, 6, 6, 6, 6, 6, 6, 6, 6, 6, 6], \"xaxis\": \"x\", \"y\": [0, 0, 0, 0, 0, 0, 0, 0, 0, 0, 0, 0, 0, 0, 0, 0, 0, 0, 0, 0, 0, 0, 0, 0, 0, 0, 0, 0, 0, 7668, 98118, 216339, 342116, 464932, 756942, 873940, 960642, 1115542, 1321635, 1481754, 1860859, 2204083, 2453878, 2456191, 2597799, 2713978, 2876927, 3208668, 3501021, 3754041, 3761107, 4065450, 4363679, 4650530, 4729079, 5142953, 5430774, 5455653, 5867948, 6202499, 6542468, 6913587, 7221362, 7478654, 7491696, 7863441, 8109334, 8299171, 8502968, 8683155, 8828346, 8870201, 8901956, 9065318, 9334695, 9640340, 9972706, 10240181, 10426325, 10833617, 11140459, 11435646, 11877740, 12311308, 12709186, 12941165, 13490046, 13877664, 14314039, 14874254, 15529157, 16191514, 16480796, 17469932, 17972744, 19170339, 21390165, 22638695, 23615946, 24515213, 25456864, 26621155, 27297355, 27507360, 28385461, 29122833, 30200597, 31544713, 32895173, 34127375, 34450192, 35906905, 37305298, 38240332, 39274256, 39784951, 40412424, 40486671, 40726986, 40921402, 41076994, 41262233, 41622881, 41686052, 41864206, 41995400, 42235974, 42419560, 42561240, 42930249, 43067110, 43258810, 43550558, 43811342, 44047467, 44434820, 44599042, 44765341, 44989073, 45317035, 45634125, 45955907, 46287589, 46532774, 46857581, 47189318, 47474395, 47882950, 48417061, 48812947, 49415053, 49745316, 50569129, 51269269, 51649818, 52401833, 53301621, 54588202, 55114099], \"yaxis\": \"y\"}, {\"alignmentgroup\": \"True\", \"customdata\": [[1624838400000000000], [1624924800000000000], [1625011200000000000], [1625097600000000000], [1625184000000000000], [1625270400000000000], [1625356800000000000], [1625443200000000000], [1625529600000000000], [1625616000000000000], [1625702400000000000], [1625875200000000000], [1625961600000000000], [1626048000000000000], [1626134400000000000], [1626220800000000000], [1626307200000000000], [1626393600000000000], [1626480000000000000], [1626652800000000000], [1626739200000000000], [1626825600000000000], [1626912000000000000], [1626998400000000000], [1627084800000000000], [1627171200000000000], [1627257600000000000], [1627344000000000000], [1627430400000000000], [1627516800000000000], [1627603200000000000], [1627776000000000000]], \"hoverlabel\": {\"namelength\": 0}, \"hovertemplate\": \"vaccine=Covaxin, Oxford/AstraZeneca, Sputnik V<br>month=%{x}<br>people_fully_vaccinated=%{y}<br>date=%{customdata[0]}\", \"legendgroup\": \"vaccine=Covaxin, Oxford/AstraZeneca, Sputnik V\", \"marker\": {\"color\": \"#EF553B\"}, \"name\": \"vaccine=Covaxin, Oxford/AstraZeneca, Sputnik V\", \"offsetgroup\": \"vaccine=Covaxin, Oxford/AstraZeneca, Sputnik V\", \"orientation\": \"v\", \"showlegend\": true, \"textposition\": \"auto\", \"type\": \"bar\", \"x\": [6, 6, 6, 7, 7, 7, 7, 7, 7, 7, 7, 7, 7, 7, 7, 7, 7, 7, 7, 7, 7, 7, 7, 7, 7, 7, 7, 7, 7, 7, 7, 8], \"xaxis\": \"x\", \"y\": [55877810, 57245912, 57748116, 59048568, 59332783, 62069225, 62923284, 64477739, 65525089, 66886006, 70312309, 72861088, 73333649, 74854865, 76310396, 77810989, 79227578, 81030653, 83037953, 85453618, 86756243, 87591939, 89471879, 91062445, 92763169, 93393294, 95396246, 96832598, 98160986, 99893015, 101698166, 104229053], \"yaxis\": \"y\"}],\n",
              "                        {\"barmode\": \"relative\", \"legend\": {\"tracegroupgap\": 0}, \"template\": {\"data\": {\"bar\": [{\"error_x\": {\"color\": \"#2a3f5f\"}, \"error_y\": {\"color\": \"#2a3f5f\"}, \"marker\": {\"line\": {\"color\": \"#E5ECF6\", \"width\": 0.5}}, \"type\": \"bar\"}], \"barpolar\": [{\"marker\": {\"line\": {\"color\": \"#E5ECF6\", \"width\": 0.5}}, \"type\": \"barpolar\"}], \"carpet\": [{\"aaxis\": {\"endlinecolor\": \"#2a3f5f\", \"gridcolor\": \"white\", \"linecolor\": \"white\", \"minorgridcolor\": \"white\", \"startlinecolor\": \"#2a3f5f\"}, \"baxis\": {\"endlinecolor\": \"#2a3f5f\", \"gridcolor\": \"white\", \"linecolor\": \"white\", \"minorgridcolor\": \"white\", \"startlinecolor\": \"#2a3f5f\"}, \"type\": \"carpet\"}], \"choropleth\": [{\"colorbar\": {\"outlinewidth\": 0, \"ticks\": \"\"}, \"type\": \"choropleth\"}], \"contour\": [{\"colorbar\": {\"outlinewidth\": 0, \"ticks\": \"\"}, \"colorscale\": [[0.0, \"#0d0887\"], [0.1111111111111111, \"#46039f\"], [0.2222222222222222, \"#7201a8\"], [0.3333333333333333, \"#9c179e\"], [0.4444444444444444, \"#bd3786\"], [0.5555555555555556, \"#d8576b\"], [0.6666666666666666, \"#ed7953\"], [0.7777777777777778, \"#fb9f3a\"], [0.8888888888888888, \"#fdca26\"], [1.0, \"#f0f921\"]], \"type\": \"contour\"}], \"contourcarpet\": [{\"colorbar\": {\"outlinewidth\": 0, \"ticks\": \"\"}, \"type\": \"contourcarpet\"}], \"heatmap\": [{\"colorbar\": {\"outlinewidth\": 0, \"ticks\": \"\"}, \"colorscale\": [[0.0, \"#0d0887\"], [0.1111111111111111, \"#46039f\"], [0.2222222222222222, \"#7201a8\"], [0.3333333333333333, \"#9c179e\"], [0.4444444444444444, \"#bd3786\"], [0.5555555555555556, \"#d8576b\"], [0.6666666666666666, \"#ed7953\"], [0.7777777777777778, \"#fb9f3a\"], [0.8888888888888888, \"#fdca26\"], [1.0, \"#f0f921\"]], \"type\": \"heatmap\"}], \"heatmapgl\": [{\"colorbar\": {\"outlinewidth\": 0, \"ticks\": \"\"}, \"colorscale\": [[0.0, \"#0d0887\"], [0.1111111111111111, \"#46039f\"], [0.2222222222222222, \"#7201a8\"], [0.3333333333333333, \"#9c179e\"], [0.4444444444444444, \"#bd3786\"], [0.5555555555555556, \"#d8576b\"], [0.6666666666666666, \"#ed7953\"], [0.7777777777777778, \"#fb9f3a\"], [0.8888888888888888, \"#fdca26\"], [1.0, \"#f0f921\"]], \"type\": \"heatmapgl\"}], \"histogram\": [{\"marker\": {\"colorbar\": {\"outlinewidth\": 0, \"ticks\": \"\"}}, \"type\": \"histogram\"}], \"histogram2d\": [{\"colorbar\": {\"outlinewidth\": 0, \"ticks\": \"\"}, \"colorscale\": [[0.0, \"#0d0887\"], [0.1111111111111111, \"#46039f\"], [0.2222222222222222, \"#7201a8\"], [0.3333333333333333, \"#9c179e\"], [0.4444444444444444, \"#bd3786\"], [0.5555555555555556, \"#d8576b\"], [0.6666666666666666, \"#ed7953\"], [0.7777777777777778, \"#fb9f3a\"], [0.8888888888888888, \"#fdca26\"], [1.0, \"#f0f921\"]], \"type\": \"histogram2d\"}], \"histogram2dcontour\": [{\"colorbar\": {\"outlinewidth\": 0, \"ticks\": \"\"}, \"colorscale\": [[0.0, \"#0d0887\"], [0.1111111111111111, \"#46039f\"], [0.2222222222222222, \"#7201a8\"], [0.3333333333333333, \"#9c179e\"], [0.4444444444444444, \"#bd3786\"], [0.5555555555555556, \"#d8576b\"], [0.6666666666666666, \"#ed7953\"], [0.7777777777777778, \"#fb9f3a\"], [0.8888888888888888, \"#fdca26\"], [1.0, \"#f0f921\"]], \"type\": \"histogram2dcontour\"}], \"mesh3d\": [{\"colorbar\": {\"outlinewidth\": 0, \"ticks\": \"\"}, \"type\": \"mesh3d\"}], \"parcoords\": [{\"line\": {\"colorbar\": {\"outlinewidth\": 0, \"ticks\": \"\"}}, \"type\": \"parcoords\"}], \"pie\": [{\"automargin\": true, \"type\": \"pie\"}], \"scatter\": [{\"marker\": {\"colorbar\": {\"outlinewidth\": 0, \"ticks\": \"\"}}, \"type\": \"scatter\"}], \"scatter3d\": [{\"line\": {\"colorbar\": {\"outlinewidth\": 0, \"ticks\": \"\"}}, \"marker\": {\"colorbar\": {\"outlinewidth\": 0, \"ticks\": \"\"}}, \"type\": \"scatter3d\"}], \"scattercarpet\": [{\"marker\": {\"colorbar\": {\"outlinewidth\": 0, \"ticks\": \"\"}}, \"type\": \"scattercarpet\"}], \"scattergeo\": [{\"marker\": {\"colorbar\": {\"outlinewidth\": 0, \"ticks\": \"\"}}, \"type\": \"scattergeo\"}], \"scattergl\": [{\"marker\": {\"colorbar\": {\"outlinewidth\": 0, \"ticks\": \"\"}}, \"type\": \"scattergl\"}], \"scattermapbox\": [{\"marker\": {\"colorbar\": {\"outlinewidth\": 0, \"ticks\": \"\"}}, \"type\": \"scattermapbox\"}], \"scatterpolar\": [{\"marker\": {\"colorbar\": {\"outlinewidth\": 0, \"ticks\": \"\"}}, \"type\": \"scatterpolar\"}], \"scatterpolargl\": [{\"marker\": {\"colorbar\": {\"outlinewidth\": 0, \"ticks\": \"\"}}, \"type\": \"scatterpolargl\"}], \"scatterternary\": [{\"marker\": {\"colorbar\": {\"outlinewidth\": 0, \"ticks\": \"\"}}, \"type\": \"scatterternary\"}], \"surface\": [{\"colorbar\": {\"outlinewidth\": 0, \"ticks\": \"\"}, \"colorscale\": [[0.0, \"#0d0887\"], [0.1111111111111111, \"#46039f\"], [0.2222222222222222, \"#7201a8\"], [0.3333333333333333, \"#9c179e\"], [0.4444444444444444, \"#bd3786\"], [0.5555555555555556, \"#d8576b\"], [0.6666666666666666, \"#ed7953\"], [0.7777777777777778, \"#fb9f3a\"], [0.8888888888888888, \"#fdca26\"], [1.0, \"#f0f921\"]], \"type\": \"surface\"}], \"table\": [{\"cells\": {\"fill\": {\"color\": \"#EBF0F8\"}, \"line\": {\"color\": \"white\"}}, \"header\": {\"fill\": {\"color\": \"#C8D4E3\"}, \"line\": {\"color\": \"white\"}}, \"type\": \"table\"}]}, \"layout\": {\"annotationdefaults\": {\"arrowcolor\": \"#2a3f5f\", \"arrowhead\": 0, \"arrowwidth\": 1}, \"coloraxis\": {\"colorbar\": {\"outlinewidth\": 0, \"ticks\": \"\"}}, \"colorscale\": {\"diverging\": [[0, \"#8e0152\"], [0.1, \"#c51b7d\"], [0.2, \"#de77ae\"], [0.3, \"#f1b6da\"], [0.4, \"#fde0ef\"], [0.5, \"#f7f7f7\"], [0.6, \"#e6f5d0\"], [0.7, \"#b8e186\"], [0.8, \"#7fbc41\"], [0.9, \"#4d9221\"], [1, \"#276419\"]], \"sequential\": [[0.0, \"#0d0887\"], [0.1111111111111111, \"#46039f\"], [0.2222222222222222, \"#7201a8\"], [0.3333333333333333, \"#9c179e\"], [0.4444444444444444, \"#bd3786\"], [0.5555555555555556, \"#d8576b\"], [0.6666666666666666, \"#ed7953\"], [0.7777777777777778, \"#fb9f3a\"], [0.8888888888888888, \"#fdca26\"], [1.0, \"#f0f921\"]], \"sequentialminus\": [[0.0, \"#0d0887\"], [0.1111111111111111, \"#46039f\"], [0.2222222222222222, \"#7201a8\"], [0.3333333333333333, \"#9c179e\"], [0.4444444444444444, \"#bd3786\"], [0.5555555555555556, \"#d8576b\"], [0.6666666666666666, \"#ed7953\"], [0.7777777777777778, \"#fb9f3a\"], [0.8888888888888888, \"#fdca26\"], [1.0, \"#f0f921\"]]}, \"colorway\": [\"#636efa\", \"#EF553B\", \"#00cc96\", \"#ab63fa\", \"#FFA15A\", \"#19d3f3\", \"#FF6692\", \"#B6E880\", \"#FF97FF\", \"#FECB52\"], \"font\": {\"color\": \"#2a3f5f\"}, \"geo\": {\"bgcolor\": \"white\", \"lakecolor\": \"white\", \"landcolor\": \"#E5ECF6\", \"showlakes\": true, \"showland\": true, \"subunitcolor\": \"white\"}, \"hoverlabel\": {\"align\": \"left\"}, \"hovermode\": \"closest\", \"mapbox\": {\"style\": \"light\"}, \"paper_bgcolor\": \"white\", \"plot_bgcolor\": \"#E5ECF6\", \"polar\": {\"angularaxis\": {\"gridcolor\": \"white\", \"linecolor\": \"white\", \"ticks\": \"\"}, \"bgcolor\": \"#E5ECF6\", \"radialaxis\": {\"gridcolor\": \"white\", \"linecolor\": \"white\", \"ticks\": \"\"}}, \"scene\": {\"xaxis\": {\"backgroundcolor\": \"#E5ECF6\", \"gridcolor\": \"white\", \"gridwidth\": 2, \"linecolor\": \"white\", \"showbackground\": true, \"ticks\": \"\", \"zerolinecolor\": \"white\"}, \"yaxis\": {\"backgroundcolor\": \"#E5ECF6\", \"gridcolor\": \"white\", \"gridwidth\": 2, \"linecolor\": \"white\", \"showbackground\": true, \"ticks\": \"\", \"zerolinecolor\": \"white\"}, \"zaxis\": {\"backgroundcolor\": \"#E5ECF6\", \"gridcolor\": \"white\", \"gridwidth\": 2, \"linecolor\": \"white\", \"showbackground\": true, \"ticks\": \"\", \"zerolinecolor\": \"white\"}}, \"shapedefaults\": {\"line\": {\"color\": \"#2a3f5f\"}}, \"ternary\": {\"aaxis\": {\"gridcolor\": \"white\", \"linecolor\": \"white\", \"ticks\": \"\"}, \"baxis\": {\"gridcolor\": \"white\", \"linecolor\": \"white\", \"ticks\": \"\"}, \"bgcolor\": \"#E5ECF6\", \"caxis\": {\"gridcolor\": \"white\", \"linecolor\": \"white\", \"ticks\": \"\"}}, \"title\": {\"x\": 0.05}, \"xaxis\": {\"automargin\": true, \"gridcolor\": \"white\", \"linecolor\": \"white\", \"ticks\": \"\", \"title\": {\"standoff\": 15}, \"zerolinecolor\": \"white\", \"zerolinewidth\": 2}, \"yaxis\": {\"automargin\": true, \"gridcolor\": \"white\", \"linecolor\": \"white\", \"ticks\": \"\", \"title\": {\"standoff\": 15}, \"zerolinecolor\": \"white\", \"zerolinewidth\": 2}}}, \"title\": {\"text\": \"Total People Fully Vaccinated from 2021-01-15\"}, \"xaxis\": {\"anchor\": \"y\", \"domain\": [0.0, 1.0], \"title\": {\"text\": \"month\"}}, \"yaxis\": {\"anchor\": \"x\", \"domain\": [0.0, 1.0], \"title\": {\"text\": \"people_fully_vaccinated\"}}},\n",
              "                        {\"responsive\": true}\n",
              "                    ).then(function(){\n",
              "                            \n",
              "var gd = document.getElementById('0984206e-c97f-430e-8c89-382898a99e0c');\n",
              "var x = new MutationObserver(function (mutations, observer) {{\n",
              "        var display = window.getComputedStyle(gd).display;\n",
              "        if (!display || display === 'none') {{\n",
              "            console.log([gd, 'removed!']);\n",
              "            Plotly.purge(gd);\n",
              "            observer.disconnect();\n",
              "        }}\n",
              "}});\n",
              "\n",
              "// Listen for the removal of the full notebook cells\n",
              "var notebookContainer = gd.closest('#notebook-container');\n",
              "if (notebookContainer) {{\n",
              "    x.observe(notebookContainer, {childList: true});\n",
              "}}\n",
              "\n",
              "// Listen for the clearing of the current output cell\n",
              "var outputEl = gd.closest('.output');\n",
              "if (outputEl) {{\n",
              "    x.observe(outputEl, {childList: true});\n",
              "}}\n",
              "\n",
              "                        })\n",
              "                };\n",
              "                \n",
              "            </script>\n",
              "        </div>\n",
              "</body>\n",
              "</html>"
            ]
          },
          "metadata": {
            "tags": []
          }
        }
      ]
    },
    {
      "cell_type": "code",
      "metadata": {
        "id": "9paZlSbaYYlg"
      },
      "source": [
        "import plotly.graph_objects as go"
      ],
      "execution_count": 20,
      "outputs": []
    },
    {
      "cell_type": "code",
      "metadata": {
        "colab": {
          "base_uri": "https://localhost:8080/",
          "height": 542
        },
        "id": "pmcgpr9EYc73",
        "outputId": "9c9d870a-ebcb-41b5-a28f-2dca4a92fb6f"
      },
      "source": [
        "fig = go.Figure(data=[\n",
        "    go.Bar(name='Total Vaccines Administered', \n",
        "           x=vaccines_india_df.month, \n",
        "           y=vaccines_india_df.total_vaccinations, \n",
        "           hovertext=vaccines_india_df.date), \n",
        "    go.Bar(name='People Once Vaccinated', \n",
        "           x=vaccines_india_df.month, \n",
        "           y=vaccines_india_df.people_vaccinated, \n",
        "           hovertext=vaccines_india_df.date), \n",
        "    go.Bar(name='People Fully Vaccinated(Two doses)', \n",
        "           x=vaccines_india_df.month, \n",
        "           y=vaccines_india_df.people_fully_vaccinated, \n",
        "           hovertext=vaccines_india_df.date)\n",
        "])\n",
        "\n",
        "fig.update_xaxes(title='Monthly From January 2021')\n",
        "fig.update_yaxes(title='Total Vaccines Administered, Once Vaccinated & Fully Vaccinated', \n",
        "                 title_font={'size': 12})\n",
        "fig.update_layout(barmode='stack', \n",
        "                  title='Total Vaccines Administered VS Once Vaccinated VS Fully Vaccinated')\n",
        "fig.show()"
      ],
      "execution_count": 21,
      "outputs": [
        {
          "output_type": "display_data",
          "data": {
            "text/html": [
              "<html>\n",
              "<head><meta charset=\"utf-8\" /></head>\n",
              "<body>\n",
              "    <div>\n",
              "            <script src=\"https://cdnjs.cloudflare.com/ajax/libs/mathjax/2.7.5/MathJax.js?config=TeX-AMS-MML_SVG\"></script><script type=\"text/javascript\">if (window.MathJax) {MathJax.Hub.Config({SVG: {font: \"STIX-Web\"}});}</script>\n",
              "                <script type=\"text/javascript\">window.PlotlyConfig = {MathJaxConfig: 'local'};</script>\n",
              "        <script src=\"https://cdn.plot.ly/plotly-latest.min.js\"></script>    \n",
              "            <div id=\"b3ff8134-af6b-43b5-972b-4de0fd2d29a8\" class=\"plotly-graph-div\" style=\"height:525px; width:100%;\"></div>\n",
              "            <script type=\"text/javascript\">\n",
              "                \n",
              "                    window.PLOTLYENV=window.PLOTLYENV || {};\n",
              "                    \n",
              "                if (document.getElementById(\"b3ff8134-af6b-43b5-972b-4de0fd2d29a8\")) {\n",
              "                    Plotly.newPlot(\n",
              "                        'b3ff8134-af6b-43b5-972b-4de0fd2d29a8',\n",
              "                        [{\"hovertext\": [\"2021-01-15T00:00:00\", \"2021-01-16T00:00:00\", \"2021-01-17T00:00:00\", \"2021-01-18T00:00:00\", \"2021-01-19T00:00:00\", \"2021-01-20T00:00:00\", \"2021-01-21T00:00:00\", \"2021-01-22T00:00:00\", \"2021-01-23T00:00:00\", \"2021-01-24T00:00:00\", \"2021-01-25T00:00:00\", \"2021-01-26T00:00:00\", \"2021-01-27T00:00:00\", \"2021-01-28T00:00:00\", \"2021-01-29T00:00:00\", \"2021-01-30T00:00:00\", \"2021-01-31T00:00:00\", \"2021-02-01T00:00:00\", \"2021-02-02T00:00:00\", \"2021-02-03T00:00:00\", \"2021-02-04T00:00:00\", \"2021-02-05T00:00:00\", \"2021-02-06T00:00:00\", \"2021-02-07T00:00:00\", \"2021-02-08T00:00:00\", \"2021-02-09T00:00:00\", \"2021-02-10T00:00:00\", \"2021-02-11T00:00:00\", \"2021-02-12T00:00:00\", \"2021-02-13T00:00:00\", \"2021-02-15T00:00:00\", \"2021-02-16T00:00:00\", \"2021-02-17T00:00:00\", \"2021-02-18T00:00:00\", \"2021-02-19T00:00:00\", \"2021-02-20T00:00:00\", \"2021-02-21T00:00:00\", \"2021-02-22T00:00:00\", \"2021-02-23T00:00:00\", \"2021-02-24T00:00:00\", \"2021-02-25T00:00:00\", \"2021-02-26T00:00:00\", \"2021-02-27T00:00:00\", \"2021-02-28T00:00:00\", \"2021-03-01T00:00:00\", \"2021-03-02T00:00:00\", \"2021-03-03T00:00:00\", \"2021-03-04T00:00:00\", \"2021-03-05T00:00:00\", \"2021-03-06T00:00:00\", \"2021-03-07T00:00:00\", \"2021-03-08T00:00:00\", \"2021-03-09T00:00:00\", \"2021-03-10T00:00:00\", \"2021-03-11T00:00:00\", \"2021-03-12T00:00:00\", \"2021-03-13T00:00:00\", \"2021-03-14T00:00:00\", \"2021-03-15T00:00:00\", \"2021-03-16T00:00:00\", \"2021-03-17T00:00:00\", \"2021-03-18T00:00:00\", \"2021-03-19T00:00:00\", \"2021-03-20T00:00:00\", \"2021-03-21T00:00:00\", \"2021-03-22T00:00:00\", \"2021-03-23T00:00:00\", \"2021-03-24T00:00:00\", \"2021-03-25T00:00:00\", \"2021-03-26T00:00:00\", \"2021-03-27T00:00:00\", \"2021-03-28T00:00:00\", \"2021-03-29T00:00:00\", \"2021-03-30T00:00:00\", \"2021-03-31T00:00:00\", \"2021-04-01T00:00:00\", \"2021-04-02T00:00:00\", \"2021-04-03T00:00:00\", \"2021-04-04T00:00:00\", \"2021-04-05T00:00:00\", \"2021-04-06T00:00:00\", \"2021-04-07T00:00:00\", \"2021-04-08T00:00:00\", \"2021-04-09T00:00:00\", \"2021-04-10T00:00:00\", \"2021-04-11T00:00:00\", \"2021-04-12T00:00:00\", \"2021-04-13T00:00:00\", \"2021-04-14T00:00:00\", \"2021-04-15T00:00:00\", \"2021-04-16T00:00:00\", \"2021-04-17T00:00:00\", \"2021-04-18T00:00:00\", \"2021-04-19T00:00:00\", \"2021-04-21T00:00:00\", \"2021-04-22T00:00:00\", \"2021-04-25T00:00:00\", \"2021-04-26T00:00:00\", \"2021-04-27T00:00:00\", \"2021-04-28T00:00:00\", \"2021-04-29T00:00:00\", \"2021-04-30T00:00:00\", \"2021-05-01T00:00:00\", \"2021-05-02T00:00:00\", \"2021-05-03T00:00:00\", \"2021-05-04T00:00:00\", \"2021-05-05T00:00:00\", \"2021-05-06T00:00:00\", \"2021-05-07T00:00:00\", \"2021-05-08T00:00:00\", \"2021-05-09T00:00:00\", \"2021-05-10T00:00:00\", \"2021-05-11T00:00:00\", \"2021-05-12T00:00:00\", \"2021-05-13T00:00:00\", \"2021-05-14T00:00:00\", \"2021-05-15T00:00:00\", \"2021-05-16T00:00:00\", \"2021-05-17T00:00:00\", \"2021-05-18T00:00:00\", \"2021-05-19T00:00:00\", \"2021-05-20T00:00:00\", \"2021-05-22T00:00:00\", \"2021-05-23T00:00:00\", \"2021-05-24T00:00:00\", \"2021-05-25T00:00:00\", \"2021-05-26T00:00:00\", \"2021-05-27T00:00:00\", \"2021-05-28T00:00:00\", \"2021-05-29T00:00:00\", \"2021-05-30T00:00:00\", \"2021-05-31T00:00:00\", \"2021-06-01T00:00:00\", \"2021-06-02T00:00:00\", \"2021-06-03T00:00:00\", \"2021-06-04T00:00:00\", \"2021-06-05T00:00:00\", \"2021-06-06T00:00:00\", \"2021-06-07T00:00:00\", \"2021-06-08T00:00:00\", \"2021-06-09T00:00:00\", \"2021-06-10T00:00:00\", \"2021-06-11T00:00:00\", \"2021-06-12T00:00:00\", \"2021-06-13T00:00:00\", \"2021-06-14T00:00:00\", \"2021-06-15T00:00:00\", \"2021-06-16T00:00:00\", \"2021-06-17T00:00:00\", \"2021-06-18T00:00:00\", \"2021-06-19T00:00:00\", \"2021-06-20T00:00:00\", \"2021-06-21T00:00:00\", \"2021-06-22T00:00:00\", \"2021-06-23T00:00:00\", \"2021-06-24T00:00:00\", \"2021-06-25T00:00:00\", \"2021-06-26T00:00:00\", \"2021-06-27T00:00:00\", \"2021-06-28T00:00:00\", \"2021-06-29T00:00:00\", \"2021-06-30T00:00:00\", \"2021-07-01T00:00:00\", \"2021-07-02T00:00:00\", \"2021-07-03T00:00:00\", \"2021-07-04T00:00:00\", \"2021-07-05T00:00:00\", \"2021-07-06T00:00:00\", \"2021-07-07T00:00:00\", \"2021-07-08T00:00:00\", \"2021-07-10T00:00:00\", \"2021-07-11T00:00:00\", \"2021-07-12T00:00:00\", \"2021-07-13T00:00:00\", \"2021-07-14T00:00:00\", \"2021-07-15T00:00:00\", \"2021-07-16T00:00:00\", \"2021-07-17T00:00:00\", \"2021-07-19T00:00:00\", \"2021-07-20T00:00:00\", \"2021-07-21T00:00:00\", \"2021-07-22T00:00:00\", \"2021-07-23T00:00:00\", \"2021-07-24T00:00:00\", \"2021-07-25T00:00:00\", \"2021-07-26T00:00:00\", \"2021-07-27T00:00:00\", \"2021-07-28T00:00:00\", \"2021-07-29T00:00:00\", \"2021-07-30T00:00:00\", \"2021-08-01T00:00:00\"], \"name\": \"Total Vaccines Administered\", \"type\": \"bar\", \"x\": [1, 1, 1, 1, 1, 1, 1, 1, 1, 1, 1, 1, 1, 1, 1, 1, 1, 2, 2, 2, 2, 2, 2, 2, 2, 2, 2, 2, 2, 2, 2, 2, 2, 2, 2, 2, 2, 2, 2, 2, 2, 2, 2, 2, 3, 3, 3, 3, 3, 3, 3, 3, 3, 3, 3, 3, 3, 3, 3, 3, 3, 3, 3, 3, 3, 3, 3, 3, 3, 3, 3, 3, 3, 3, 3, 4, 4, 4, 4, 4, 4, 4, 4, 4, 4, 4, 4, 4, 4, 4, 4, 4, 4, 4, 4, 4, 4, 4, 4, 4, 4, 4, 5, 5, 5, 5, 5, 5, 5, 5, 5, 5, 5, 5, 5, 5, 5, 5, 5, 5, 5, 5, 5, 5, 5, 5, 5, 5, 5, 5, 5, 5, 6, 6, 6, 6, 6, 6, 6, 6, 6, 6, 6, 6, 6, 6, 6, 6, 6, 6, 6, 6, 6, 6, 6, 6, 6, 6, 6, 6, 6, 6, 7, 7, 7, 7, 7, 7, 7, 7, 7, 7, 7, 7, 7, 7, 7, 7, 7, 7, 7, 7, 7, 7, 7, 7, 7, 7, 7, 7, 8], \"y\": [0, 191181, 224301, 454049, 674835, 806484, 1043534, 1390592, 1582201, 1615504, 2023809, 2029480, 2355979, 2928053, 3500027, 3744334, 3758843, 3950156, 4138918, 4449552, 4959445, 5416849, 5775322, 5812362, 6259008, 6611561, 7017114, 7505010, 7967647, 8052454, 8516771, 8857341, 9186757, 9846523, 10449942, 10838323, 11085173, 11424094, 11907392, 12366633, 13067047, 13756940, 14242547, 14301266, 14854136, 15620749, 16616048, 18005503, 19497704, 20922344, 20989010, 23008733, 24367906, 25685011, 26164920, 28218457, 29738409, 29908038, 32947432, 35064536, 37143255, 39339817, 42063392, 44603841, 45065998, 48494594, 50841286, 53145709, 55504440, 58109773, 60269782, 60530435, 61113354, 63054353, 65117896, 68789138, 73054295, 75979651, 79105163, 83110926, 87077474, 90198673, 94334262, 98075160, 101595147, 104528565, 108533085, 111179578, 114493238, 117223509, 119937641, 122622590, 123852566, 127129113, 129646105, 132754608, 139185173, 142524947, 144879233, 147053392, 149268772, 151998107, 153626325, 154211511, 156082136, 157750752, 159931238, 162603603, 165190000, 167493857, 168304868, 171098918, 173862643, 176045577, 178361846, 179646413, 181544536, 182251006, 183817204, 185191602, 186410600, 187886885, 190842497, 191719240, 194165711, 195506779, 198425615, 201203166, 203166802, 207088953, 208665123, 210449895, 213135738, 215678166, 218344384, 223607768, 225571144, 228041045, 230490652, 233680929, 236856505, 240281903, 243703242, 246188067, 249430416, 252760364, 255305366, 258325900, 262970250, 266355940, 270908312, 274286599, 283313942, 289855456, 293370338, 300054027, 306661528, 314841384, 318030412, 321423578, 327423913, 329158139, 334741649, 335671794, 344300590, 347378550, 351229497, 354307646, 358070763, 368991222, 376032586, 377352501, 381467646, 387697935, 391340491, 395343767, 399695879, 404931715, 411846401, 415472455, 417851151, 423417030, 427882261, 433150864, 435196001, 441912395, 446156659, 450706257, 456033754, 461518479, 472223639]}, {\"hovertext\": [\"2021-01-15T00:00:00\", \"2021-01-16T00:00:00\", \"2021-01-17T00:00:00\", \"2021-01-18T00:00:00\", \"2021-01-19T00:00:00\", \"2021-01-20T00:00:00\", \"2021-01-21T00:00:00\", \"2021-01-22T00:00:00\", \"2021-01-23T00:00:00\", \"2021-01-24T00:00:00\", \"2021-01-25T00:00:00\", \"2021-01-26T00:00:00\", \"2021-01-27T00:00:00\", \"2021-01-28T00:00:00\", \"2021-01-29T00:00:00\", \"2021-01-30T00:00:00\", \"2021-01-31T00:00:00\", \"2021-02-01T00:00:00\", \"2021-02-02T00:00:00\", \"2021-02-03T00:00:00\", \"2021-02-04T00:00:00\", \"2021-02-05T00:00:00\", \"2021-02-06T00:00:00\", \"2021-02-07T00:00:00\", \"2021-02-08T00:00:00\", \"2021-02-09T00:00:00\", \"2021-02-10T00:00:00\", \"2021-02-11T00:00:00\", \"2021-02-12T00:00:00\", \"2021-02-13T00:00:00\", \"2021-02-15T00:00:00\", \"2021-02-16T00:00:00\", \"2021-02-17T00:00:00\", \"2021-02-18T00:00:00\", \"2021-02-19T00:00:00\", \"2021-02-20T00:00:00\", \"2021-02-21T00:00:00\", \"2021-02-22T00:00:00\", \"2021-02-23T00:00:00\", \"2021-02-24T00:00:00\", \"2021-02-25T00:00:00\", \"2021-02-26T00:00:00\", \"2021-02-27T00:00:00\", \"2021-02-28T00:00:00\", \"2021-03-01T00:00:00\", \"2021-03-02T00:00:00\", \"2021-03-03T00:00:00\", \"2021-03-04T00:00:00\", \"2021-03-05T00:00:00\", \"2021-03-06T00:00:00\", \"2021-03-07T00:00:00\", \"2021-03-08T00:00:00\", \"2021-03-09T00:00:00\", \"2021-03-10T00:00:00\", \"2021-03-11T00:00:00\", \"2021-03-12T00:00:00\", \"2021-03-13T00:00:00\", \"2021-03-14T00:00:00\", \"2021-03-15T00:00:00\", \"2021-03-16T00:00:00\", \"2021-03-17T00:00:00\", \"2021-03-18T00:00:00\", \"2021-03-19T00:00:00\", \"2021-03-20T00:00:00\", \"2021-03-21T00:00:00\", \"2021-03-22T00:00:00\", \"2021-03-23T00:00:00\", \"2021-03-24T00:00:00\", \"2021-03-25T00:00:00\", \"2021-03-26T00:00:00\", \"2021-03-27T00:00:00\", \"2021-03-28T00:00:00\", \"2021-03-29T00:00:00\", \"2021-03-30T00:00:00\", \"2021-03-31T00:00:00\", \"2021-04-01T00:00:00\", \"2021-04-02T00:00:00\", \"2021-04-03T00:00:00\", \"2021-04-04T00:00:00\", \"2021-04-05T00:00:00\", \"2021-04-06T00:00:00\", \"2021-04-07T00:00:00\", \"2021-04-08T00:00:00\", \"2021-04-09T00:00:00\", \"2021-04-10T00:00:00\", \"2021-04-11T00:00:00\", \"2021-04-12T00:00:00\", \"2021-04-13T00:00:00\", \"2021-04-14T00:00:00\", \"2021-04-15T00:00:00\", \"2021-04-16T00:00:00\", \"2021-04-17T00:00:00\", \"2021-04-18T00:00:00\", \"2021-04-19T00:00:00\", \"2021-04-21T00:00:00\", \"2021-04-22T00:00:00\", \"2021-04-25T00:00:00\", \"2021-04-26T00:00:00\", \"2021-04-27T00:00:00\", \"2021-04-28T00:00:00\", \"2021-04-29T00:00:00\", \"2021-04-30T00:00:00\", \"2021-05-01T00:00:00\", \"2021-05-02T00:00:00\", \"2021-05-03T00:00:00\", \"2021-05-04T00:00:00\", \"2021-05-05T00:00:00\", \"2021-05-06T00:00:00\", \"2021-05-07T00:00:00\", \"2021-05-08T00:00:00\", \"2021-05-09T00:00:00\", \"2021-05-10T00:00:00\", \"2021-05-11T00:00:00\", \"2021-05-12T00:00:00\", \"2021-05-13T00:00:00\", \"2021-05-14T00:00:00\", \"2021-05-15T00:00:00\", \"2021-05-16T00:00:00\", \"2021-05-17T00:00:00\", \"2021-05-18T00:00:00\", \"2021-05-19T00:00:00\", \"2021-05-20T00:00:00\", \"2021-05-22T00:00:00\", \"2021-05-23T00:00:00\", \"2021-05-24T00:00:00\", \"2021-05-25T00:00:00\", \"2021-05-26T00:00:00\", \"2021-05-27T00:00:00\", \"2021-05-28T00:00:00\", \"2021-05-29T00:00:00\", \"2021-05-30T00:00:00\", \"2021-05-31T00:00:00\", \"2021-06-01T00:00:00\", \"2021-06-02T00:00:00\", \"2021-06-03T00:00:00\", \"2021-06-04T00:00:00\", \"2021-06-05T00:00:00\", \"2021-06-06T00:00:00\", \"2021-06-07T00:00:00\", \"2021-06-08T00:00:00\", \"2021-06-09T00:00:00\", \"2021-06-10T00:00:00\", \"2021-06-11T00:00:00\", \"2021-06-12T00:00:00\", \"2021-06-13T00:00:00\", \"2021-06-14T00:00:00\", \"2021-06-15T00:00:00\", \"2021-06-16T00:00:00\", \"2021-06-17T00:00:00\", \"2021-06-18T00:00:00\", \"2021-06-19T00:00:00\", \"2021-06-20T00:00:00\", \"2021-06-21T00:00:00\", \"2021-06-22T00:00:00\", \"2021-06-23T00:00:00\", \"2021-06-24T00:00:00\", \"2021-06-25T00:00:00\", \"2021-06-26T00:00:00\", \"2021-06-27T00:00:00\", \"2021-06-28T00:00:00\", \"2021-06-29T00:00:00\", \"2021-06-30T00:00:00\", \"2021-07-01T00:00:00\", \"2021-07-02T00:00:00\", \"2021-07-03T00:00:00\", \"2021-07-04T00:00:00\", \"2021-07-05T00:00:00\", \"2021-07-06T00:00:00\", \"2021-07-07T00:00:00\", \"2021-07-08T00:00:00\", \"2021-07-10T00:00:00\", \"2021-07-11T00:00:00\", \"2021-07-12T00:00:00\", \"2021-07-13T00:00:00\", \"2021-07-14T00:00:00\", \"2021-07-15T00:00:00\", \"2021-07-16T00:00:00\", \"2021-07-17T00:00:00\", \"2021-07-19T00:00:00\", \"2021-07-20T00:00:00\", \"2021-07-21T00:00:00\", \"2021-07-22T00:00:00\", \"2021-07-23T00:00:00\", \"2021-07-24T00:00:00\", \"2021-07-25T00:00:00\", \"2021-07-26T00:00:00\", \"2021-07-27T00:00:00\", \"2021-07-28T00:00:00\", \"2021-07-29T00:00:00\", \"2021-07-30T00:00:00\", \"2021-08-01T00:00:00\"], \"name\": \"People Once Vaccinated\", \"type\": \"bar\", \"x\": [1, 1, 1, 1, 1, 1, 1, 1, 1, 1, 1, 1, 1, 1, 1, 1, 1, 2, 2, 2, 2, 2, 2, 2, 2, 2, 2, 2, 2, 2, 2, 2, 2, 2, 2, 2, 2, 2, 2, 2, 2, 2, 2, 2, 3, 3, 3, 3, 3, 3, 3, 3, 3, 3, 3, 3, 3, 3, 3, 3, 3, 3, 3, 3, 3, 3, 3, 3, 3, 3, 3, 3, 3, 3, 3, 4, 4, 4, 4, 4, 4, 4, 4, 4, 4, 4, 4, 4, 4, 4, 4, 4, 4, 4, 4, 4, 4, 4, 4, 4, 4, 4, 5, 5, 5, 5, 5, 5, 5, 5, 5, 5, 5, 5, 5, 5, 5, 5, 5, 5, 5, 5, 5, 5, 5, 5, 5, 5, 5, 5, 5, 5, 6, 6, 6, 6, 6, 6, 6, 6, 6, 6, 6, 6, 6, 6, 6, 6, 6, 6, 6, 6, 6, 6, 6, 6, 6, 6, 6, 6, 6, 6, 7, 7, 7, 7, 7, 7, 7, 7, 7, 7, 7, 7, 7, 7, 7, 7, 7, 7, 7, 7, 7, 7, 7, 7, 7, 7, 7, 7, 8], \"y\": [0, 191181, 224301, 454049, 674835, 806484, 1043534, 1390592, 1582201, 1615504, 2023809, 2029480, 2355979, 2928053, 3500027, 3744334, 3758843, 3950156, 4138918, 4449552, 4959445, 5416849, 5775322, 5812362, 6259008, 6611561, 7017114, 7505010, 7967647, 8044786, 8418653, 8641002, 8844641, 9381591, 9693000, 9964383, 10124531, 10308552, 10585757, 10884879, 11206188, 11552857, 11788669, 11845075, 12256337, 12906771, 13739121, 14796835, 15996683, 17168303, 17227903, 18943283, 20004227, 21034481, 21435841, 23075504, 24307635, 24452385, 27079484, 28862037, 30600787, 32426230, 34842030, 37125187, 37574302, 40631153, 42731952, 44846538, 47001472, 49426618, 51441436, 51660234, 52211398, 53989035, 55783201, 59148798, 63081589, 65739470, 68678838, 72277309, 75937015, 78763027, 82456522, 85763852, 88885961, 91587400, 95043039, 97301914, 100179199, 102349255, 104408484, 106431076, 107371770, 109659181, 111673361, 113584269, 117795008, 119886252, 121263287, 122538179, 123811908, 125376952, 126328970, 126704151, 127696675, 128627919, 129730641, 131058890, 132294827, 133366482, 133854676, 135192013, 136557345, 137805245, 139087590, 139861462, 141132112, 141764335, 143090218, 144270200, 145333606, 146624652, 149219616, 150033188, 152301505, 153511379, 156189641, 158783606, 160605562, 164158704, 165598013, 167191085, 169585180, 171866824, 174296917, 179172948, 180972102, 183275704, 185501579, 188363894, 191222380, 194325996, 197415653, 199655293, 202572835, 205571046, 207830971, 210442950, 214553189, 217542993, 221493259, 224541283, 232744813, 238586187, 241720520, 247652194, 253359907, 260253182, 262916313, 265545768, 270178001, 271410023, 275693081, 276339011, 282231365, 284455266, 286751758, 288782557, 291184757, 298678913, 303171498, 304018852, 306612781, 311387539, 313529502, 316116189, 318665226, 321893762, 326392783, 328716212, 330259212, 333945151, 336819816, 340387695, 341802707, 346516149, 349324061, 352545271, 356140739, 359820313, 367994586]}, {\"hovertext\": [\"2021-01-15T00:00:00\", \"2021-01-16T00:00:00\", \"2021-01-17T00:00:00\", \"2021-01-18T00:00:00\", \"2021-01-19T00:00:00\", \"2021-01-20T00:00:00\", \"2021-01-21T00:00:00\", \"2021-01-22T00:00:00\", \"2021-01-23T00:00:00\", \"2021-01-24T00:00:00\", \"2021-01-25T00:00:00\", \"2021-01-26T00:00:00\", \"2021-01-27T00:00:00\", \"2021-01-28T00:00:00\", \"2021-01-29T00:00:00\", \"2021-01-30T00:00:00\", \"2021-01-31T00:00:00\", \"2021-02-01T00:00:00\", \"2021-02-02T00:00:00\", \"2021-02-03T00:00:00\", \"2021-02-04T00:00:00\", \"2021-02-05T00:00:00\", \"2021-02-06T00:00:00\", \"2021-02-07T00:00:00\", \"2021-02-08T00:00:00\", \"2021-02-09T00:00:00\", \"2021-02-10T00:00:00\", \"2021-02-11T00:00:00\", \"2021-02-12T00:00:00\", \"2021-02-13T00:00:00\", \"2021-02-15T00:00:00\", \"2021-02-16T00:00:00\", \"2021-02-17T00:00:00\", \"2021-02-18T00:00:00\", \"2021-02-19T00:00:00\", \"2021-02-20T00:00:00\", \"2021-02-21T00:00:00\", \"2021-02-22T00:00:00\", \"2021-02-23T00:00:00\", \"2021-02-24T00:00:00\", \"2021-02-25T00:00:00\", \"2021-02-26T00:00:00\", \"2021-02-27T00:00:00\", \"2021-02-28T00:00:00\", \"2021-03-01T00:00:00\", \"2021-03-02T00:00:00\", \"2021-03-03T00:00:00\", \"2021-03-04T00:00:00\", \"2021-03-05T00:00:00\", \"2021-03-06T00:00:00\", \"2021-03-07T00:00:00\", \"2021-03-08T00:00:00\", \"2021-03-09T00:00:00\", \"2021-03-10T00:00:00\", \"2021-03-11T00:00:00\", \"2021-03-12T00:00:00\", \"2021-03-13T00:00:00\", \"2021-03-14T00:00:00\", \"2021-03-15T00:00:00\", \"2021-03-16T00:00:00\", \"2021-03-17T00:00:00\", \"2021-03-18T00:00:00\", \"2021-03-19T00:00:00\", \"2021-03-20T00:00:00\", \"2021-03-21T00:00:00\", \"2021-03-22T00:00:00\", \"2021-03-23T00:00:00\", \"2021-03-24T00:00:00\", \"2021-03-25T00:00:00\", \"2021-03-26T00:00:00\", \"2021-03-27T00:00:00\", \"2021-03-28T00:00:00\", \"2021-03-29T00:00:00\", \"2021-03-30T00:00:00\", \"2021-03-31T00:00:00\", \"2021-04-01T00:00:00\", \"2021-04-02T00:00:00\", \"2021-04-03T00:00:00\", \"2021-04-04T00:00:00\", \"2021-04-05T00:00:00\", \"2021-04-06T00:00:00\", \"2021-04-07T00:00:00\", \"2021-04-08T00:00:00\", \"2021-04-09T00:00:00\", \"2021-04-10T00:00:00\", \"2021-04-11T00:00:00\", \"2021-04-12T00:00:00\", \"2021-04-13T00:00:00\", \"2021-04-14T00:00:00\", \"2021-04-15T00:00:00\", \"2021-04-16T00:00:00\", \"2021-04-17T00:00:00\", \"2021-04-18T00:00:00\", \"2021-04-19T00:00:00\", \"2021-04-21T00:00:00\", \"2021-04-22T00:00:00\", \"2021-04-25T00:00:00\", \"2021-04-26T00:00:00\", \"2021-04-27T00:00:00\", \"2021-04-28T00:00:00\", \"2021-04-29T00:00:00\", \"2021-04-30T00:00:00\", \"2021-05-01T00:00:00\", \"2021-05-02T00:00:00\", \"2021-05-03T00:00:00\", \"2021-05-04T00:00:00\", \"2021-05-05T00:00:00\", \"2021-05-06T00:00:00\", \"2021-05-07T00:00:00\", \"2021-05-08T00:00:00\", \"2021-05-09T00:00:00\", \"2021-05-10T00:00:00\", \"2021-05-11T00:00:00\", \"2021-05-12T00:00:00\", \"2021-05-13T00:00:00\", \"2021-05-14T00:00:00\", \"2021-05-15T00:00:00\", \"2021-05-16T00:00:00\", \"2021-05-17T00:00:00\", \"2021-05-18T00:00:00\", \"2021-05-19T00:00:00\", \"2021-05-20T00:00:00\", \"2021-05-22T00:00:00\", \"2021-05-23T00:00:00\", \"2021-05-24T00:00:00\", \"2021-05-25T00:00:00\", \"2021-05-26T00:00:00\", \"2021-05-27T00:00:00\", \"2021-05-28T00:00:00\", \"2021-05-29T00:00:00\", \"2021-05-30T00:00:00\", \"2021-05-31T00:00:00\", \"2021-06-01T00:00:00\", \"2021-06-02T00:00:00\", \"2021-06-03T00:00:00\", \"2021-06-04T00:00:00\", \"2021-06-05T00:00:00\", \"2021-06-06T00:00:00\", \"2021-06-07T00:00:00\", \"2021-06-08T00:00:00\", \"2021-06-09T00:00:00\", \"2021-06-10T00:00:00\", \"2021-06-11T00:00:00\", \"2021-06-12T00:00:00\", \"2021-06-13T00:00:00\", \"2021-06-14T00:00:00\", \"2021-06-15T00:00:00\", \"2021-06-16T00:00:00\", \"2021-06-17T00:00:00\", \"2021-06-18T00:00:00\", \"2021-06-19T00:00:00\", \"2021-06-20T00:00:00\", \"2021-06-21T00:00:00\", \"2021-06-22T00:00:00\", \"2021-06-23T00:00:00\", \"2021-06-24T00:00:00\", \"2021-06-25T00:00:00\", \"2021-06-26T00:00:00\", \"2021-06-27T00:00:00\", \"2021-06-28T00:00:00\", \"2021-06-29T00:00:00\", \"2021-06-30T00:00:00\", \"2021-07-01T00:00:00\", \"2021-07-02T00:00:00\", \"2021-07-03T00:00:00\", \"2021-07-04T00:00:00\", \"2021-07-05T00:00:00\", \"2021-07-06T00:00:00\", \"2021-07-07T00:00:00\", \"2021-07-08T00:00:00\", \"2021-07-10T00:00:00\", \"2021-07-11T00:00:00\", \"2021-07-12T00:00:00\", \"2021-07-13T00:00:00\", \"2021-07-14T00:00:00\", \"2021-07-15T00:00:00\", \"2021-07-16T00:00:00\", \"2021-07-17T00:00:00\", \"2021-07-19T00:00:00\", \"2021-07-20T00:00:00\", \"2021-07-21T00:00:00\", \"2021-07-22T00:00:00\", \"2021-07-23T00:00:00\", \"2021-07-24T00:00:00\", \"2021-07-25T00:00:00\", \"2021-07-26T00:00:00\", \"2021-07-27T00:00:00\", \"2021-07-28T00:00:00\", \"2021-07-29T00:00:00\", \"2021-07-30T00:00:00\", \"2021-08-01T00:00:00\"], \"name\": \"People Fully Vaccinated(Two doses)\", \"type\": \"bar\", \"x\": [1, 1, 1, 1, 1, 1, 1, 1, 1, 1, 1, 1, 1, 1, 1, 1, 1, 2, 2, 2, 2, 2, 2, 2, 2, 2, 2, 2, 2, 2, 2, 2, 2, 2, 2, 2, 2, 2, 2, 2, 2, 2, 2, 2, 3, 3, 3, 3, 3, 3, 3, 3, 3, 3, 3, 3, 3, 3, 3, 3, 3, 3, 3, 3, 3, 3, 3, 3, 3, 3, 3, 3, 3, 3, 3, 4, 4, 4, 4, 4, 4, 4, 4, 4, 4, 4, 4, 4, 4, 4, 4, 4, 4, 4, 4, 4, 4, 4, 4, 4, 4, 4, 5, 5, 5, 5, 5, 5, 5, 5, 5, 5, 5, 5, 5, 5, 5, 5, 5, 5, 5, 5, 5, 5, 5, 5, 5, 5, 5, 5, 5, 5, 6, 6, 6, 6, 6, 6, 6, 6, 6, 6, 6, 6, 6, 6, 6, 6, 6, 6, 6, 6, 6, 6, 6, 6, 6, 6, 6, 6, 6, 6, 7, 7, 7, 7, 7, 7, 7, 7, 7, 7, 7, 7, 7, 7, 7, 7, 7, 7, 7, 7, 7, 7, 7, 7, 7, 7, 7, 7, 8], \"y\": [0, 0, 0, 0, 0, 0, 0, 0, 0, 0, 0, 0, 0, 0, 0, 0, 0, 0, 0, 0, 0, 0, 0, 0, 0, 0, 0, 0, 0, 7668, 98118, 216339, 342116, 464932, 756942, 873940, 960642, 1115542, 1321635, 1481754, 1860859, 2204083, 2453878, 2456191, 2597799, 2713978, 2876927, 3208668, 3501021, 3754041, 3761107, 4065450, 4363679, 4650530, 4729079, 5142953, 5430774, 5455653, 5867948, 6202499, 6542468, 6913587, 7221362, 7478654, 7491696, 7863441, 8109334, 8299171, 8502968, 8683155, 8828346, 8870201, 8901956, 9065318, 9334695, 9640340, 9972706, 10240181, 10426325, 10833617, 11140459, 11435646, 11877740, 12311308, 12709186, 12941165, 13490046, 13877664, 14314039, 14874254, 15529157, 16191514, 16480796, 17469932, 17972744, 19170339, 21390165, 22638695, 23615946, 24515213, 25456864, 26621155, 27297355, 27507360, 28385461, 29122833, 30200597, 31544713, 32895173, 34127375, 34450192, 35906905, 37305298, 38240332, 39274256, 39784951, 40412424, 40486671, 40726986, 40921402, 41076994, 41262233, 41622881, 41686052, 41864206, 41995400, 42235974, 42419560, 42561240, 42930249, 43067110, 43258810, 43550558, 43811342, 44047467, 44434820, 44599042, 44765341, 44989073, 45317035, 45634125, 45955907, 46287589, 46532774, 46857581, 47189318, 47474395, 47882950, 48417061, 48812947, 49415053, 49745316, 50569129, 51269269, 51649818, 52401833, 53301621, 54588202, 55114099, 55877810, 57245912, 57748116, 59048568, 59332783, 62069225, 62923284, 64477739, 65525089, 66886006, 70312309, 72861088, 73333649, 74854865, 76310396, 77810989, 79227578, 81030653, 83037953, 85453618, 86756243, 87591939, 89471879, 91062445, 92763169, 93393294, 95396246, 96832598, 98160986, 99893015, 101698166, 104229053]}],\n",
              "                        {\"barmode\": \"stack\", \"template\": {\"data\": {\"bar\": [{\"error_x\": {\"color\": \"#2a3f5f\"}, \"error_y\": {\"color\": \"#2a3f5f\"}, \"marker\": {\"line\": {\"color\": \"#E5ECF6\", \"width\": 0.5}}, \"type\": \"bar\"}], \"barpolar\": [{\"marker\": {\"line\": {\"color\": \"#E5ECF6\", \"width\": 0.5}}, \"type\": \"barpolar\"}], \"carpet\": [{\"aaxis\": {\"endlinecolor\": \"#2a3f5f\", \"gridcolor\": \"white\", \"linecolor\": \"white\", \"minorgridcolor\": \"white\", \"startlinecolor\": \"#2a3f5f\"}, \"baxis\": {\"endlinecolor\": \"#2a3f5f\", \"gridcolor\": \"white\", \"linecolor\": \"white\", \"minorgridcolor\": \"white\", \"startlinecolor\": \"#2a3f5f\"}, \"type\": \"carpet\"}], \"choropleth\": [{\"colorbar\": {\"outlinewidth\": 0, \"ticks\": \"\"}, \"type\": \"choropleth\"}], \"contour\": [{\"colorbar\": {\"outlinewidth\": 0, \"ticks\": \"\"}, \"colorscale\": [[0.0, \"#0d0887\"], [0.1111111111111111, \"#46039f\"], [0.2222222222222222, \"#7201a8\"], [0.3333333333333333, \"#9c179e\"], [0.4444444444444444, \"#bd3786\"], [0.5555555555555556, \"#d8576b\"], [0.6666666666666666, \"#ed7953\"], [0.7777777777777778, \"#fb9f3a\"], [0.8888888888888888, \"#fdca26\"], [1.0, \"#f0f921\"]], \"type\": \"contour\"}], \"contourcarpet\": [{\"colorbar\": {\"outlinewidth\": 0, \"ticks\": \"\"}, \"type\": \"contourcarpet\"}], \"heatmap\": [{\"colorbar\": {\"outlinewidth\": 0, \"ticks\": \"\"}, \"colorscale\": [[0.0, \"#0d0887\"], [0.1111111111111111, \"#46039f\"], [0.2222222222222222, \"#7201a8\"], [0.3333333333333333, \"#9c179e\"], [0.4444444444444444, \"#bd3786\"], [0.5555555555555556, \"#d8576b\"], [0.6666666666666666, \"#ed7953\"], [0.7777777777777778, \"#fb9f3a\"], [0.8888888888888888, \"#fdca26\"], [1.0, \"#f0f921\"]], \"type\": \"heatmap\"}], \"heatmapgl\": [{\"colorbar\": {\"outlinewidth\": 0, \"ticks\": \"\"}, \"colorscale\": [[0.0, \"#0d0887\"], [0.1111111111111111, \"#46039f\"], [0.2222222222222222, \"#7201a8\"], [0.3333333333333333, \"#9c179e\"], [0.4444444444444444, \"#bd3786\"], [0.5555555555555556, \"#d8576b\"], [0.6666666666666666, \"#ed7953\"], [0.7777777777777778, \"#fb9f3a\"], [0.8888888888888888, \"#fdca26\"], [1.0, \"#f0f921\"]], \"type\": \"heatmapgl\"}], \"histogram\": [{\"marker\": {\"colorbar\": {\"outlinewidth\": 0, \"ticks\": \"\"}}, \"type\": \"histogram\"}], \"histogram2d\": [{\"colorbar\": {\"outlinewidth\": 0, \"ticks\": \"\"}, \"colorscale\": [[0.0, \"#0d0887\"], [0.1111111111111111, \"#46039f\"], [0.2222222222222222, \"#7201a8\"], [0.3333333333333333, \"#9c179e\"], [0.4444444444444444, \"#bd3786\"], [0.5555555555555556, \"#d8576b\"], [0.6666666666666666, \"#ed7953\"], [0.7777777777777778, \"#fb9f3a\"], [0.8888888888888888, \"#fdca26\"], [1.0, \"#f0f921\"]], \"type\": \"histogram2d\"}], \"histogram2dcontour\": [{\"colorbar\": {\"outlinewidth\": 0, \"ticks\": \"\"}, \"colorscale\": [[0.0, \"#0d0887\"], [0.1111111111111111, \"#46039f\"], [0.2222222222222222, \"#7201a8\"], [0.3333333333333333, \"#9c179e\"], [0.4444444444444444, \"#bd3786\"], [0.5555555555555556, \"#d8576b\"], [0.6666666666666666, \"#ed7953\"], [0.7777777777777778, \"#fb9f3a\"], [0.8888888888888888, \"#fdca26\"], [1.0, \"#f0f921\"]], \"type\": \"histogram2dcontour\"}], \"mesh3d\": [{\"colorbar\": {\"outlinewidth\": 0, \"ticks\": \"\"}, \"type\": \"mesh3d\"}], \"parcoords\": [{\"line\": {\"colorbar\": {\"outlinewidth\": 0, \"ticks\": \"\"}}, \"type\": \"parcoords\"}], \"pie\": [{\"automargin\": true, \"type\": \"pie\"}], \"scatter\": [{\"marker\": {\"colorbar\": {\"outlinewidth\": 0, \"ticks\": \"\"}}, \"type\": \"scatter\"}], \"scatter3d\": [{\"line\": {\"colorbar\": {\"outlinewidth\": 0, \"ticks\": \"\"}}, \"marker\": {\"colorbar\": {\"outlinewidth\": 0, \"ticks\": \"\"}}, \"type\": \"scatter3d\"}], \"scattercarpet\": [{\"marker\": {\"colorbar\": {\"outlinewidth\": 0, \"ticks\": \"\"}}, \"type\": \"scattercarpet\"}], \"scattergeo\": [{\"marker\": {\"colorbar\": {\"outlinewidth\": 0, \"ticks\": \"\"}}, \"type\": \"scattergeo\"}], \"scattergl\": [{\"marker\": {\"colorbar\": {\"outlinewidth\": 0, \"ticks\": \"\"}}, \"type\": \"scattergl\"}], \"scattermapbox\": [{\"marker\": {\"colorbar\": {\"outlinewidth\": 0, \"ticks\": \"\"}}, \"type\": \"scattermapbox\"}], \"scatterpolar\": [{\"marker\": {\"colorbar\": {\"outlinewidth\": 0, \"ticks\": \"\"}}, \"type\": \"scatterpolar\"}], \"scatterpolargl\": [{\"marker\": {\"colorbar\": {\"outlinewidth\": 0, \"ticks\": \"\"}}, \"type\": \"scatterpolargl\"}], \"scatterternary\": [{\"marker\": {\"colorbar\": {\"outlinewidth\": 0, \"ticks\": \"\"}}, \"type\": \"scatterternary\"}], \"surface\": [{\"colorbar\": {\"outlinewidth\": 0, \"ticks\": \"\"}, \"colorscale\": [[0.0, \"#0d0887\"], [0.1111111111111111, \"#46039f\"], [0.2222222222222222, \"#7201a8\"], [0.3333333333333333, \"#9c179e\"], [0.4444444444444444, \"#bd3786\"], [0.5555555555555556, \"#d8576b\"], [0.6666666666666666, \"#ed7953\"], [0.7777777777777778, \"#fb9f3a\"], [0.8888888888888888, \"#fdca26\"], [1.0, \"#f0f921\"]], \"type\": \"surface\"}], \"table\": [{\"cells\": {\"fill\": {\"color\": \"#EBF0F8\"}, \"line\": {\"color\": \"white\"}}, \"header\": {\"fill\": {\"color\": \"#C8D4E3\"}, \"line\": {\"color\": \"white\"}}, \"type\": \"table\"}]}, \"layout\": {\"annotationdefaults\": {\"arrowcolor\": \"#2a3f5f\", \"arrowhead\": 0, \"arrowwidth\": 1}, \"coloraxis\": {\"colorbar\": {\"outlinewidth\": 0, \"ticks\": \"\"}}, \"colorscale\": {\"diverging\": [[0, \"#8e0152\"], [0.1, \"#c51b7d\"], [0.2, \"#de77ae\"], [0.3, \"#f1b6da\"], [0.4, \"#fde0ef\"], [0.5, \"#f7f7f7\"], [0.6, \"#e6f5d0\"], [0.7, \"#b8e186\"], [0.8, \"#7fbc41\"], [0.9, \"#4d9221\"], [1, \"#276419\"]], \"sequential\": [[0.0, \"#0d0887\"], [0.1111111111111111, \"#46039f\"], [0.2222222222222222, \"#7201a8\"], [0.3333333333333333, \"#9c179e\"], [0.4444444444444444, \"#bd3786\"], [0.5555555555555556, \"#d8576b\"], [0.6666666666666666, \"#ed7953\"], [0.7777777777777778, \"#fb9f3a\"], [0.8888888888888888, \"#fdca26\"], [1.0, \"#f0f921\"]], \"sequentialminus\": [[0.0, \"#0d0887\"], [0.1111111111111111, \"#46039f\"], [0.2222222222222222, \"#7201a8\"], [0.3333333333333333, \"#9c179e\"], [0.4444444444444444, \"#bd3786\"], [0.5555555555555556, \"#d8576b\"], [0.6666666666666666, \"#ed7953\"], [0.7777777777777778, \"#fb9f3a\"], [0.8888888888888888, \"#fdca26\"], [1.0, \"#f0f921\"]]}, \"colorway\": [\"#636efa\", \"#EF553B\", \"#00cc96\", \"#ab63fa\", \"#FFA15A\", \"#19d3f3\", \"#FF6692\", \"#B6E880\", \"#FF97FF\", \"#FECB52\"], \"font\": {\"color\": \"#2a3f5f\"}, \"geo\": {\"bgcolor\": \"white\", \"lakecolor\": \"white\", \"landcolor\": \"#E5ECF6\", \"showlakes\": true, \"showland\": true, \"subunitcolor\": \"white\"}, \"hoverlabel\": {\"align\": \"left\"}, \"hovermode\": \"closest\", \"mapbox\": {\"style\": \"light\"}, \"paper_bgcolor\": \"white\", \"plot_bgcolor\": \"#E5ECF6\", \"polar\": {\"angularaxis\": {\"gridcolor\": \"white\", \"linecolor\": \"white\", \"ticks\": \"\"}, \"bgcolor\": \"#E5ECF6\", \"radialaxis\": {\"gridcolor\": \"white\", \"linecolor\": \"white\", \"ticks\": \"\"}}, \"scene\": {\"xaxis\": {\"backgroundcolor\": \"#E5ECF6\", \"gridcolor\": \"white\", \"gridwidth\": 2, \"linecolor\": \"white\", \"showbackground\": true, \"ticks\": \"\", \"zerolinecolor\": \"white\"}, \"yaxis\": {\"backgroundcolor\": \"#E5ECF6\", \"gridcolor\": \"white\", \"gridwidth\": 2, \"linecolor\": \"white\", \"showbackground\": true, \"ticks\": \"\", \"zerolinecolor\": \"white\"}, \"zaxis\": {\"backgroundcolor\": \"#E5ECF6\", \"gridcolor\": \"white\", \"gridwidth\": 2, \"linecolor\": \"white\", \"showbackground\": true, \"ticks\": \"\", \"zerolinecolor\": \"white\"}}, \"shapedefaults\": {\"line\": {\"color\": \"#2a3f5f\"}}, \"ternary\": {\"aaxis\": {\"gridcolor\": \"white\", \"linecolor\": \"white\", \"ticks\": \"\"}, \"baxis\": {\"gridcolor\": \"white\", \"linecolor\": \"white\", \"ticks\": \"\"}, \"bgcolor\": \"#E5ECF6\", \"caxis\": {\"gridcolor\": \"white\", \"linecolor\": \"white\", \"ticks\": \"\"}}, \"title\": {\"x\": 0.05}, \"xaxis\": {\"automargin\": true, \"gridcolor\": \"white\", \"linecolor\": \"white\", \"ticks\": \"\", \"title\": {\"standoff\": 15}, \"zerolinecolor\": \"white\", \"zerolinewidth\": 2}, \"yaxis\": {\"automargin\": true, \"gridcolor\": \"white\", \"linecolor\": \"white\", \"ticks\": \"\", \"title\": {\"standoff\": 15}, \"zerolinecolor\": \"white\", \"zerolinewidth\": 2}}}, \"title\": {\"text\": \"Total Vaccines Administered VS Once Vaccinated VS Fully Vaccinated\"}, \"xaxis\": {\"title\": {\"text\": \"Monthly From January 2021\"}}, \"yaxis\": {\"title\": {\"font\": {\"size\": 12}, \"text\": \"Total Vaccines Administered, Once Vaccinated & Fully Vaccinated\"}}},\n",
              "                        {\"responsive\": true}\n",
              "                    ).then(function(){\n",
              "                            \n",
              "var gd = document.getElementById('b3ff8134-af6b-43b5-972b-4de0fd2d29a8');\n",
              "var x = new MutationObserver(function (mutations, observer) {{\n",
              "        var display = window.getComputedStyle(gd).display;\n",
              "        if (!display || display === 'none') {{\n",
              "            console.log([gd, 'removed!']);\n",
              "            Plotly.purge(gd);\n",
              "            observer.disconnect();\n",
              "        }}\n",
              "}});\n",
              "\n",
              "// Listen for the removal of the full notebook cells\n",
              "var notebookContainer = gd.closest('#notebook-container');\n",
              "if (notebookContainer) {{\n",
              "    x.observe(notebookContainer, {childList: true});\n",
              "}}\n",
              "\n",
              "// Listen for the clearing of the current output cell\n",
              "var outputEl = gd.closest('.output');\n",
              "if (outputEl) {{\n",
              "    x.observe(outputEl, {childList: true});\n",
              "}}\n",
              "\n",
              "                        })\n",
              "                };\n",
              "                \n",
              "            </script>\n",
              "        </div>\n",
              "</body>\n",
              "</html>"
            ]
          },
          "metadata": {
            "tags": []
          }
        }
      ]
    },
    {
      "cell_type": "code",
      "metadata": {
        "id": "NWpPAclnYhKu"
      },
      "source": [
        "import numpy as np"
      ],
      "execution_count": 22,
      "outputs": []
    },
    {
      "cell_type": "code",
      "metadata": {
        "colab": {
          "base_uri": "https://localhost:8080/",
          "height": 142
        },
        "id": "wg5vl6gWmmrR",
        "outputId": "81df6ed1-adc8-464f-a1b7-f79603213cea"
      },
      "source": [
        "vaccinations_pivot = pd.pivot_table(vaccines_india_df, \n",
        "                                    values=['total_vaccinations', 'people_vaccinated', 'people_fully_vaccinated'], \n",
        "                                    columns='month', \n",
        "                                    aggfunc={\n",
        "                                        'total_vaccinations': np.median,\n",
        "                                        'people_vaccinated': np.median,\n",
        "                                        'people_fully_vaccinated': np.median\n",
        "                                    }, \n",
        "                                    fill_value=0)\n",
        "\n",
        "vaccinations_pivot"
      ],
      "execution_count": 23,
      "outputs": [
        {
          "output_type": "execute_result",
          "data": {
            "text/html": [
              "<div>\n",
              "<style scoped>\n",
              "    .dataframe tbody tr th:only-of-type {\n",
              "        vertical-align: middle;\n",
              "    }\n",
              "\n",
              "    .dataframe tbody tr th {\n",
              "        vertical-align: top;\n",
              "    }\n",
              "\n",
              "    .dataframe thead th {\n",
              "        text-align: right;\n",
              "    }\n",
              "</style>\n",
              "<table border=\"1\" class=\"dataframe\">\n",
              "  <thead>\n",
              "    <tr style=\"text-align: right;\">\n",
              "      <th>month</th>\n",
              "      <th>1</th>\n",
              "      <th>2</th>\n",
              "      <th>3</th>\n",
              "      <th>4</th>\n",
              "      <th>5</th>\n",
              "      <th>6</th>\n",
              "      <th>7</th>\n",
              "      <th>8</th>\n",
              "    </tr>\n",
              "  </thead>\n",
              "  <tbody>\n",
              "    <tr>\n",
              "      <th>people_fully_vaccinated</th>\n",
              "      <td>0.0</td>\n",
              "      <td>98118.0</td>\n",
              "      <td>6202499.0</td>\n",
              "      <td>14314039.0</td>\n",
              "      <td>40449547.5</td>\n",
              "      <td>47678672.5</td>\n",
              "      <td>80129115.5</td>\n",
              "      <td>104229053.0</td>\n",
              "    </tr>\n",
              "    <tr>\n",
              "      <th>people_vaccinated</th>\n",
              "      <td>1582201.0</td>\n",
              "      <td>8418653.0</td>\n",
              "      <td>28862037.0</td>\n",
              "      <td>100179199.0</td>\n",
              "      <td>141448223.5</td>\n",
              "      <td>209136960.5</td>\n",
              "      <td>317390707.5</td>\n",
              "      <td>367994586.0</td>\n",
              "    </tr>\n",
              "    <tr>\n",
              "      <th>total_vaccinations</th>\n",
              "      <td>1582201.0</td>\n",
              "      <td>8516771.0</td>\n",
              "      <td>35064536.0</td>\n",
              "      <td>114493238.0</td>\n",
              "      <td>181897771.0</td>\n",
              "      <td>256815633.0</td>\n",
              "      <td>397519823.0</td>\n",
              "      <td>472223639.0</td>\n",
              "    </tr>\n",
              "  </tbody>\n",
              "</table>\n",
              "</div>"
            ],
            "text/plain": [
              "month                            1          2  ...            7            8\n",
              "people_fully_vaccinated        0.0    98118.0  ...   80129115.5  104229053.0\n",
              "people_vaccinated        1582201.0  8418653.0  ...  317390707.5  367994586.0\n",
              "total_vaccinations       1582201.0  8516771.0  ...  397519823.0  472223639.0\n",
              "\n",
              "[3 rows x 8 columns]"
            ]
          },
          "metadata": {
            "tags": []
          },
          "execution_count": 23
        }
      ]
    },
    {
      "cell_type": "markdown",
      "metadata": {
        "id": "uIsRXpocm2vT"
      },
      "source": [
        "## Dataset-2 on Global-wide countries\n",
        "Importing data from same resouces for extracting 'daily vaccinations' metric:\n",
        "From the below global vaccination data, rows have been filtered for India specific rows"
      ]
    },
    {
      "cell_type": "code",
      "metadata": {
        "id": "8EPxDVxqnJlR"
      },
      "source": [
        "gh_raw_global_csv_url = 'https://raw.githubusercontent.com/owid/covid-19-data/master/public/data/vaccinations/vaccinations.csv'"
      ],
      "execution_count": 24,
      "outputs": []
    },
    {
      "cell_type": "code",
      "metadata": {
        "id": "oMsAV6MxnSrW"
      },
      "source": [
        "vaccinations_global = pd.read_csv(gh_raw_global_csv_url)"
      ],
      "execution_count": 25,
      "outputs": []
    },
    {
      "cell_type": "code",
      "metadata": {
        "colab": {
          "base_uri": "https://localhost:8080/",
          "height": 309
        },
        "id": "Z4SJJNBrnU6T",
        "outputId": "45ce0020-da31-464d-abcc-231d160247db"
      },
      "source": [
        "vaccinations_global.head()"
      ],
      "execution_count": 26,
      "outputs": [
        {
          "output_type": "execute_result",
          "data": {
            "text/html": [
              "<div>\n",
              "<style scoped>\n",
              "    .dataframe tbody tr th:only-of-type {\n",
              "        vertical-align: middle;\n",
              "    }\n",
              "\n",
              "    .dataframe tbody tr th {\n",
              "        vertical-align: top;\n",
              "    }\n",
              "\n",
              "    .dataframe thead th {\n",
              "        text-align: right;\n",
              "    }\n",
              "</style>\n",
              "<table border=\"1\" class=\"dataframe\">\n",
              "  <thead>\n",
              "    <tr style=\"text-align: right;\">\n",
              "      <th></th>\n",
              "      <th>location</th>\n",
              "      <th>iso_code</th>\n",
              "      <th>date</th>\n",
              "      <th>total_vaccinations</th>\n",
              "      <th>people_vaccinated</th>\n",
              "      <th>people_fully_vaccinated</th>\n",
              "      <th>daily_vaccinations_raw</th>\n",
              "      <th>daily_vaccinations</th>\n",
              "      <th>total_vaccinations_per_hundred</th>\n",
              "      <th>people_vaccinated_per_hundred</th>\n",
              "      <th>people_fully_vaccinated_per_hundred</th>\n",
              "      <th>daily_vaccinations_per_million</th>\n",
              "    </tr>\n",
              "  </thead>\n",
              "  <tbody>\n",
              "    <tr>\n",
              "      <th>0</th>\n",
              "      <td>Afghanistan</td>\n",
              "      <td>AFG</td>\n",
              "      <td>2021-02-22</td>\n",
              "      <td>0.0</td>\n",
              "      <td>0.0</td>\n",
              "      <td>NaN</td>\n",
              "      <td>NaN</td>\n",
              "      <td>NaN</td>\n",
              "      <td>0.0</td>\n",
              "      <td>0.0</td>\n",
              "      <td>NaN</td>\n",
              "      <td>NaN</td>\n",
              "    </tr>\n",
              "    <tr>\n",
              "      <th>1</th>\n",
              "      <td>Afghanistan</td>\n",
              "      <td>AFG</td>\n",
              "      <td>2021-02-23</td>\n",
              "      <td>NaN</td>\n",
              "      <td>NaN</td>\n",
              "      <td>NaN</td>\n",
              "      <td>NaN</td>\n",
              "      <td>1367.0</td>\n",
              "      <td>NaN</td>\n",
              "      <td>NaN</td>\n",
              "      <td>NaN</td>\n",
              "      <td>35.0</td>\n",
              "    </tr>\n",
              "    <tr>\n",
              "      <th>2</th>\n",
              "      <td>Afghanistan</td>\n",
              "      <td>AFG</td>\n",
              "      <td>2021-02-24</td>\n",
              "      <td>NaN</td>\n",
              "      <td>NaN</td>\n",
              "      <td>NaN</td>\n",
              "      <td>NaN</td>\n",
              "      <td>1367.0</td>\n",
              "      <td>NaN</td>\n",
              "      <td>NaN</td>\n",
              "      <td>NaN</td>\n",
              "      <td>35.0</td>\n",
              "    </tr>\n",
              "    <tr>\n",
              "      <th>3</th>\n",
              "      <td>Afghanistan</td>\n",
              "      <td>AFG</td>\n",
              "      <td>2021-02-25</td>\n",
              "      <td>NaN</td>\n",
              "      <td>NaN</td>\n",
              "      <td>NaN</td>\n",
              "      <td>NaN</td>\n",
              "      <td>1367.0</td>\n",
              "      <td>NaN</td>\n",
              "      <td>NaN</td>\n",
              "      <td>NaN</td>\n",
              "      <td>35.0</td>\n",
              "    </tr>\n",
              "    <tr>\n",
              "      <th>4</th>\n",
              "      <td>Afghanistan</td>\n",
              "      <td>AFG</td>\n",
              "      <td>2021-02-26</td>\n",
              "      <td>NaN</td>\n",
              "      <td>NaN</td>\n",
              "      <td>NaN</td>\n",
              "      <td>NaN</td>\n",
              "      <td>1367.0</td>\n",
              "      <td>NaN</td>\n",
              "      <td>NaN</td>\n",
              "      <td>NaN</td>\n",
              "      <td>35.0</td>\n",
              "    </tr>\n",
              "  </tbody>\n",
              "</table>\n",
              "</div>"
            ],
            "text/plain": [
              "      location  ... daily_vaccinations_per_million\n",
              "0  Afghanistan  ...                            NaN\n",
              "1  Afghanistan  ...                           35.0\n",
              "2  Afghanistan  ...                           35.0\n",
              "3  Afghanistan  ...                           35.0\n",
              "4  Afghanistan  ...                           35.0\n",
              "\n",
              "[5 rows x 12 columns]"
            ]
          },
          "metadata": {
            "tags": []
          },
          "execution_count": 26
        }
      ]
    },
    {
      "cell_type": "code",
      "metadata": {
        "id": "dgO9GjI3nXi5"
      },
      "source": [
        "vaccinations_india_wise = vaccinations_global[vaccinations_global.iso_code == 'IND']"
      ],
      "execution_count": 27,
      "outputs": []
    },
    {
      "cell_type": "code",
      "metadata": {
        "colab": {
          "base_uri": "https://localhost:8080/",
          "height": 309
        },
        "id": "6jKx0rmhndJR",
        "outputId": "a9d74510-51b2-49cb-8229-1815c6ba4bc4"
      },
      "source": [
        "\n",
        "vaccinations_india_wise.head()"
      ],
      "execution_count": 28,
      "outputs": [
        {
          "output_type": "execute_result",
          "data": {
            "text/html": [
              "<div>\n",
              "<style scoped>\n",
              "    .dataframe tbody tr th:only-of-type {\n",
              "        vertical-align: middle;\n",
              "    }\n",
              "\n",
              "    .dataframe tbody tr th {\n",
              "        vertical-align: top;\n",
              "    }\n",
              "\n",
              "    .dataframe thead th {\n",
              "        text-align: right;\n",
              "    }\n",
              "</style>\n",
              "<table border=\"1\" class=\"dataframe\">\n",
              "  <thead>\n",
              "    <tr style=\"text-align: right;\">\n",
              "      <th></th>\n",
              "      <th>location</th>\n",
              "      <th>iso_code</th>\n",
              "      <th>date</th>\n",
              "      <th>total_vaccinations</th>\n",
              "      <th>people_vaccinated</th>\n",
              "      <th>people_fully_vaccinated</th>\n",
              "      <th>daily_vaccinations_raw</th>\n",
              "      <th>daily_vaccinations</th>\n",
              "      <th>total_vaccinations_per_hundred</th>\n",
              "      <th>people_vaccinated_per_hundred</th>\n",
              "      <th>people_fully_vaccinated_per_hundred</th>\n",
              "      <th>daily_vaccinations_per_million</th>\n",
              "    </tr>\n",
              "  </thead>\n",
              "  <tbody>\n",
              "    <tr>\n",
              "      <th>15399</th>\n",
              "      <td>India</td>\n",
              "      <td>IND</td>\n",
              "      <td>2021-01-15</td>\n",
              "      <td>0.0</td>\n",
              "      <td>0.0</td>\n",
              "      <td>NaN</td>\n",
              "      <td>NaN</td>\n",
              "      <td>NaN</td>\n",
              "      <td>0.00</td>\n",
              "      <td>0.00</td>\n",
              "      <td>NaN</td>\n",
              "      <td>NaN</td>\n",
              "    </tr>\n",
              "    <tr>\n",
              "      <th>15400</th>\n",
              "      <td>India</td>\n",
              "      <td>IND</td>\n",
              "      <td>2021-01-16</td>\n",
              "      <td>191181.0</td>\n",
              "      <td>191181.0</td>\n",
              "      <td>NaN</td>\n",
              "      <td>191181.0</td>\n",
              "      <td>191181.0</td>\n",
              "      <td>0.01</td>\n",
              "      <td>0.01</td>\n",
              "      <td>NaN</td>\n",
              "      <td>139.0</td>\n",
              "    </tr>\n",
              "    <tr>\n",
              "      <th>15401</th>\n",
              "      <td>India</td>\n",
              "      <td>IND</td>\n",
              "      <td>2021-01-17</td>\n",
              "      <td>224301.0</td>\n",
              "      <td>224301.0</td>\n",
              "      <td>NaN</td>\n",
              "      <td>33120.0</td>\n",
              "      <td>112150.0</td>\n",
              "      <td>0.02</td>\n",
              "      <td>0.02</td>\n",
              "      <td>NaN</td>\n",
              "      <td>81.0</td>\n",
              "    </tr>\n",
              "    <tr>\n",
              "      <th>15402</th>\n",
              "      <td>India</td>\n",
              "      <td>IND</td>\n",
              "      <td>2021-01-18</td>\n",
              "      <td>454049.0</td>\n",
              "      <td>454049.0</td>\n",
              "      <td>NaN</td>\n",
              "      <td>229748.0</td>\n",
              "      <td>151350.0</td>\n",
              "      <td>0.03</td>\n",
              "      <td>0.03</td>\n",
              "      <td>NaN</td>\n",
              "      <td>110.0</td>\n",
              "    </tr>\n",
              "    <tr>\n",
              "      <th>15403</th>\n",
              "      <td>India</td>\n",
              "      <td>IND</td>\n",
              "      <td>2021-01-19</td>\n",
              "      <td>674835.0</td>\n",
              "      <td>674835.0</td>\n",
              "      <td>NaN</td>\n",
              "      <td>220786.0</td>\n",
              "      <td>168709.0</td>\n",
              "      <td>0.05</td>\n",
              "      <td>0.05</td>\n",
              "      <td>NaN</td>\n",
              "      <td>122.0</td>\n",
              "    </tr>\n",
              "  </tbody>\n",
              "</table>\n",
              "</div>"
            ],
            "text/plain": [
              "      location  ... daily_vaccinations_per_million\n",
              "15399    India  ...                            NaN\n",
              "15400    India  ...                          139.0\n",
              "15401    India  ...                           81.0\n",
              "15402    India  ...                          110.0\n",
              "15403    India  ...                          122.0\n",
              "\n",
              "[5 rows x 12 columns]"
            ]
          },
          "metadata": {
            "tags": []
          },
          "execution_count": 28
        }
      ]
    },
    {
      "cell_type": "code",
      "metadata": {
        "id": "XDJuI8bongL-"
      },
      "source": [
        "daily_vaccines_india_df = vaccinations_india_wise[['date', 'daily_vaccinations', 'location']]"
      ],
      "execution_count": 29,
      "outputs": []
    },
    {
      "cell_type": "code",
      "metadata": {
        "colab": {
          "base_uri": "https://localhost:8080/",
          "height": 419
        },
        "id": "7vJytFHFnlLK",
        "outputId": "2d4539f5-257a-4e41-b1b4-0378f4cd6be0"
      },
      "source": [
        "daily_vaccines_india_df"
      ],
      "execution_count": 30,
      "outputs": [
        {
          "output_type": "execute_result",
          "data": {
            "text/html": [
              "<div>\n",
              "<style scoped>\n",
              "    .dataframe tbody tr th:only-of-type {\n",
              "        vertical-align: middle;\n",
              "    }\n",
              "\n",
              "    .dataframe tbody tr th {\n",
              "        vertical-align: top;\n",
              "    }\n",
              "\n",
              "    .dataframe thead th {\n",
              "        text-align: right;\n",
              "    }\n",
              "</style>\n",
              "<table border=\"1\" class=\"dataframe\">\n",
              "  <thead>\n",
              "    <tr style=\"text-align: right;\">\n",
              "      <th></th>\n",
              "      <th>date</th>\n",
              "      <th>daily_vaccinations</th>\n",
              "      <th>location</th>\n",
              "    </tr>\n",
              "  </thead>\n",
              "  <tbody>\n",
              "    <tr>\n",
              "      <th>15399</th>\n",
              "      <td>2021-01-15</td>\n",
              "      <td>NaN</td>\n",
              "      <td>India</td>\n",
              "    </tr>\n",
              "    <tr>\n",
              "      <th>15400</th>\n",
              "      <td>2021-01-16</td>\n",
              "      <td>191181.0</td>\n",
              "      <td>India</td>\n",
              "    </tr>\n",
              "    <tr>\n",
              "      <th>15401</th>\n",
              "      <td>2021-01-17</td>\n",
              "      <td>112150.0</td>\n",
              "      <td>India</td>\n",
              "    </tr>\n",
              "    <tr>\n",
              "      <th>15402</th>\n",
              "      <td>2021-01-18</td>\n",
              "      <td>151350.0</td>\n",
              "      <td>India</td>\n",
              "    </tr>\n",
              "    <tr>\n",
              "      <th>15403</th>\n",
              "      <td>2021-01-19</td>\n",
              "      <td>168709.0</td>\n",
              "      <td>India</td>\n",
              "    </tr>\n",
              "    <tr>\n",
              "      <th>...</th>\n",
              "      <td>...</td>\n",
              "      <td>...</td>\n",
              "      <td>...</td>\n",
              "    </tr>\n",
              "    <tr>\n",
              "      <th>15593</th>\n",
              "      <td>2021-07-28</td>\n",
              "      <td>4693587.0</td>\n",
              "      <td>India</td>\n",
              "    </tr>\n",
              "    <tr>\n",
              "      <th>15594</th>\n",
              "      <td>2021-07-29</td>\n",
              "      <td>4659532.0</td>\n",
              "      <td>India</td>\n",
              "    </tr>\n",
              "    <tr>\n",
              "      <th>15595</th>\n",
              "      <td>2021-07-30</td>\n",
              "      <td>4805174.0</td>\n",
              "      <td>India</td>\n",
              "    </tr>\n",
              "    <tr>\n",
              "      <th>15596</th>\n",
              "      <td>2021-07-31</td>\n",
              "      <td>4817171.0</td>\n",
              "      <td>India</td>\n",
              "    </tr>\n",
              "    <tr>\n",
              "      <th>15597</th>\n",
              "      <td>2021-08-01</td>\n",
              "      <td>5289663.0</td>\n",
              "      <td>India</td>\n",
              "    </tr>\n",
              "  </tbody>\n",
              "</table>\n",
              "<p>199 rows × 3 columns</p>\n",
              "</div>"
            ],
            "text/plain": [
              "             date  daily_vaccinations location\n",
              "15399  2021-01-15                 NaN    India\n",
              "15400  2021-01-16            191181.0    India\n",
              "15401  2021-01-17            112150.0    India\n",
              "15402  2021-01-18            151350.0    India\n",
              "15403  2021-01-19            168709.0    India\n",
              "...           ...                 ...      ...\n",
              "15593  2021-07-28           4693587.0    India\n",
              "15594  2021-07-29           4659532.0    India\n",
              "15595  2021-07-30           4805174.0    India\n",
              "15596  2021-07-31           4817171.0    India\n",
              "15597  2021-08-01           5289663.0    India\n",
              "\n",
              "[199 rows x 3 columns]"
            ]
          },
          "metadata": {
            "tags": []
          },
          "execution_count": 30
        }
      ]
    },
    {
      "cell_type": "code",
      "metadata": {
        "colab": {
          "base_uri": "https://localhost:8080/",
          "height": 419
        },
        "id": "A9ptLnisnn_9",
        "outputId": "c1883142-75f3-40b7-bab1-24c7622747da"
      },
      "source": [
        "daily_vaccines_india_df = daily_vaccines_india_df.fillna(0)\n",
        "daily_vaccines_india_df"
      ],
      "execution_count": 31,
      "outputs": [
        {
          "output_type": "execute_result",
          "data": {
            "text/html": [
              "<div>\n",
              "<style scoped>\n",
              "    .dataframe tbody tr th:only-of-type {\n",
              "        vertical-align: middle;\n",
              "    }\n",
              "\n",
              "    .dataframe tbody tr th {\n",
              "        vertical-align: top;\n",
              "    }\n",
              "\n",
              "    .dataframe thead th {\n",
              "        text-align: right;\n",
              "    }\n",
              "</style>\n",
              "<table border=\"1\" class=\"dataframe\">\n",
              "  <thead>\n",
              "    <tr style=\"text-align: right;\">\n",
              "      <th></th>\n",
              "      <th>date</th>\n",
              "      <th>daily_vaccinations</th>\n",
              "      <th>location</th>\n",
              "    </tr>\n",
              "  </thead>\n",
              "  <tbody>\n",
              "    <tr>\n",
              "      <th>15399</th>\n",
              "      <td>2021-01-15</td>\n",
              "      <td>0.0</td>\n",
              "      <td>India</td>\n",
              "    </tr>\n",
              "    <tr>\n",
              "      <th>15400</th>\n",
              "      <td>2021-01-16</td>\n",
              "      <td>191181.0</td>\n",
              "      <td>India</td>\n",
              "    </tr>\n",
              "    <tr>\n",
              "      <th>15401</th>\n",
              "      <td>2021-01-17</td>\n",
              "      <td>112150.0</td>\n",
              "      <td>India</td>\n",
              "    </tr>\n",
              "    <tr>\n",
              "      <th>15402</th>\n",
              "      <td>2021-01-18</td>\n",
              "      <td>151350.0</td>\n",
              "      <td>India</td>\n",
              "    </tr>\n",
              "    <tr>\n",
              "      <th>15403</th>\n",
              "      <td>2021-01-19</td>\n",
              "      <td>168709.0</td>\n",
              "      <td>India</td>\n",
              "    </tr>\n",
              "    <tr>\n",
              "      <th>...</th>\n",
              "      <td>...</td>\n",
              "      <td>...</td>\n",
              "      <td>...</td>\n",
              "    </tr>\n",
              "    <tr>\n",
              "      <th>15593</th>\n",
              "      <td>2021-07-28</td>\n",
              "      <td>4693587.0</td>\n",
              "      <td>India</td>\n",
              "    </tr>\n",
              "    <tr>\n",
              "      <th>15594</th>\n",
              "      <td>2021-07-29</td>\n",
              "      <td>4659532.0</td>\n",
              "      <td>India</td>\n",
              "    </tr>\n",
              "    <tr>\n",
              "      <th>15595</th>\n",
              "      <td>2021-07-30</td>\n",
              "      <td>4805174.0</td>\n",
              "      <td>India</td>\n",
              "    </tr>\n",
              "    <tr>\n",
              "      <th>15596</th>\n",
              "      <td>2021-07-31</td>\n",
              "      <td>4817171.0</td>\n",
              "      <td>India</td>\n",
              "    </tr>\n",
              "    <tr>\n",
              "      <th>15597</th>\n",
              "      <td>2021-08-01</td>\n",
              "      <td>5289663.0</td>\n",
              "      <td>India</td>\n",
              "    </tr>\n",
              "  </tbody>\n",
              "</table>\n",
              "<p>199 rows × 3 columns</p>\n",
              "</div>"
            ],
            "text/plain": [
              "             date  daily_vaccinations location\n",
              "15399  2021-01-15                 0.0    India\n",
              "15400  2021-01-16            191181.0    India\n",
              "15401  2021-01-17            112150.0    India\n",
              "15402  2021-01-18            151350.0    India\n",
              "15403  2021-01-19            168709.0    India\n",
              "...           ...                 ...      ...\n",
              "15593  2021-07-28           4693587.0    India\n",
              "15594  2021-07-29           4659532.0    India\n",
              "15595  2021-07-30           4805174.0    India\n",
              "15596  2021-07-31           4817171.0    India\n",
              "15597  2021-08-01           5289663.0    India\n",
              "\n",
              "[199 rows x 3 columns]"
            ]
          },
          "metadata": {
            "tags": []
          },
          "execution_count": 31
        }
      ]
    },
    {
      "cell_type": "code",
      "metadata": {
        "id": "wphxSqNdnsQg"
      },
      "source": [
        "daily_vaccines_india_df['date'] = pd.to_datetime(daily_vaccines_india_df['date'])"
      ],
      "execution_count": 32,
      "outputs": []
    },
    {
      "cell_type": "code",
      "metadata": {
        "id": "_m1Smch0nwMc"
      },
      "source": [
        "daily_vaccines_india_df['day'] = pd.DatetimeIndex(daily_vaccines_india_df.date).day\n",
        "daily_vaccines_india_df['month'] = pd.DatetimeIndex(daily_vaccines_india_df.date).month\n",
        "daily_vaccines_india_df['year'] = pd.DatetimeIndex(daily_vaccines_india_df.date).year"
      ],
      "execution_count": 33,
      "outputs": []
    },
    {
      "cell_type": "code",
      "metadata": {
        "colab": {
          "base_uri": "https://localhost:8080/",
          "height": 204
        },
        "id": "0wSdlVhVn0hE",
        "outputId": "b95297a4-69e6-4135-b876-1b2975bd42b2"
      },
      "source": [
        "daily_vaccines_india_df.head()"
      ],
      "execution_count": 34,
      "outputs": [
        {
          "output_type": "execute_result",
          "data": {
            "text/html": [
              "<div>\n",
              "<style scoped>\n",
              "    .dataframe tbody tr th:only-of-type {\n",
              "        vertical-align: middle;\n",
              "    }\n",
              "\n",
              "    .dataframe tbody tr th {\n",
              "        vertical-align: top;\n",
              "    }\n",
              "\n",
              "    .dataframe thead th {\n",
              "        text-align: right;\n",
              "    }\n",
              "</style>\n",
              "<table border=\"1\" class=\"dataframe\">\n",
              "  <thead>\n",
              "    <tr style=\"text-align: right;\">\n",
              "      <th></th>\n",
              "      <th>date</th>\n",
              "      <th>daily_vaccinations</th>\n",
              "      <th>location</th>\n",
              "      <th>day</th>\n",
              "      <th>month</th>\n",
              "      <th>year</th>\n",
              "    </tr>\n",
              "  </thead>\n",
              "  <tbody>\n",
              "    <tr>\n",
              "      <th>15399</th>\n",
              "      <td>2021-01-15</td>\n",
              "      <td>0.0</td>\n",
              "      <td>India</td>\n",
              "      <td>15</td>\n",
              "      <td>1</td>\n",
              "      <td>2021</td>\n",
              "    </tr>\n",
              "    <tr>\n",
              "      <th>15400</th>\n",
              "      <td>2021-01-16</td>\n",
              "      <td>191181.0</td>\n",
              "      <td>India</td>\n",
              "      <td>16</td>\n",
              "      <td>1</td>\n",
              "      <td>2021</td>\n",
              "    </tr>\n",
              "    <tr>\n",
              "      <th>15401</th>\n",
              "      <td>2021-01-17</td>\n",
              "      <td>112150.0</td>\n",
              "      <td>India</td>\n",
              "      <td>17</td>\n",
              "      <td>1</td>\n",
              "      <td>2021</td>\n",
              "    </tr>\n",
              "    <tr>\n",
              "      <th>15402</th>\n",
              "      <td>2021-01-18</td>\n",
              "      <td>151350.0</td>\n",
              "      <td>India</td>\n",
              "      <td>18</td>\n",
              "      <td>1</td>\n",
              "      <td>2021</td>\n",
              "    </tr>\n",
              "    <tr>\n",
              "      <th>15403</th>\n",
              "      <td>2021-01-19</td>\n",
              "      <td>168709.0</td>\n",
              "      <td>India</td>\n",
              "      <td>19</td>\n",
              "      <td>1</td>\n",
              "      <td>2021</td>\n",
              "    </tr>\n",
              "  </tbody>\n",
              "</table>\n",
              "</div>"
            ],
            "text/plain": [
              "            date  daily_vaccinations location  day  month  year\n",
              "15399 2021-01-15                 0.0    India   15      1  2021\n",
              "15400 2021-01-16            191181.0    India   16      1  2021\n",
              "15401 2021-01-17            112150.0    India   17      1  2021\n",
              "15402 2021-01-18            151350.0    India   18      1  2021\n",
              "15403 2021-01-19            168709.0    India   19      1  2021"
            ]
          },
          "metadata": {
            "tags": []
          },
          "execution_count": 34
        }
      ]
    },
    {
      "cell_type": "code",
      "metadata": {
        "colab": {
          "base_uri": "https://localhost:8080/",
          "height": 328
        },
        "id": "3aBVdMlZn3rh",
        "outputId": "ec8bbc27-3643-4445-bb4c-f3b3b1fb5dda"
      },
      "source": [
        "daily_vaccines_india_monthly_df = daily_vaccines_india_df.groupby('month').agg({'daily_vaccinations': 'sum'})\n",
        "daily_vaccines_india_monthly_df"
      ],
      "execution_count": 35,
      "outputs": [
        {
          "output_type": "execute_result",
          "data": {
            "text/html": [
              "<div>\n",
              "<style scoped>\n",
              "    .dataframe tbody tr th:only-of-type {\n",
              "        vertical-align: middle;\n",
              "    }\n",
              "\n",
              "    .dataframe tbody tr th {\n",
              "        vertical-align: top;\n",
              "    }\n",
              "\n",
              "    .dataframe thead th {\n",
              "        text-align: right;\n",
              "    }\n",
              "</style>\n",
              "<table border=\"1\" class=\"dataframe\">\n",
              "  <thead>\n",
              "    <tr style=\"text-align: right;\">\n",
              "      <th></th>\n",
              "      <th>daily_vaccinations</th>\n",
              "    </tr>\n",
              "    <tr>\n",
              "      <th>month</th>\n",
              "      <th></th>\n",
              "    </tr>\n",
              "  </thead>\n",
              "  <tbody>\n",
              "    <tr>\n",
              "      <th>1</th>\n",
              "      <td>3379485.0</td>\n",
              "    </tr>\n",
              "    <tr>\n",
              "      <th>2</th>\n",
              "      <td>10103631.0</td>\n",
              "    </tr>\n",
              "    <tr>\n",
              "      <th>3</th>\n",
              "      <td>47519159.0</td>\n",
              "    </tr>\n",
              "    <tr>\n",
              "      <th>4</th>\n",
              "      <td>84035890.0</td>\n",
              "    </tr>\n",
              "    <tr>\n",
              "      <th>5</th>\n",
              "      <td>58936437.0</td>\n",
              "    </tr>\n",
              "    <tr>\n",
              "      <th>6</th>\n",
              "      <td>113298089.0</td>\n",
              "    </tr>\n",
              "    <tr>\n",
              "      <th>7</th>\n",
              "      <td>134400232.0</td>\n",
              "    </tr>\n",
              "    <tr>\n",
              "      <th>8</th>\n",
              "      <td>5289663.0</td>\n",
              "    </tr>\n",
              "  </tbody>\n",
              "</table>\n",
              "</div>"
            ],
            "text/plain": [
              "       daily_vaccinations\n",
              "month                    \n",
              "1               3379485.0\n",
              "2              10103631.0\n",
              "3              47519159.0\n",
              "4              84035890.0\n",
              "5              58936437.0\n",
              "6             113298089.0\n",
              "7             134400232.0\n",
              "8               5289663.0"
            ]
          },
          "metadata": {
            "tags": []
          },
          "execution_count": 35
        }
      ]
    },
    {
      "cell_type": "code",
      "metadata": {
        "id": "c28Xg34aoZ3X"
      },
      "source": [
        "import seaborn as sns\n",
        "sns.set_style('darkgrid')"
      ],
      "execution_count": 37,
      "outputs": []
    },
    {
      "cell_type": "code",
      "metadata": {
        "colab": {
          "base_uri": "https://localhost:8080/",
          "height": 307
        },
        "id": "FyTkiBjxn7k8",
        "outputId": "08ab4f81-adb5-48f0-b265-206972af69b4"
      },
      "source": [
        "sns.lineplot(data=daily_vaccines_india_monthly_df, x='month', y='daily_vaccinations')"
      ],
      "execution_count": 38,
      "outputs": [
        {
          "output_type": "execute_result",
          "data": {
            "text/plain": [
              "<matplotlib.axes._subplots.AxesSubplot at 0x7f8465236710>"
            ]
          },
          "metadata": {
            "tags": []
          },
          "execution_count": 38
        },
        {
          "output_type": "display_data",
          "data": {
            "image/png": "[encoded data removed]",
            "text/plain": [
              "<Figure size 432x288 with 1 Axes>"
            ]
          },
          "metadata": {
            "tags": []
          }
        }
      ]
    },
    {
      "cell_type": "code",
      "metadata": {
        "id": "3DiIKiNLoU_z"
      },
      "source": [
        ""
      ],
      "execution_count": null,
      "outputs": []
    },
    {
      "cell_type": "markdown",
      "metadata": {
        "id": "YsANGwJ7ohQZ"
      },
      "source": [
        "## Dataset-3 on state-wise in India:\n",
        "These datasets are from 16 Jan 2021 and till date"
      ]
    },
    {
      "cell_type": "code",
      "metadata": {
        "colab": {
          "base_uri": "https://localhost:8080/",
          "height": 419
        },
        "id": "DMbYpK3Bolas",
        "outputId": "c95703b0-7f35-40d2-b5b1-cee2609313ec"
      },
      "source": [
        "statewise_india_vaccines_df = pd.read_csv('http://api.covid19india.org/csv/latest/vaccine_doses_statewise_v2.csv')\n",
        "statewise_india_vaccines_df"
      ],
      "execution_count": 40,
      "outputs": [
        {
          "output_type": "execute_result",
          "data": {
            "text/html": [
              "<div>\n",
              "<style scoped>\n",
              "    .dataframe tbody tr th:only-of-type {\n",
              "        vertical-align: middle;\n",
              "    }\n",
              "\n",
              "    .dataframe tbody tr th {\n",
              "        vertical-align: top;\n",
              "    }\n",
              "\n",
              "    .dataframe thead th {\n",
              "        text-align: right;\n",
              "    }\n",
              "</style>\n",
              "<table border=\"1\" class=\"dataframe\">\n",
              "  <thead>\n",
              "    <tr style=\"text-align: right;\">\n",
              "      <th></th>\n",
              "      <th>Vaccinated As of</th>\n",
              "      <th>State</th>\n",
              "      <th>First Dose Administered</th>\n",
              "      <th>Second Dose Administered</th>\n",
              "      <th>Total Doses Administered</th>\n",
              "    </tr>\n",
              "  </thead>\n",
              "  <tbody>\n",
              "    <tr>\n",
              "      <th>0</th>\n",
              "      <td>16/01/2021</td>\n",
              "      <td>Andaman and Nicobar Islands</td>\n",
              "      <td>225</td>\n",
              "      <td>0</td>\n",
              "      <td>225</td>\n",
              "    </tr>\n",
              "    <tr>\n",
              "      <th>1</th>\n",
              "      <td>16/01/2021</td>\n",
              "      <td>Andhra Pradesh</td>\n",
              "      <td>18412</td>\n",
              "      <td>0</td>\n",
              "      <td>18412</td>\n",
              "    </tr>\n",
              "    <tr>\n",
              "      <th>2</th>\n",
              "      <td>16/01/2021</td>\n",
              "      <td>Arunachal Pradesh</td>\n",
              "      <td>829</td>\n",
              "      <td>0</td>\n",
              "      <td>829</td>\n",
              "    </tr>\n",
              "    <tr>\n",
              "      <th>3</th>\n",
              "      <td>16/01/2021</td>\n",
              "      <td>Assam</td>\n",
              "      <td>3528</td>\n",
              "      <td>0</td>\n",
              "      <td>3528</td>\n",
              "    </tr>\n",
              "    <tr>\n",
              "      <th>4</th>\n",
              "      <td>16/01/2021</td>\n",
              "      <td>Bihar</td>\n",
              "      <td>18169</td>\n",
              "      <td>0</td>\n",
              "      <td>18169</td>\n",
              "    </tr>\n",
              "    <tr>\n",
              "      <th>...</th>\n",
              "      <td>...</td>\n",
              "      <td>...</td>\n",
              "      <td>...</td>\n",
              "      <td>...</td>\n",
              "      <td>...</td>\n",
              "    </tr>\n",
              "    <tr>\n",
              "      <th>7519</th>\n",
              "      <td>02/08/2021</td>\n",
              "      <td>Uttar Pradesh</td>\n",
              "      <td>40960377</td>\n",
              "      <td>7865902</td>\n",
              "      <td>48826279</td>\n",
              "    </tr>\n",
              "    <tr>\n",
              "      <th>7520</th>\n",
              "      <td>02/08/2021</td>\n",
              "      <td>Uttarakhand</td>\n",
              "      <td>4626002</td>\n",
              "      <td>1464021</td>\n",
              "      <td>6090023</td>\n",
              "    </tr>\n",
              "    <tr>\n",
              "      <th>7521</th>\n",
              "      <td>02/08/2021</td>\n",
              "      <td>West Bengal</td>\n",
              "      <td>21459942</td>\n",
              "      <td>8789496</td>\n",
              "      <td>30249438</td>\n",
              "    </tr>\n",
              "    <tr>\n",
              "      <th>7522</th>\n",
              "      <td>02/08/2021</td>\n",
              "      <td>Miscellaneous</td>\n",
              "      <td>1744632</td>\n",
              "      <td>1546029</td>\n",
              "      <td>3290661</td>\n",
              "    </tr>\n",
              "    <tr>\n",
              "      <th>7523</th>\n",
              "      <td>02/08/2021</td>\n",
              "      <td>Total</td>\n",
              "      <td>372626926</td>\n",
              "      <td>105917188</td>\n",
              "      <td>478544114</td>\n",
              "    </tr>\n",
              "  </tbody>\n",
              "</table>\n",
              "<p>7524 rows × 5 columns</p>\n",
              "</div>"
            ],
            "text/plain": [
              "     Vaccinated As of  ... Total Doses Administered\n",
              "0          16/01/2021  ...                      225\n",
              "1          16/01/2021  ...                    18412\n",
              "2          16/01/2021  ...                      829\n",
              "3          16/01/2021  ...                     3528\n",
              "4          16/01/2021  ...                    18169\n",
              "...               ...  ...                      ...\n",
              "7519       02/08/2021  ...                 48826279\n",
              "7520       02/08/2021  ...                  6090023\n",
              "7521       02/08/2021  ...                 30249438\n",
              "7522       02/08/2021  ...                  3290661\n",
              "7523       02/08/2021  ...                478544114\n",
              "\n",
              "[7524 rows x 5 columns]"
            ]
          },
          "metadata": {
            "tags": []
          },
          "execution_count": 40
        }
      ]
    },
    {
      "cell_type": "code",
      "metadata": {
        "id": "IDh31BNkophS"
      },
      "source": [
        "statewise_india_vaccines_df.rename(columns={'Vaccinated As of': 'date',\n",
        "                                            'State': 'state',\n",
        "                                            'First Dose Administered': 'first_dose_administered',\n",
        "                                            'Second Dose Administered': 'second_dose_administered', \n",
        "                                            'Total Doses Administered': 'total_dose_administered'}, \n",
        "                                   inplace=True)"
      ],
      "execution_count": 41,
      "outputs": []
    },
    {
      "cell_type": "code",
      "metadata": {
        "colab": {
          "base_uri": "https://localhost:8080/",
          "height": 204
        },
        "id": "fGishHwVpEfP",
        "outputId": "f8915cd2-402e-45e3-b923-be478de118cd"
      },
      "source": [
        "statewise_india_vaccines_df.head()"
      ],
      "execution_count": 42,
      "outputs": [
        {
          "output_type": "execute_result",
          "data": {
            "text/html": [
              "<div>\n",
              "<style scoped>\n",
              "    .dataframe tbody tr th:only-of-type {\n",
              "        vertical-align: middle;\n",
              "    }\n",
              "\n",
              "    .dataframe tbody tr th {\n",
              "        vertical-align: top;\n",
              "    }\n",
              "\n",
              "    .dataframe thead th {\n",
              "        text-align: right;\n",
              "    }\n",
              "</style>\n",
              "<table border=\"1\" class=\"dataframe\">\n",
              "  <thead>\n",
              "    <tr style=\"text-align: right;\">\n",
              "      <th></th>\n",
              "      <th>date</th>\n",
              "      <th>state</th>\n",
              "      <th>first_dose_administered</th>\n",
              "      <th>second_dose_administered</th>\n",
              "      <th>total_dose_administered</th>\n",
              "    </tr>\n",
              "  </thead>\n",
              "  <tbody>\n",
              "    <tr>\n",
              "      <th>0</th>\n",
              "      <td>16/01/2021</td>\n",
              "      <td>Andaman and Nicobar Islands</td>\n",
              "      <td>225</td>\n",
              "      <td>0</td>\n",
              "      <td>225</td>\n",
              "    </tr>\n",
              "    <tr>\n",
              "      <th>1</th>\n",
              "      <td>16/01/2021</td>\n",
              "      <td>Andhra Pradesh</td>\n",
              "      <td>18412</td>\n",
              "      <td>0</td>\n",
              "      <td>18412</td>\n",
              "    </tr>\n",
              "    <tr>\n",
              "      <th>2</th>\n",
              "      <td>16/01/2021</td>\n",
              "      <td>Arunachal Pradesh</td>\n",
              "      <td>829</td>\n",
              "      <td>0</td>\n",
              "      <td>829</td>\n",
              "    </tr>\n",
              "    <tr>\n",
              "      <th>3</th>\n",
              "      <td>16/01/2021</td>\n",
              "      <td>Assam</td>\n",
              "      <td>3528</td>\n",
              "      <td>0</td>\n",
              "      <td>3528</td>\n",
              "    </tr>\n",
              "    <tr>\n",
              "      <th>4</th>\n",
              "      <td>16/01/2021</td>\n",
              "      <td>Bihar</td>\n",
              "      <td>18169</td>\n",
              "      <td>0</td>\n",
              "      <td>18169</td>\n",
              "    </tr>\n",
              "  </tbody>\n",
              "</table>\n",
              "</div>"
            ],
            "text/plain": [
              "         date  ... total_dose_administered\n",
              "0  16/01/2021  ...                     225\n",
              "1  16/01/2021  ...                   18412\n",
              "2  16/01/2021  ...                     829\n",
              "3  16/01/2021  ...                    3528\n",
              "4  16/01/2021  ...                   18169\n",
              "\n",
              "[5 rows x 5 columns]"
            ]
          },
          "metadata": {
            "tags": []
          },
          "execution_count": 42
        }
      ]
    },
    {
      "cell_type": "code",
      "metadata": {
        "id": "AJcjGL7ypI1N"
      },
      "source": [
        "statewise_india_vaccines_df['month'] = pd.DatetimeIndex(statewise_india_vaccines_df.date).month"
      ],
      "execution_count": 43,
      "outputs": []
    },
    {
      "cell_type": "code",
      "metadata": {
        "id": "mycEuKXzpNyI"
      },
      "source": [
        "statewise_india_vaccines_df['date'] = pd.to_datetime(statewise_india_vaccines_df.date)"
      ],
      "execution_count": 44,
      "outputs": []
    },
    {
      "cell_type": "code",
      "metadata": {
        "colab": {
          "base_uri": "https://localhost:8080/",
          "height": 204
        },
        "id": "E1bWxOHepQ8L",
        "outputId": "ebb7accb-381d-43f0-c8c5-36a83c257767"
      },
      "source": [
        "statewise_india_vaccines_df.head()"
      ],
      "execution_count": 45,
      "outputs": [
        {
          "output_type": "execute_result",
          "data": {
            "text/html": [
              "<div>\n",
              "<style scoped>\n",
              "    .dataframe tbody tr th:only-of-type {\n",
              "        vertical-align: middle;\n",
              "    }\n",
              "\n",
              "    .dataframe tbody tr th {\n",
              "        vertical-align: top;\n",
              "    }\n",
              "\n",
              "    .dataframe thead th {\n",
              "        text-align: right;\n",
              "    }\n",
              "</style>\n",
              "<table border=\"1\" class=\"dataframe\">\n",
              "  <thead>\n",
              "    <tr style=\"text-align: right;\">\n",
              "      <th></th>\n",
              "      <th>date</th>\n",
              "      <th>state</th>\n",
              "      <th>first_dose_administered</th>\n",
              "      <th>second_dose_administered</th>\n",
              "      <th>total_dose_administered</th>\n",
              "      <th>month</th>\n",
              "    </tr>\n",
              "  </thead>\n",
              "  <tbody>\n",
              "    <tr>\n",
              "      <th>0</th>\n",
              "      <td>2021-01-16</td>\n",
              "      <td>Andaman and Nicobar Islands</td>\n",
              "      <td>225</td>\n",
              "      <td>0</td>\n",
              "      <td>225</td>\n",
              "      <td>1</td>\n",
              "    </tr>\n",
              "    <tr>\n",
              "      <th>1</th>\n",
              "      <td>2021-01-16</td>\n",
              "      <td>Andhra Pradesh</td>\n",
              "      <td>18412</td>\n",
              "      <td>0</td>\n",
              "      <td>18412</td>\n",
              "      <td>1</td>\n",
              "    </tr>\n",
              "    <tr>\n",
              "      <th>2</th>\n",
              "      <td>2021-01-16</td>\n",
              "      <td>Arunachal Pradesh</td>\n",
              "      <td>829</td>\n",
              "      <td>0</td>\n",
              "      <td>829</td>\n",
              "      <td>1</td>\n",
              "    </tr>\n",
              "    <tr>\n",
              "      <th>3</th>\n",
              "      <td>2021-01-16</td>\n",
              "      <td>Assam</td>\n",
              "      <td>3528</td>\n",
              "      <td>0</td>\n",
              "      <td>3528</td>\n",
              "      <td>1</td>\n",
              "    </tr>\n",
              "    <tr>\n",
              "      <th>4</th>\n",
              "      <td>2021-01-16</td>\n",
              "      <td>Bihar</td>\n",
              "      <td>18169</td>\n",
              "      <td>0</td>\n",
              "      <td>18169</td>\n",
              "      <td>1</td>\n",
              "    </tr>\n",
              "  </tbody>\n",
              "</table>\n",
              "</div>"
            ],
            "text/plain": [
              "        date                        state  ...  total_dose_administered  month\n",
              "0 2021-01-16  Andaman and Nicobar Islands  ...                      225      1\n",
              "1 2021-01-16               Andhra Pradesh  ...                    18412      1\n",
              "2 2021-01-16            Arunachal Pradesh  ...                      829      1\n",
              "3 2021-01-16                        Assam  ...                     3528      1\n",
              "4 2021-01-16                        Bihar  ...                    18169      1\n",
              "\n",
              "[5 rows x 6 columns]"
            ]
          },
          "metadata": {
            "tags": []
          },
          "execution_count": 45
        }
      ]
    },
    {
      "cell_type": "code",
      "metadata": {
        "colab": {
          "base_uri": "https://localhost:8080/",
          "height": 419
        },
        "id": "J8SqspXFpVeE",
        "outputId": "c9a0ae02-58e1-4116-b20b-c07c00ef80c0"
      },
      "source": [
        "\"\"\"\n",
        "Drop the row with 'Total'\n",
        "\"\"\"\n",
        "\n",
        "statewise_india_vaccines_df = statewise_india_vaccines_df.loc[statewise_india_vaccines_df.state != 'Total']\n",
        "statewise_india_vaccines_df"
      ],
      "execution_count": 46,
      "outputs": [
        {
          "output_type": "execute_result",
          "data": {
            "text/html": [
              "<div>\n",
              "<style scoped>\n",
              "    .dataframe tbody tr th:only-of-type {\n",
              "        vertical-align: middle;\n",
              "    }\n",
              "\n",
              "    .dataframe tbody tr th {\n",
              "        vertical-align: top;\n",
              "    }\n",
              "\n",
              "    .dataframe thead th {\n",
              "        text-align: right;\n",
              "    }\n",
              "</style>\n",
              "<table border=\"1\" class=\"dataframe\">\n",
              "  <thead>\n",
              "    <tr style=\"text-align: right;\">\n",
              "      <th></th>\n",
              "      <th>date</th>\n",
              "      <th>state</th>\n",
              "      <th>first_dose_administered</th>\n",
              "      <th>second_dose_administered</th>\n",
              "      <th>total_dose_administered</th>\n",
              "      <th>month</th>\n",
              "    </tr>\n",
              "  </thead>\n",
              "  <tbody>\n",
              "    <tr>\n",
              "      <th>0</th>\n",
              "      <td>2021-01-16</td>\n",
              "      <td>Andaman and Nicobar Islands</td>\n",
              "      <td>225</td>\n",
              "      <td>0</td>\n",
              "      <td>225</td>\n",
              "      <td>1</td>\n",
              "    </tr>\n",
              "    <tr>\n",
              "      <th>1</th>\n",
              "      <td>2021-01-16</td>\n",
              "      <td>Andhra Pradesh</td>\n",
              "      <td>18412</td>\n",
              "      <td>0</td>\n",
              "      <td>18412</td>\n",
              "      <td>1</td>\n",
              "    </tr>\n",
              "    <tr>\n",
              "      <th>2</th>\n",
              "      <td>2021-01-16</td>\n",
              "      <td>Arunachal Pradesh</td>\n",
              "      <td>829</td>\n",
              "      <td>0</td>\n",
              "      <td>829</td>\n",
              "      <td>1</td>\n",
              "    </tr>\n",
              "    <tr>\n",
              "      <th>3</th>\n",
              "      <td>2021-01-16</td>\n",
              "      <td>Assam</td>\n",
              "      <td>3528</td>\n",
              "      <td>0</td>\n",
              "      <td>3528</td>\n",
              "      <td>1</td>\n",
              "    </tr>\n",
              "    <tr>\n",
              "      <th>4</th>\n",
              "      <td>2021-01-16</td>\n",
              "      <td>Bihar</td>\n",
              "      <td>18169</td>\n",
              "      <td>0</td>\n",
              "      <td>18169</td>\n",
              "      <td>1</td>\n",
              "    </tr>\n",
              "    <tr>\n",
              "      <th>...</th>\n",
              "      <td>...</td>\n",
              "      <td>...</td>\n",
              "      <td>...</td>\n",
              "      <td>...</td>\n",
              "      <td>...</td>\n",
              "      <td>...</td>\n",
              "    </tr>\n",
              "    <tr>\n",
              "      <th>7518</th>\n",
              "      <td>2021-02-08</td>\n",
              "      <td>Tripura</td>\n",
              "      <td>2384038</td>\n",
              "      <td>788884</td>\n",
              "      <td>3172922</td>\n",
              "      <td>2</td>\n",
              "    </tr>\n",
              "    <tr>\n",
              "      <th>7519</th>\n",
              "      <td>2021-02-08</td>\n",
              "      <td>Uttar Pradesh</td>\n",
              "      <td>40960377</td>\n",
              "      <td>7865902</td>\n",
              "      <td>48826279</td>\n",
              "      <td>2</td>\n",
              "    </tr>\n",
              "    <tr>\n",
              "      <th>7520</th>\n",
              "      <td>2021-02-08</td>\n",
              "      <td>Uttarakhand</td>\n",
              "      <td>4626002</td>\n",
              "      <td>1464021</td>\n",
              "      <td>6090023</td>\n",
              "      <td>2</td>\n",
              "    </tr>\n",
              "    <tr>\n",
              "      <th>7521</th>\n",
              "      <td>2021-02-08</td>\n",
              "      <td>West Bengal</td>\n",
              "      <td>21459942</td>\n",
              "      <td>8789496</td>\n",
              "      <td>30249438</td>\n",
              "      <td>2</td>\n",
              "    </tr>\n",
              "    <tr>\n",
              "      <th>7522</th>\n",
              "      <td>2021-02-08</td>\n",
              "      <td>Miscellaneous</td>\n",
              "      <td>1744632</td>\n",
              "      <td>1546029</td>\n",
              "      <td>3290661</td>\n",
              "      <td>2</td>\n",
              "    </tr>\n",
              "  </tbody>\n",
              "</table>\n",
              "<p>7326 rows × 6 columns</p>\n",
              "</div>"
            ],
            "text/plain": [
              "           date                        state  ...  total_dose_administered  month\n",
              "0    2021-01-16  Andaman and Nicobar Islands  ...                      225      1\n",
              "1    2021-01-16               Andhra Pradesh  ...                    18412      1\n",
              "2    2021-01-16            Arunachal Pradesh  ...                      829      1\n",
              "3    2021-01-16                        Assam  ...                     3528      1\n",
              "4    2021-01-16                        Bihar  ...                    18169      1\n",
              "...         ...                          ...  ...                      ...    ...\n",
              "7518 2021-02-08                      Tripura  ...                  3172922      2\n",
              "7519 2021-02-08                Uttar Pradesh  ...                 48826279      2\n",
              "7520 2021-02-08                  Uttarakhand  ...                  6090023      2\n",
              "7521 2021-02-08                  West Bengal  ...                 30249438      2\n",
              "7522 2021-02-08                Miscellaneous  ...                  3290661      2\n",
              "\n",
              "[7326 rows x 6 columns]"
            ]
          },
          "metadata": {
            "tags": []
          },
          "execution_count": 46
        }
      ]
    },
    {
      "cell_type": "code",
      "metadata": {
        "colab": {
          "base_uri": "https://localhost:8080/"
        },
        "id": "Q_n9tVOUpfRA",
        "outputId": "2cb68fdc-ce67-4239-ddb4-532aeeb98c5e"
      },
      "source": [
        "list(statewise_india_vaccines_df.state.unique())"
      ],
      "execution_count": 47,
      "outputs": [
        {
          "output_type": "execute_result",
          "data": {
            "text/plain": [
              "['Andaman and Nicobar Islands',\n",
              " 'Andhra Pradesh',\n",
              " 'Arunachal Pradesh',\n",
              " 'Assam',\n",
              " 'Bihar',\n",
              " 'Chandigarh',\n",
              " 'Chhattisgarh',\n",
              " 'Dadra and Nagar Haveli and Daman and Diu',\n",
              " 'Delhi',\n",
              " 'Goa',\n",
              " 'Gujarat',\n",
              " 'Haryana',\n",
              " 'Himachal Pradesh',\n",
              " 'Jammu and Kashmir',\n",
              " 'Jharkhand',\n",
              " 'Karnataka',\n",
              " 'Kerala',\n",
              " 'Ladakh',\n",
              " 'Lakshadweep',\n",
              " 'Madhya Pradesh',\n",
              " 'Maharashtra',\n",
              " 'Manipur',\n",
              " 'Meghalaya',\n",
              " 'Mizoram',\n",
              " 'Nagaland',\n",
              " 'Odisha',\n",
              " 'Puducherry',\n",
              " 'Punjab',\n",
              " 'Rajasthan',\n",
              " 'Sikkim',\n",
              " 'Tamil Nadu',\n",
              " 'Telangana',\n",
              " 'Tripura',\n",
              " 'Uttar Pradesh',\n",
              " 'Uttarakhand',\n",
              " 'West Bengal',\n",
              " 'Miscellaneous']"
            ]
          },
          "metadata": {
            "tags": []
          },
          "execution_count": 47
        }
      ]
    },
    {
      "cell_type": "code",
      "metadata": {
        "colab": {
          "base_uri": "https://localhost:8080/",
          "height": 1000
        },
        "id": "EJzw3hxUppuI",
        "outputId": "f35720b7-a3d0-4065-ce89-5e6c50719a73"
      },
      "source": [
        "state_with_high_vaccines = statewise_india_vaccines_df.groupby('state').agg({'first_dose_administered': 'mean'}).sort_values(by='first_dose_administered', ascending=False)\n",
        "state_with_high_vaccines"
      ],
      "execution_count": 48,
      "outputs": [
        {
          "output_type": "execute_result",
          "data": {
            "text/html": [
              "<div>\n",
              "<style scoped>\n",
              "    .dataframe tbody tr th:only-of-type {\n",
              "        vertical-align: middle;\n",
              "    }\n",
              "\n",
              "    .dataframe tbody tr th {\n",
              "        vertical-align: top;\n",
              "    }\n",
              "\n",
              "    .dataframe thead th {\n",
              "        text-align: right;\n",
              "    }\n",
              "</style>\n",
              "<table border=\"1\" class=\"dataframe\">\n",
              "  <thead>\n",
              "    <tr style=\"text-align: right;\">\n",
              "      <th></th>\n",
              "      <th>first_dose_administered</th>\n",
              "    </tr>\n",
              "    <tr>\n",
              "      <th>state</th>\n",
              "      <th></th>\n",
              "    </tr>\n",
              "  </thead>\n",
              "  <tbody>\n",
              "    <tr>\n",
              "      <th>Maharashtra</th>\n",
              "      <td>1.285643e+07</td>\n",
              "    </tr>\n",
              "    <tr>\n",
              "      <th>Uttar Pradesh</th>\n",
              "      <td>1.248250e+07</td>\n",
              "    </tr>\n",
              "    <tr>\n",
              "      <th>Rajasthan</th>\n",
              "      <td>1.021063e+07</td>\n",
              "    </tr>\n",
              "    <tr>\n",
              "      <th>Gujarat</th>\n",
              "      <td>9.819852e+06</td>\n",
              "    </tr>\n",
              "    <tr>\n",
              "      <th>Karnataka</th>\n",
              "      <td>8.569930e+06</td>\n",
              "    </tr>\n",
              "    <tr>\n",
              "      <th>West Bengal</th>\n",
              "      <td>8.272163e+06</td>\n",
              "    </tr>\n",
              "    <tr>\n",
              "      <th>Madhya Pradesh</th>\n",
              "      <td>8.062365e+06</td>\n",
              "    </tr>\n",
              "    <tr>\n",
              "      <th>Bihar</th>\n",
              "      <td>6.648267e+06</td>\n",
              "    </tr>\n",
              "    <tr>\n",
              "      <th>Tamil Nadu</th>\n",
              "      <td>5.822774e+06</td>\n",
              "    </tr>\n",
              "    <tr>\n",
              "      <th>Andhra Pradesh</th>\n",
              "      <td>5.618080e+06</td>\n",
              "    </tr>\n",
              "    <tr>\n",
              "      <th>Kerala</th>\n",
              "      <td>5.498269e+06</td>\n",
              "    </tr>\n",
              "    <tr>\n",
              "      <th>Odisha</th>\n",
              "      <td>4.760202e+06</td>\n",
              "    </tr>\n",
              "    <tr>\n",
              "      <th>Chhattisgarh</th>\n",
              "      <td>4.055428e+06</td>\n",
              "    </tr>\n",
              "    <tr>\n",
              "      <th>Telangana</th>\n",
              "      <td>4.052632e+06</td>\n",
              "    </tr>\n",
              "    <tr>\n",
              "      <th>Haryana</th>\n",
              "      <td>3.476016e+06</td>\n",
              "    </tr>\n",
              "    <tr>\n",
              "      <th>Punjab</th>\n",
              "      <td>2.910128e+06</td>\n",
              "    </tr>\n",
              "    <tr>\n",
              "      <th>Delhi</th>\n",
              "      <td>2.890706e+06</td>\n",
              "    </tr>\n",
              "    <tr>\n",
              "      <th>Jharkhand</th>\n",
              "      <td>2.756446e+06</td>\n",
              "    </tr>\n",
              "    <tr>\n",
              "      <th>Assam</th>\n",
              "      <td>2.605717e+06</td>\n",
              "    </tr>\n",
              "    <tr>\n",
              "      <th>Jammu and Kashmir</th>\n",
              "      <td>1.893087e+06</td>\n",
              "    </tr>\n",
              "    <tr>\n",
              "      <th>Uttarakhand</th>\n",
              "      <td>1.659935e+06</td>\n",
              "    </tr>\n",
              "    <tr>\n",
              "      <th>Himachal Pradesh</th>\n",
              "      <td>1.451539e+06</td>\n",
              "    </tr>\n",
              "    <tr>\n",
              "      <th>Miscellaneous</th>\n",
              "      <td>1.293893e+06</td>\n",
              "    </tr>\n",
              "    <tr>\n",
              "      <th>Tripura</th>\n",
              "      <td>8.896715e+05</td>\n",
              "    </tr>\n",
              "    <tr>\n",
              "      <th>Goa</th>\n",
              "      <td>3.454011e+05</td>\n",
              "    </tr>\n",
              "    <tr>\n",
              "      <th>Manipur</th>\n",
              "      <td>3.014702e+05</td>\n",
              "    </tr>\n",
              "    <tr>\n",
              "      <th>Meghalaya</th>\n",
              "      <td>2.822064e+05</td>\n",
              "    </tr>\n",
              "    <tr>\n",
              "      <th>Arunachal Pradesh</th>\n",
              "      <td>2.238146e+05</td>\n",
              "    </tr>\n",
              "    <tr>\n",
              "      <th>Mizoram</th>\n",
              "      <td>2.191396e+05</td>\n",
              "    </tr>\n",
              "    <tr>\n",
              "      <th>Chandigarh</th>\n",
              "      <td>2.025486e+05</td>\n",
              "    </tr>\n",
              "    <tr>\n",
              "      <th>Nagaland</th>\n",
              "      <td>1.933277e+05</td>\n",
              "    </tr>\n",
              "    <tr>\n",
              "      <th>Puducherry</th>\n",
              "      <td>1.882215e+05</td>\n",
              "    </tr>\n",
              "    <tr>\n",
              "      <th>Sikkim</th>\n",
              "      <td>1.693881e+05</td>\n",
              "    </tr>\n",
              "    <tr>\n",
              "      <th>Dadra and Nagar Haveli and Daman and Diu</th>\n",
              "      <td>1.517631e+05</td>\n",
              "    </tr>\n",
              "    <tr>\n",
              "      <th>Ladakh</th>\n",
              "      <td>8.329843e+04</td>\n",
              "    </tr>\n",
              "    <tr>\n",
              "      <th>Andaman and Nicobar Islands</th>\n",
              "      <td>7.561257e+04</td>\n",
              "    </tr>\n",
              "    <tr>\n",
              "      <th>Lakshadweep</th>\n",
              "      <td>2.034488e+04</td>\n",
              "    </tr>\n",
              "  </tbody>\n",
              "</table>\n",
              "</div>"
            ],
            "text/plain": [
              "                                          first_dose_administered\n",
              "state                                                            \n",
              "Maharashtra                                          1.285643e+07\n",
              "Uttar Pradesh                                        1.248250e+07\n",
              "Rajasthan                                            1.021063e+07\n",
              "Gujarat                                              9.819852e+06\n",
              "Karnataka                                            8.569930e+06\n",
              "West Bengal                                          8.272163e+06\n",
              "Madhya Pradesh                                       8.062365e+06\n",
              "Bihar                                                6.648267e+06\n",
              "Tamil Nadu                                           5.822774e+06\n",
              "Andhra Pradesh                                       5.618080e+06\n",
              "Kerala                                               5.498269e+06\n",
              "Odisha                                               4.760202e+06\n",
              "Chhattisgarh                                         4.055428e+06\n",
              "Telangana                                            4.052632e+06\n",
              "Haryana                                              3.476016e+06\n",
              "Punjab                                               2.910128e+06\n",
              "Delhi                                                2.890706e+06\n",
              "Jharkhand                                            2.756446e+06\n",
              "Assam                                                2.605717e+06\n",
              "Jammu and Kashmir                                    1.893087e+06\n",
              "Uttarakhand                                          1.659935e+06\n",
              "Himachal Pradesh                                     1.451539e+06\n",
              "Miscellaneous                                        1.293893e+06\n",
              "Tripura                                              8.896715e+05\n",
              "Goa                                                  3.454011e+05\n",
              "Manipur                                              3.014702e+05\n",
              "Meghalaya                                            2.822064e+05\n",
              "Arunachal Pradesh                                    2.238146e+05\n",
              "Mizoram                                              2.191396e+05\n",
              "Chandigarh                                           2.025486e+05\n",
              "Nagaland                                             1.933277e+05\n",
              "Puducherry                                           1.882215e+05\n",
              "Sikkim                                               1.693881e+05\n",
              "Dadra and Nagar Haveli and Daman and Diu             1.517631e+05\n",
              "Ladakh                                               8.329843e+04\n",
              "Andaman and Nicobar Islands                          7.561257e+04\n",
              "Lakshadweep                                          2.034488e+04"
            ]
          },
          "metadata": {
            "tags": []
          },
          "execution_count": 48
        }
      ]
    },
    {
      "cell_type": "markdown",
      "metadata": {
        "id": "62Re9Mg2sUHG"
      },
      "source": [
        "Q: Which are the top 5 states have highest fully vaccinated population:\n",
        "\n",
        "A:\n",
        "1. Maharashtra > Top-1\n",
        "2. Uttar Pradesh > Top-2\n",
        "3. Rajasthan > Top-3\n",
        "4. Gujarat > Top-4\n",
        "5. Karnataka > Top-5"
      ]
    },
    {
      "cell_type": "code",
      "metadata": {
        "colab": {
          "base_uri": "https://localhost:8080/",
          "height": 390
        },
        "id": "mGnTfTbysYYi",
        "outputId": "1bdb696e-372e-4e89-affd-ba63983e18d5"
      },
      "source": [
        "states_with_high_vaccines = statewise_india_vaccines_df.groupby(['state']).agg({'first_dose_administered': 'sum', \n",
        "                                                                                'second_dose_administered': 'sum'}).sort_values(by='first_dose_administered', ascending=False)\n",
        "states_with_high_vaccines.head(10)"
      ],
      "execution_count": 49,
      "outputs": [
        {
          "output_type": "execute_result",
          "data": {
            "text/html": [
              "<div>\n",
              "<style scoped>\n",
              "    .dataframe tbody tr th:only-of-type {\n",
              "        vertical-align: middle;\n",
              "    }\n",
              "\n",
              "    .dataframe tbody tr th {\n",
              "        vertical-align: top;\n",
              "    }\n",
              "\n",
              "    .dataframe thead th {\n",
              "        text-align: right;\n",
              "    }\n",
              "</style>\n",
              "<table border=\"1\" class=\"dataframe\">\n",
              "  <thead>\n",
              "    <tr style=\"text-align: right;\">\n",
              "      <th></th>\n",
              "      <th>first_dose_administered</th>\n",
              "      <th>second_dose_administered</th>\n",
              "    </tr>\n",
              "    <tr>\n",
              "      <th>state</th>\n",
              "      <th></th>\n",
              "      <th></th>\n",
              "    </tr>\n",
              "  </thead>\n",
              "  <tbody>\n",
              "    <tr>\n",
              "      <th>Maharashtra</th>\n",
              "      <td>2545573694</td>\n",
              "      <td>630232450</td>\n",
              "    </tr>\n",
              "    <tr>\n",
              "      <th>Uttar Pradesh</th>\n",
              "      <td>2471535709</td>\n",
              "      <td>492665780</td>\n",
              "    </tr>\n",
              "    <tr>\n",
              "      <th>Rajasthan</th>\n",
              "      <td>2021705331</td>\n",
              "      <td>435281051</td>\n",
              "    </tr>\n",
              "    <tr>\n",
              "      <th>Gujarat</th>\n",
              "      <td>1944330604</td>\n",
              "      <td>539192893</td>\n",
              "    </tr>\n",
              "    <tr>\n",
              "      <th>Karnataka</th>\n",
              "      <td>1696846152</td>\n",
              "      <td>376237451</td>\n",
              "    </tr>\n",
              "    <tr>\n",
              "      <th>West Bengal</th>\n",
              "      <td>1637888317</td>\n",
              "      <td>523289440</td>\n",
              "    </tr>\n",
              "    <tr>\n",
              "      <th>Madhya Pradesh</th>\n",
              "      <td>1596348235</td>\n",
              "      <td>277970389</td>\n",
              "    </tr>\n",
              "    <tr>\n",
              "      <th>Bihar</th>\n",
              "      <td>1316356850</td>\n",
              "      <td>241247319</td>\n",
              "    </tr>\n",
              "    <tr>\n",
              "      <th>Tamil Nadu</th>\n",
              "      <td>1152909191</td>\n",
              "      <td>259654367</td>\n",
              "    </tr>\n",
              "    <tr>\n",
              "      <th>Andhra Pradesh</th>\n",
              "      <td>1112379770</td>\n",
              "      <td>316553353</td>\n",
              "    </tr>\n",
              "  </tbody>\n",
              "</table>\n",
              "</div>"
            ],
            "text/plain": [
              "                first_dose_administered  second_dose_administered\n",
              "state                                                            \n",
              "Maharashtra                  2545573694                 630232450\n",
              "Uttar Pradesh                2471535709                 492665780\n",
              "Rajasthan                    2021705331                 435281051\n",
              "Gujarat                      1944330604                 539192893\n",
              "Karnataka                    1696846152                 376237451\n",
              "West Bengal                  1637888317                 523289440\n",
              "Madhya Pradesh               1596348235                 277970389\n",
              "Bihar                        1316356850                 241247319\n",
              "Tamil Nadu                   1152909191                 259654367\n",
              "Andhra Pradesh               1112379770                 316553353"
            ]
          },
          "metadata": {
            "tags": []
          },
          "execution_count": 49
        }
      ]
    },
    {
      "cell_type": "code",
      "metadata": {
        "colab": {
          "base_uri": "https://localhost:8080/",
          "height": 695
        },
        "id": "CWVYdtOYsfBI",
        "outputId": "cc83e6a9-2600-4591-ab78-14b53fcf5d46"
      },
      "source": [
        "plt.figure(figsize=(20,7))\n",
        "\n",
        "sns.barplot(data=statewise_india_vaccines_df, \n",
        "            x='state', \n",
        "            y='first_dose_administered')\n",
        "\n",
        "plt.xlabel('States in India')\n",
        "plt.ylabel('First dose administered')\n",
        "plt.title('Visual trend of total people vaccinated once and state-wise', fontsize=17, y=1.05)\n",
        "plt.xticks(rotation=90)\n",
        "plt.show()"
      ],
      "execution_count": 50,
      "outputs": [
        {
          "output_type": "display_data",
          "data": {
            "image/png": "[encoded data removed]",
            "text/plain": [
              "<Figure size 1440x504 with 1 Axes>"
            ]
          },
          "metadata": {
            "tags": []
          }
        }
      ]
    },
    {
      "cell_type": "code",
      "metadata": {
        "colab": {
          "base_uri": "https://localhost:8080/",
          "height": 695
        },
        "id": "AMkpqyASsk1X",
        "outputId": "2c5585dd-03b1-4186-aa5e-571465d9f4d4"
      },
      "source": [
        "plt.figure(figsize=(20,7))\n",
        "\n",
        "sns.barplot(data=statewise_india_vaccines_df, \n",
        "            x='state', \n",
        "            y='second_dose_administered')\n",
        "\n",
        "plt.xlabel('States in India')\n",
        "plt.ylabel('Second dose administered')\n",
        "plt.title('Visual trend of total people vaccinated fully state-wise', fontsize=17, y=1.05)\n",
        "plt.xticks(rotation=90)\n",
        "plt.show()"
      ],
      "execution_count": 51,
      "outputs": [
        {
          "output_type": "display_data",
          "data": {
            "image/png": "[encoded data removed]",
            "text/plain": [
              "<Figure size 1440x504 with 1 Axes>"
            ]
          },
          "metadata": {
            "tags": []
          }
        }
      ]
    },
    {
      "cell_type": "code",
      "metadata": {
        "colab": {
          "base_uri": "https://localhost:8080/",
          "height": 695
        },
        "id": "otIL27Xdspif",
        "outputId": "46335a34-1bf3-4d66-cf23-642ae73d0a72"
      },
      "source": [
        "plt.figure(figsize=(20,7))\n",
        "\n",
        "sns.barplot(data=statewise_india_vaccines_df, \n",
        "            x='state', \n",
        "            y='second_dose_administered')\n",
        "\n",
        "plt.xlabel('States in India')\n",
        "plt.ylabel('Total dose administered')\n",
        "plt.title('Visual trend of total vaccinations administered state-wise', fontsize=17, y=1.05)\n",
        "plt.xticks(rotation=90)\n",
        "plt.show()\n"
      ],
      "execution_count": 52,
      "outputs": [
        {
          "output_type": "display_data",
          "data": {
            "image/png": "[encoded data removed]",
            "text/plain": [
              "<Figure size 1440x504 with 1 Axes>"
            ]
          },
          "metadata": {
            "tags": []
          }
        }
      ]
    },
    {
      "cell_type": "code",
      "metadata": {
        "colab": {
          "base_uri": "https://localhost:8080/",
          "height": 264
        },
        "id": "h9xKOOBdstL3",
        "outputId": "f3eafdcf-e1b9-4528-d6b9-04e10e878350"
      },
      "source": [
        "\"\"\"\n",
        "Pivot table using Pandas\n",
        "\"\"\"\n",
        "\n",
        "statewise_vaccinations_pivot = pd.pivot_table(statewise_india_vaccines_df, \n",
        "                                    values=['first_dose_administered', 'second_dose_administered', 'total_dose_administered', 'month'], \n",
        "                                    columns='state', \n",
        "                                    aggfunc={\n",
        "                                        'first_dose_administered': np.sum,\n",
        "                                        'second_dose_administered': np.sum,\n",
        "                                        'total_dose_administered': np.sum\n",
        "                                    }, \n",
        "                                    fill_value=0)\n",
        "\n",
        "statewise_vaccinations_pivot\n"
      ],
      "execution_count": 53,
      "outputs": [
        {
          "output_type": "execute_result",
          "data": {
            "text/html": [
              "<div>\n",
              "<style scoped>\n",
              "    .dataframe tbody tr th:only-of-type {\n",
              "        vertical-align: middle;\n",
              "    }\n",
              "\n",
              "    .dataframe tbody tr th {\n",
              "        vertical-align: top;\n",
              "    }\n",
              "\n",
              "    .dataframe thead th {\n",
              "        text-align: right;\n",
              "    }\n",
              "</style>\n",
              "<table border=\"1\" class=\"dataframe\">\n",
              "  <thead>\n",
              "    <tr style=\"text-align: right;\">\n",
              "      <th>state</th>\n",
              "      <th>Andaman and Nicobar Islands</th>\n",
              "      <th>Andhra Pradesh</th>\n",
              "      <th>Arunachal Pradesh</th>\n",
              "      <th>Assam</th>\n",
              "      <th>Bihar</th>\n",
              "      <th>Chandigarh</th>\n",
              "      <th>Chhattisgarh</th>\n",
              "      <th>Dadra and Nagar Haveli and Daman and Diu</th>\n",
              "      <th>Delhi</th>\n",
              "      <th>Goa</th>\n",
              "      <th>Gujarat</th>\n",
              "      <th>Haryana</th>\n",
              "      <th>Himachal Pradesh</th>\n",
              "      <th>Jammu and Kashmir</th>\n",
              "      <th>Jharkhand</th>\n",
              "      <th>Karnataka</th>\n",
              "      <th>Kerala</th>\n",
              "      <th>Ladakh</th>\n",
              "      <th>Lakshadweep</th>\n",
              "      <th>Madhya Pradesh</th>\n",
              "      <th>Maharashtra</th>\n",
              "      <th>Manipur</th>\n",
              "      <th>Meghalaya</th>\n",
              "      <th>Miscellaneous</th>\n",
              "      <th>Mizoram</th>\n",
              "      <th>Nagaland</th>\n",
              "      <th>Odisha</th>\n",
              "      <th>Puducherry</th>\n",
              "      <th>Punjab</th>\n",
              "      <th>Rajasthan</th>\n",
              "      <th>Sikkim</th>\n",
              "      <th>Tamil Nadu</th>\n",
              "      <th>Telangana</th>\n",
              "      <th>Tripura</th>\n",
              "      <th>Uttar Pradesh</th>\n",
              "      <th>Uttarakhand</th>\n",
              "      <th>West Bengal</th>\n",
              "    </tr>\n",
              "  </thead>\n",
              "  <tbody>\n",
              "    <tr>\n",
              "      <th>first_dose_administered</th>\n",
              "      <td>14971289</td>\n",
              "      <td>1112379770</td>\n",
              "      <td>44315282</td>\n",
              "      <td>515931904</td>\n",
              "      <td>1316356850</td>\n",
              "      <td>40104621</td>\n",
              "      <td>802974690</td>\n",
              "      <td>30049098</td>\n",
              "      <td>572359798</td>\n",
              "      <td>68389417</td>\n",
              "      <td>1944330604</td>\n",
              "      <td>688251215</td>\n",
              "      <td>287404804</td>\n",
              "      <td>374831223</td>\n",
              "      <td>545776308</td>\n",
              "      <td>1696846152</td>\n",
              "      <td>1088657266</td>\n",
              "      <td>16493089</td>\n",
              "      <td>4028286</td>\n",
              "      <td>1596348235</td>\n",
              "      <td>2545573694</td>\n",
              "      <td>59691090</td>\n",
              "      <td>55876870</td>\n",
              "      <td>256190839</td>\n",
              "      <td>43389643</td>\n",
              "      <td>38278875</td>\n",
              "      <td>942520044</td>\n",
              "      <td>37267853</td>\n",
              "      <td>576205292</td>\n",
              "      <td>2021705331</td>\n",
              "      <td>33538843</td>\n",
              "      <td>1152909191</td>\n",
              "      <td>802421157</td>\n",
              "      <td>176154950</td>\n",
              "      <td>2471535709</td>\n",
              "      <td>328667202</td>\n",
              "      <td>1637888317</td>\n",
              "    </tr>\n",
              "    <tr>\n",
              "      <th>second_dose_administered</th>\n",
              "      <td>3484031</td>\n",
              "      <td>316553353</td>\n",
              "      <td>10656562</td>\n",
              "      <td>115839458</td>\n",
              "      <td>241247319</td>\n",
              "      <td>10095864</td>\n",
              "      <td>155996012</td>\n",
              "      <td>4087106</td>\n",
              "      <td>167880397</td>\n",
              "      <td>14130996</td>\n",
              "      <td>539192893</td>\n",
              "      <td>139305854</td>\n",
              "      <td>64657823</td>\n",
              "      <td>75932092</td>\n",
              "      <td>108249756</td>\n",
              "      <td>376237451</td>\n",
              "      <td>319401290</td>\n",
              "      <td>4968916</td>\n",
              "      <td>960120</td>\n",
              "      <td>277970389</td>\n",
              "      <td>630232450</td>\n",
              "      <td>10281706</td>\n",
              "      <td>10554603</td>\n",
              "      <td>180050985</td>\n",
              "      <td>8577840</td>\n",
              "      <td>8157724</td>\n",
              "      <td>224184320</td>\n",
              "      <td>7561290</td>\n",
              "      <td>106092024</td>\n",
              "      <td>435281051</td>\n",
              "      <td>8668733</td>\n",
              "      <td>259654367</td>\n",
              "      <td>171017535</td>\n",
              "      <td>59707616</td>\n",
              "      <td>492665780</td>\n",
              "      <td>89127943</td>\n",
              "      <td>523289440</td>\n",
              "    </tr>\n",
              "    <tr>\n",
              "      <th>total_dose_administered</th>\n",
              "      <td>18455320</td>\n",
              "      <td>1428933123</td>\n",
              "      <td>54971844</td>\n",
              "      <td>631771362</td>\n",
              "      <td>1557604169</td>\n",
              "      <td>50200485</td>\n",
              "      <td>958970702</td>\n",
              "      <td>34136204</td>\n",
              "      <td>740240195</td>\n",
              "      <td>82520413</td>\n",
              "      <td>2483523497</td>\n",
              "      <td>827557069</td>\n",
              "      <td>352062627</td>\n",
              "      <td>450763315</td>\n",
              "      <td>654026064</td>\n",
              "      <td>2073083603</td>\n",
              "      <td>1408058556</td>\n",
              "      <td>21462005</td>\n",
              "      <td>4988406</td>\n",
              "      <td>1874318624</td>\n",
              "      <td>3175806144</td>\n",
              "      <td>69972796</td>\n",
              "      <td>66431473</td>\n",
              "      <td>436241824</td>\n",
              "      <td>51967483</td>\n",
              "      <td>46436599</td>\n",
              "      <td>1166704364</td>\n",
              "      <td>44829143</td>\n",
              "      <td>682297316</td>\n",
              "      <td>2456986382</td>\n",
              "      <td>42207576</td>\n",
              "      <td>1412563558</td>\n",
              "      <td>973438692</td>\n",
              "      <td>235862566</td>\n",
              "      <td>2964201489</td>\n",
              "      <td>417795145</td>\n",
              "      <td>2161177757</td>\n",
              "    </tr>\n",
              "  </tbody>\n",
              "</table>\n",
              "</div>"
            ],
            "text/plain": [
              "state                     Andaman and Nicobar Islands  ...  West Bengal\n",
              "first_dose_administered                      14971289  ...   1637888317\n",
              "second_dose_administered                      3484031  ...    523289440\n",
              "total_dose_administered                      18455320  ...   2161177757\n",
              "\n",
              "[3 rows x 37 columns]"
            ]
          },
          "metadata": {
            "tags": []
          },
          "execution_count": 53
        }
      ]
    },
    {
      "cell_type": "markdown",
      "metadata": {
        "id": "nmyOYHJfs4yl"
      },
      "source": [
        "# Summary\n",
        "### Insights from the above analysis and graphs:\n",
        "1. Vaccinations in India started from 15th January 2021\n",
        "\n",
        "2. Vaccinations were beginned with two types: Covaxin, Oxford/AstraZeneca\n",
        "\n",
        "3. From June onwards Sputnik V has been given along with Covaxin, Oxford/AstraZeneca\n",
        "\n",
        "4. Total daily vaccinations given every month country-wise India:\n",
        "\n",
        "  Jan -> 3379485.0\n",
        "\n",
        "  Feb -> 10103631.0\n",
        "\n",
        "  March -> 47519159.0\n",
        "\n",
        "  Apr -> 84035890.0\n",
        "\n",
        "  May -> 58936437.0\n",
        "\n",
        "  June -> 113298089.0\n",
        "\n",
        "  July -> 90848206.0\n",
        "\n",
        "5. Top 5 states in India having more fully vaccinated population:\n",
        "\n",
        "  Maharashtra > Top-1\n",
        "\n",
        "  Uttar Pradesh > Top-2\n",
        "\n",
        "  Rajasthan > Top-3\n",
        "\n",
        "  Gujarat > Top-4\n",
        "  \n",
        "  Karnataka > Top-5"
      ]
    },
    {
      "cell_type": "code",
      "metadata": {
        "id": "bYeCD-u6tXEB"
      },
      "source": [
        ""
      ],
      "execution_count": null,
      "outputs": []
    }
  ]
}